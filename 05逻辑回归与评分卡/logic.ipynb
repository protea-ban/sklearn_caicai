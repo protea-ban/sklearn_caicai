{
 "cells": [
  {
   "cell_type": "code",
   "execution_count": 1,
   "metadata": {},
   "outputs": [],
   "source": [
    "from sklearn.linear_model import LogisticRegression as LR\n",
    "from sklearn.model_selection import train_test_split\n",
    "from sklearn.metrics import accuracy_score\n",
    "from sklearn.datasets import load_breast_cancer\n",
    "import numpy as np\n",
    "import matplotlib.pyplot as plt"
   ]
  },
  {
   "cell_type": "code",
   "execution_count": 2,
   "metadata": {},
   "outputs": [],
   "source": [
    "data = load_breast_cancer()"
   ]
  },
  {
   "cell_type": "code",
   "execution_count": 3,
   "metadata": {},
   "outputs": [],
   "source": [
    "X = data.data\n",
    "y = data.target"
   ]
  },
  {
   "cell_type": "code",
   "execution_count": 4,
   "metadata": {},
   "outputs": [
    {
     "data": {
      "text/plain": [
       "(569, 30)"
      ]
     },
     "execution_count": 4,
     "metadata": {},
     "output_type": "execute_result"
    }
   ],
   "source": [
    "X.shape"
   ]
  },
  {
   "cell_type": "code",
   "execution_count": 7,
   "metadata": {},
   "outputs": [],
   "source": [
    "lrl1 = LR(penalty=\"l1\",solver=\"liblinear\",C=0.5,max_iter=1000)\n",
    "lrl2 = LR(penalty=\"l2\",solver=\"liblinear\",C=0.5,max_iter=1000)"
   ]
  },
  {
   "cell_type": "code",
   "execution_count": 8,
   "metadata": {},
   "outputs": [],
   "source": [
    "lrl1 = lrl1.fit(X,y)"
   ]
  },
  {
   "cell_type": "code",
   "execution_count": 9,
   "metadata": {},
   "outputs": [
    {
     "data": {
      "text/plain": [
       "array([[ 4.02239906,  0.03221963, -0.14028821, -0.01622923,  0.        ,\n",
       "         0.        ,  0.        ,  0.        ,  0.        ,  0.        ,\n",
       "         0.        ,  0.50503524,  0.        , -0.07125207,  0.        ,\n",
       "         0.        ,  0.        ,  0.        ,  0.        ,  0.        ,\n",
       "         0.        , -0.24619104, -0.1287801 , -0.0144012 ,  0.        ,\n",
       "         0.        , -2.0186616 ,  0.        ,  0.        ,  0.        ]])"
      ]
     },
     "execution_count": 9,
     "metadata": {},
     "output_type": "execute_result"
    }
   ],
   "source": [
    "# 重要属性coef_，查看每个特征对应的参数\n",
    "lrl1.coef_"
   ]
  },
  {
   "cell_type": "code",
   "execution_count": 10,
   "metadata": {},
   "outputs": [
    {
     "data": {
      "text/plain": [
       "array([10])"
      ]
     },
     "execution_count": 10,
     "metadata": {},
     "output_type": "execute_result"
    }
   ],
   "source": [
    "# 参数中不为零的个数\n",
    "(lrl1.coef_ != 0).sum(axis=1)"
   ]
  },
  {
   "cell_type": "code",
   "execution_count": 11,
   "metadata": {},
   "outputs": [],
   "source": [
    "lrl2 = lrl2.fit(X,y)"
   ]
  },
  {
   "cell_type": "code",
   "execution_count": 12,
   "metadata": {},
   "outputs": [
    {
     "data": {
      "text/plain": [
       "array([[ 1.61454497e+00,  1.02316739e-01,  4.97886800e-02,\n",
       "        -4.59398990e-03, -9.52062394e-02, -3.01447712e-01,\n",
       "        -4.57306387e-01, -2.23853899e-01, -1.37196445e-01,\n",
       "        -1.94113783e-02,  1.43732594e-02,  8.87475122e-01,\n",
       "         1.12849503e-01, -9.42179529e-02, -9.94813740e-03,\n",
       "        -2.24634749e-02, -5.61753487e-02, -2.71569209e-02,\n",
       "        -2.79469307e-02,  4.07968420e-04,  1.24824152e+00,\n",
       "        -3.01727480e-01, -1.71876411e-01, -2.20696658e-02,\n",
       "        -1.75242992e-01, -8.78026780e-01, -1.16439070e+00,\n",
       "        -4.30641527e-01, -4.25341495e-01, -8.69475812e-02]])"
      ]
     },
     "execution_count": 12,
     "metadata": {},
     "output_type": "execute_result"
    }
   ],
   "source": [
    "lrl2.coef_"
   ]
  },
  {
   "cell_type": "code",
   "execution_count": 15,
   "metadata": {},
   "outputs": [],
   "source": [
    "l1 = []\n",
    "l2 = []\n",
    "l1_test = []\n",
    "l2_test = []\n",
    "\n",
    "Xtrain,Xtest,Ytrain,Ytest = train_test_split(X,y,test_size=0.3,random_state=520)\n",
    "\n",
    "for i in np.linspace(0.05,1,19):\n",
    "    lrl1 = LR(penalty=\"l1\",solver=\"liblinear\",C=i,max_iter=1000)\n",
    "    lrl2 = LR(penalty=\"l2\",solver=\"liblinear\",C=i,max_iter=1000)\n",
    "    \n",
    "    lrl1 = lrl1.fit(Xtrain,Ytrain)\n",
    "    l1.append(accuracy_score(lrl1.predict(Xtrain),Ytrain))\n",
    "    l1_test.append(accuracy_score(lrl1.predict(Xtest),Ytest))\n",
    "    \n",
    "    lrl2 = lrl2.fit(Xtrain,Ytrain)\n",
    "    l2.append(accuracy_score(lrl2.predict(Xtrain),Ytrain))\n",
    "    l2_test.append(accuracy_score(lrl2.predict(Xtest),Ytest))"
   ]
  },
  {
   "cell_type": "code",
   "execution_count": 27,
   "metadata": {},
   "outputs": [
    {
     "data": {
      "image/png": "[encoded data removed]",
      "text/plain": [
       "<Figure size 432x432 with 1 Axes>"
      ]
     },
     "metadata": {
      "needs_background": "light"
     },
     "output_type": "display_data"
    }
   ],
   "source": [
    "# import matplotlib.pytlot as plt\n",
    "import matplotlib.pyplot as plt\n",
    "graph = [l1,l2,l1_test,l2_test]\n",
    "color = [\"green\",\"black\",\"lightgreen\",\"gray\"]\n",
    "label = [\"l1\",\"l2\",\"l1_test\",\"l2_test\"]\n",
    "\n",
    "plt.figure(figsize=(6,6))\n",
    "for i in range(len(graph)):\n",
    "    plt.plot(np.linspace(0.05,1,19),graph[i],color[i],label=label[i])\n",
    "plt.legend(loc=4)\n",
    "plt.savefig(\"C_values\",dpi=300)\n",
    "plt.show()"
   ]
  },
  {
   "cell_type": "markdown",
   "metadata": {},
   "source": [
    "### 特征工程"
   ]
  },
  {
   "cell_type": "code",
   "execution_count": 30,
   "metadata": {},
   "outputs": [],
   "source": [
    "from sklearn.linear_model import LogisticRegression as LR\n",
    "from sklearn.model_selection import train_test_split\n",
    "from sklearn.metrics import accuracy_score\n",
    "from sklearn.datasets import load_breast_cancer\n",
    "import numpy as np\n",
    "import matplotlib.pyplot as plt\n",
    "from sklearn.feature_selection import SelectFromModel\n",
    "from sklearn.model_selection import cross_val_score"
   ]
  },
  {
   "cell_type": "code",
   "execution_count": 29,
   "metadata": {},
   "outputs": [],
   "source": [
    "data = load_breast_cancer()"
   ]
  },
  {
   "cell_type": "code",
   "execution_count": 31,
   "metadata": {},
   "outputs": [
    {
     "data": {
      "text/plain": [
       "0.9490601503759398"
      ]
     },
     "execution_count": 31,
     "metadata": {},
     "output_type": "execute_result"
    }
   ],
   "source": [
    "LR_ = LR(solver=\"liblinear\",C=0.9,random_state=520)\n",
    "cross_val_score(LR_,data.data,data.target,cv=10).mean()"
   ]
  },
  {
   "cell_type": "code",
   "execution_count": 32,
   "metadata": {},
   "outputs": [],
   "source": [
    "X_embedded = SelectFromModel(LR_,norm_order=1).fit_transform(data.data,data.target)"
   ]
  },
  {
   "cell_type": "code",
   "execution_count": 33,
   "metadata": {},
   "outputs": [
    {
     "data": {
      "text/plain": [
       "(569, 9)"
      ]
     },
     "execution_count": 33,
     "metadata": {},
     "output_type": "execute_result"
    }
   ],
   "source": [
    "X_embedded.shape"
   ]
  },
  {
   "cell_type": "code",
   "execution_count": 35,
   "metadata": {},
   "outputs": [
    {
     "data": {
      "text/plain": [
       "0.9368107769423559"
      ]
     },
     "execution_count": 35,
     "metadata": {},
     "output_type": "execute_result"
    }
   ],
   "source": [
    "cross_val_score(LR_,X_embedded,data.target,cv=10).mean()"
   ]
  },
  {
   "cell_type": "code",
   "execution_count": 36,
   "metadata": {
    "collapsed": true,
    "jupyter": {
     "outputs_hidden": true
    }
   },
   "outputs": [
    {
     "name": "stdout",
     "output_type": "stream",
     "text": [
      "(0.0, 30)\n",
      "(0.0, 17)\n",
      "(0.0, 12)\n",
      "(0.0, 11)\n",
      "(0.0, 8)\n",
      "(0.0, 8)\n",
      "(0.0, 6)\n",
      "(0.0, 5)\n",
      "(0.0, 5)\n",
      "(0.0, 5)\n",
      "(0.0, 5)\n",
      "(0.0, 4)\n",
      "(0.0, 2)\n",
      "(0.0, 2)\n",
      "(0.0, 2)\n",
      "(0.0, 1)\n",
      "(0.0, 1)\n",
      "(0.0, 1)\n",
      "(0.0, 1)\n",
      "(0.0, 1)\n"
     ]
    },
    {
     "data": {
      "image/png": "[encoded data removed]",
      "text/plain": [
       "<Figure size 1440x360 with 1 Axes>"
      ]
     },
     "metadata": {
      "needs_background": "light"
     },
     "output_type": "display_data"
    }
   ],
   "source": [
    "fullx = []\n",
    "fsx = []\n",
    "\n",
    "threshold = np.linspace(0,(abs(LR_.fit(data.data,data.target).coef_)).max(),20)\n",
    "\n",
    "k=0\n",
    "for i in threshold:\n",
    "    X_embedded = SelectFromModel(LR_,threshold=i).fit_transform(data.data,data.target)\n",
    "    fullx.append(cross_val_score(LR_,data.data,data.target,cv=10).mean())\n",
    "    fsx.append(cross_val_score(LR_,X_embedded,data.target,cv=10).mean())\n",
    "    print((threshold[k],X_embedded.shape[1]))\n",
    "\n",
    "plt.figure(figsize=(20,5))\n",
    "plt.plot(threshold,fullx,label=\"fullx\")\n",
    "plt.plot(threshold,fsx,label=\"feature selection\")\n",
    "plt.xticks(threshold)\n",
    "plt.legend()\n",
    "plt.savefig(\"fsx\",dpi=300)\n",
    "plt.show()"
   ]
  },
  {
   "cell_type": "code",
   "execution_count": 41,
   "metadata": {},
   "outputs": [
    {
     "name": "stdout",
     "output_type": "stream",
     "text": [
      "0.9561090225563911 7.51\n"
     ]
    },
    {
     "data": {
      "image/png": "[encoded data removed]",
      "text/plain": [
       "<Figure size 1440x360 with 1 Axes>"
      ]
     },
     "metadata": {
      "needs_background": "light"
     },
     "output_type": "display_data"
    }
   ],
   "source": [
    "fullx = []\n",
    "fsx = []\n",
    "\n",
    "C = np.arange(0.01,10.01,0.5)\n",
    "for i in C:\n",
    "    LR_ = LR(solver=\"liblinear\",C=i,random_state=520)\n",
    "    X_embedded = SelectFromModel(LR_,norm_order=1).fit_transform(data.data,data.target)\n",
    "    fullx.append(cross_val_score(LR_,data.data,data.target,cv=10).mean())\n",
    "    fsx.append(cross_val_score(LR_,X_embedded,data.target,cv=10).mean())\n",
    "\n",
    "print(max(fsx),C[fsx.index(max(fsx))])\n",
    "    \n",
    "plt.figure(figsize=(20,5))\n",
    "plt.plot(threshold,fullx,label=\"fullx\")\n",
    "plt.plot(threshold,fsx,label=\"feature selection\")\n",
    "plt.xticks(threshold)\n",
    "plt.legend()\n",
    "plt.savefig(\"fsx_C\",dpi=300)\n",
    "plt.show()"
   ]
  },
  {
   "cell_type": "code",
   "execution_count": 42,
   "metadata": {},
   "outputs": [
    {
     "name": "stdout",
     "output_type": "stream",
     "text": [
      "0.9561090225563911 6.704999999999996\n"
     ]
    },
    {
     "data": {
      "image/png": "[encoded data removed]",
      "text/plain": [
       "<Figure size 1440x360 with 1 Axes>"
      ]
     },
     "metadata": {
      "needs_background": "light"
     },
     "output_type": "display_data"
    }
   ],
   "source": [
    "fullx = []\n",
    "fsx = []\n",
    "\n",
    "C = np.arange(6.51,7.51,0.005)\n",
    "for i in C:\n",
    "    LR_ = LR(solver=\"liblinear\",C=i,random_state=520)\n",
    "    X_embedded = SelectFromModel(LR_,norm_order=1).fit_transform(data.data,data.target)\n",
    "    fullx.append(cross_val_score(LR_,data.data,data.target,cv=10).mean())\n",
    "    fsx.append(cross_val_score(LR_,X_embedded,data.target,cv=10).mean())\n",
    "\n",
    "print(max(fsx),C[fsx.index(max(fsx))])\n",
    "    \n",
    "plt.figure(figsize=(20,5))\n",
    "plt.plot(C,fullx,label=\"fullx\")\n",
    "plt.plot(C,fsx,label=\"feature selection\")\n",
    "plt.xticks(C)\n",
    "plt.legend()\n",
    "plt.savefig(\"fsx_C2\",dpi=300)\n",
    "plt.show()"
   ]
  },
  {
   "cell_type": "code",
   "execution_count": 47,
   "metadata": {},
   "outputs": [
    {
     "data": {
      "text/plain": [
       "0.9508145363408522"
      ]
     },
     "execution_count": 47,
     "metadata": {},
     "output_type": "execute_result"
    }
   ],
   "source": [
    "#验证模型效果：降维之前\n",
    "LR_ = LR(solver=\"liblinear\",C=6.704999999999996,random_state=520) \n",
    "cross_val_score(LR_,data.data,data.target,cv=10).mean()"
   ]
  },
  {
   "cell_type": "code",
   "execution_count": 48,
   "metadata": {},
   "outputs": [
    {
     "data": {
      "text/plain": [
       "0.9561090225563911"
      ]
     },
     "execution_count": 48,
     "metadata": {},
     "output_type": "execute_result"
    }
   ],
   "source": [
    "#验证模型效果：降维之后\n",
    "LR_ = LR(solver=\"liblinear\",C=6.704999999999996,random_state=520) \n",
    "X_embedded = SelectFromModel(LR_,norm_order=1).fit_transform(data.data,data.target) \n",
    "cross_val_score(LR_,X_embedded,data.target,cv=10).mean()"
   ]
  },
  {
   "cell_type": "code",
   "execution_count": 49,
   "metadata": {},
   "outputs": [
    {
     "data": {
      "text/plain": [
       "(569, 9)"
      ]
     },
     "execution_count": 49,
     "metadata": {},
     "output_type": "execute_result"
    }
   ],
   "source": [
    "X_embedded.shape"
   ]
  },
  {
   "cell_type": "markdown",
   "metadata": {},
   "source": [
    "### max_iter学习曲线"
   ]
  },
  {
   "cell_type": "code",
   "execution_count": 4,
   "metadata": {},
   "outputs": [
    {
     "name": "stderr",
     "output_type": "stream",
     "text": [
      "/home/shban/anaconda3/lib/python3.7/site-packages/sklearn/svm/_base.py:947: ConvergenceWarning: Liblinear failed to converge, increase the number of iterations.\n",
      "  \"the number of iterations.\", ConvergenceWarning)\n",
      "/home/shban/anaconda3/lib/python3.7/site-packages/sklearn/svm/_base.py:947: ConvergenceWarning: Liblinear failed to converge, increase the number of iterations.\n",
      "  \"the number of iterations.\", ConvergenceWarning)\n"
     ]
    },
    {
     "data": {
      "image/png": "[encoded data removed]",
      "text/plain": [
       "<Figure size 1440x360 with 1 Axes>"
      ]
     },
     "metadata": {
      "needs_background": "light"
     },
     "output_type": "display_data"
    }
   ],
   "source": [
    "l2 = []\n",
    "l2_test = []\n",
    "\n",
    "Xtrain,Xtest,Ytrain,Ytest = train_test_split(X,y,test_size=0.3,random_state=520)\n",
    "\n",
    "for i in np.arange(1,201,10):\n",
    "    lrl2 = LR(penalty=\"l2\",solver=\"liblinear\",C=0.9,max_iter=i)\n",
    "    lrl2 = lrl2.fit(Xtrain,Ytrain)\n",
    "    l2.append(accuracy_score(lrl2.predict(Xtrain),Ytrain))\n",
    "    l2_test.append(accuracy_score(lrl2.predict(Xtest),Ytest))\n",
    "    \n",
    "graph = [l2,l2_test]\n",
    "color = [\"black\", \"gray\"]\n",
    "label = [\"L2\",\"L2test\"]\n",
    "\n",
    "plt.figure(figsize=(20,5))\n",
    "for i in range(len(graph)):\n",
    "    plt.plot(np.arange(1,201,10),graph[i],color[i],label=label[i])\n",
    "\n",
    "plt.legend(loc=4)\n",
    "plt.xticks(np.arange(1,201,10))\n",
    "plt.savefig(\"max_iter\",dpi=300)\n",
    "plt.show()"
   ]
  },
  {
   "cell_type": "code",
   "execution_count": 5,
   "metadata": {},
   "outputs": [
    {
     "data": {
      "text/plain": [
       "array([19], dtype=int32)"
      ]
     },
     "execution_count": 5,
     "metadata": {},
     "output_type": "execute_result"
    }
   ],
   "source": [
    "#我们可以使用属性.n_iter_来调用本次求解中真正实现的迭代次数\n",
    "lr = LR(penalty=\"l2\",solver=\"liblinear\",C=0.9,max_iter=300).fit(Xtrain,Ytrain)\n",
    "lr.n_iter_"
   ]
  },
  {
   "cell_type": "code",
   "execution_count": 7,
   "metadata": {},
   "outputs": [
    {
     "name": "stdout",
     "output_type": "stream",
     "text": [
      "training score : 0.960 (ovr)\n"
     ]
    },
    {
     "name": "stderr",
     "output_type": "stream",
     "text": [
      "/home/shban/anaconda3/lib/python3.7/site-packages/sklearn/linear_model/_sag.py:330: ConvergenceWarning: The max_iter was reached which means the coef_ did not converge\n",
      "  \"the coef_ did not converge\", ConvergenceWarning)\n",
      "/home/shban/anaconda3/lib/python3.7/site-packages/sklearn/linear_model/_sag.py:330: ConvergenceWarning: The max_iter was reached which means the coef_ did not converge\n",
      "  \"the coef_ did not converge\", ConvergenceWarning)\n",
      "/home/shban/anaconda3/lib/python3.7/site-packages/sklearn/linear_model/_sag.py:330: ConvergenceWarning: The max_iter was reached which means the coef_ did not converge\n",
      "  \"the coef_ did not converge\", ConvergenceWarning)\n",
      "/home/shban/anaconda3/lib/python3.7/site-packages/sklearn/linear_model/_sag.py:330: ConvergenceWarning: The max_iter was reached which means the coef_ did not converge\n",
      "  \"the coef_ did not converge\", ConvergenceWarning)\n"
     ]
    }
   ],
   "source": [
    "from sklearn.datasets import load_iris\n",
    "iris = load_iris()\n",
    "\n",
    "for multi_class in (\"multinomial\",\"ovr\"):\n",
    "    clf = LR(solver='sag',max_iter=100,random_state=42,\n",
    "             multi_class=multi_class).fit(iris.data,iris.target)\n",
    "\n",
    "    #打印两种multi_class模式下的训练分数\n",
    "#%的用法，用%来代替打印的字符串中，想由变量替换的部分。%.3f表示，保留三位小数的浮点数。%s表示，字符串。 #字符串后的%后使用元祖来容纳变量，字符串中有几个%，元祖中就需要有几个变量\n",
    "print(\"training score : %.3f (%s)\" % (clf.score(iris.data, iris.target),multi_class))"
   ]
  },
  {
   "cell_type": "markdown",
   "metadata": {},
   "source": [
    "## 评分卡案例"
   ]
  },
  {
   "cell_type": "code",
   "execution_count": 1,
   "metadata": {},
   "outputs": [],
   "source": [
    "%matplotlib inline\n",
    "import numpy as np\n",
    "import pandas as pd\n",
    "from sklearn.linear_model import LogisticRegression as LR"
   ]
  },
  {
   "cell_type": "code",
   "execution_count": 2,
   "metadata": {},
   "outputs": [],
   "source": [
    "data = pd.read_csv('rankingcard.csv')"
   ]
  },
  {
   "cell_type": "code",
   "execution_count": 3,
   "metadata": {},
   "outputs": [
    {
     "name": "stdout",
     "output_type": "stream",
     "text": [
      "<class 'pandas.core.frame.DataFrame'>\n",
      "RangeIndex: 150000 entries, 0 to 149999\n",
      "Data columns (total 12 columns):\n",
      " #   Column                                Non-Null Count   Dtype  \n",
      "---  ------                                --------------   -----  \n",
      " 0   Unnamed: 0                            150000 non-null  int64  \n",
      " 1   SeriousDlqin2yrs                      150000 non-null  int64  \n",
      " 2   RevolvingUtilizationOfUnsecuredLines  150000 non-null  float64\n",
      " 3   age                                   150000 non-null  int64  \n",
      " 4   NumberOfTime30-59DaysPastDueNotWorse  150000 non-null  int64  \n",
      " 5   DebtRatio                             150000 non-null  float64\n",
      " 6   MonthlyIncome                         120269 non-null  float64\n",
      " 7   NumberOfOpenCreditLinesAndLoans       150000 non-null  int64  \n",
      " 8   NumberOfTimes90DaysLate               150000 non-null  int64  \n",
      " 9   NumberRealEstateLoansOrLines          150000 non-null  int64  \n",
      " 10  NumberOfTime60-89DaysPastDueNotWorse  150000 non-null  int64  \n",
      " 11  NumberOfDependents                    146076 non-null  float64\n",
      "dtypes: float64(4), int64(8)\n",
      "memory usage: 13.7 MB\n"
     ]
    }
   ],
   "source": [
    "data.info()"
   ]
  },
  {
   "cell_type": "code",
   "execution_count": 4,
   "metadata": {},
   "outputs": [
    {
     "data": {
      "text/html": [
       "<div>\n",
       "<style scoped>\n",
       "    .dataframe tbody tr th:only-of-type {\n",
       "        vertical-align: middle;\n",
       "    }\n",
       "\n",
       "    .dataframe tbody tr th {\n",
       "        vertical-align: top;\n",
       "    }\n",
       "\n",
       "    .dataframe thead th {\n",
       "        text-align: right;\n",
       "    }\n",
       "</style>\n",
       "<table border=\"1\" class=\"dataframe\">\n",
       "  <thead>\n",
       "    <tr style=\"text-align: right;\">\n",
       "      <th></th>\n",
       "      <th>Unnamed: 0</th>\n",
       "      <th>SeriousDlqin2yrs</th>\n",
       "      <th>RevolvingUtilizationOfUnsecuredLines</th>\n",
       "      <th>age</th>\n",
       "      <th>NumberOfTime30-59DaysPastDueNotWorse</th>\n",
       "      <th>DebtRatio</th>\n",
       "      <th>MonthlyIncome</th>\n",
       "      <th>NumberOfOpenCreditLinesAndLoans</th>\n",
       "      <th>NumberOfTimes90DaysLate</th>\n",
       "      <th>NumberRealEstateLoansOrLines</th>\n",
       "      <th>NumberOfTime60-89DaysPastDueNotWorse</th>\n",
       "      <th>NumberOfDependents</th>\n",
       "    </tr>\n",
       "  </thead>\n",
       "  <tbody>\n",
       "    <tr>\n",
       "      <th>0</th>\n",
       "      <td>1</td>\n",
       "      <td>1</td>\n",
       "      <td>0.766127</td>\n",
       "      <td>45</td>\n",
       "      <td>2</td>\n",
       "      <td>0.802982</td>\n",
       "      <td>9120.0</td>\n",
       "      <td>13</td>\n",
       "      <td>0</td>\n",
       "      <td>6</td>\n",
       "      <td>0</td>\n",
       "      <td>2.0</td>\n",
       "    </tr>\n",
       "    <tr>\n",
       "      <th>1</th>\n",
       "      <td>2</td>\n",
       "      <td>0</td>\n",
       "      <td>0.957151</td>\n",
       "      <td>40</td>\n",
       "      <td>0</td>\n",
       "      <td>0.121876</td>\n",
       "      <td>2600.0</td>\n",
       "      <td>4</td>\n",
       "      <td>0</td>\n",
       "      <td>0</td>\n",
       "      <td>0</td>\n",
       "      <td>1.0</td>\n",
       "    </tr>\n",
       "    <tr>\n",
       "      <th>2</th>\n",
       "      <td>3</td>\n",
       "      <td>0</td>\n",
       "      <td>0.658180</td>\n",
       "      <td>38</td>\n",
       "      <td>1</td>\n",
       "      <td>0.085113</td>\n",
       "      <td>3042.0</td>\n",
       "      <td>2</td>\n",
       "      <td>1</td>\n",
       "      <td>0</td>\n",
       "      <td>0</td>\n",
       "      <td>0.0</td>\n",
       "    </tr>\n",
       "    <tr>\n",
       "      <th>3</th>\n",
       "      <td>4</td>\n",
       "      <td>0</td>\n",
       "      <td>0.233810</td>\n",
       "      <td>30</td>\n",
       "      <td>0</td>\n",
       "      <td>0.036050</td>\n",
       "      <td>3300.0</td>\n",
       "      <td>5</td>\n",
       "      <td>0</td>\n",
       "      <td>0</td>\n",
       "      <td>0</td>\n",
       "      <td>0.0</td>\n",
       "    </tr>\n",
       "    <tr>\n",
       "      <th>4</th>\n",
       "      <td>5</td>\n",
       "      <td>0</td>\n",
       "      <td>0.907239</td>\n",
       "      <td>49</td>\n",
       "      <td>1</td>\n",
       "      <td>0.024926</td>\n",
       "      <td>63588.0</td>\n",
       "      <td>7</td>\n",
       "      <td>0</td>\n",
       "      <td>1</td>\n",
       "      <td>0</td>\n",
       "      <td>0.0</td>\n",
       "    </tr>\n",
       "  </tbody>\n",
       "</table>\n",
       "</div>"
      ],
      "text/plain": [
       "   Unnamed: 0  SeriousDlqin2yrs  RevolvingUtilizationOfUnsecuredLines  age  \\\n",
       "0           1                 1                              0.766127   45   \n",
       "1           2                 0                              0.957151   40   \n",
       "2           3                 0                              0.658180   38   \n",
       "3           4                 0                              0.233810   30   \n",
       "4           5                 0                              0.907239   49   \n",
       "\n",
       "   NumberOfTime30-59DaysPastDueNotWorse  DebtRatio  MonthlyIncome  \\\n",
       "0                                     2   0.802982         9120.0   \n",
       "1                                     0   0.121876         2600.0   \n",
       "2                                     1   0.085113         3042.0   \n",
       "3                                     0   0.036050         3300.0   \n",
       "4                                     1   0.024926        63588.0   \n",
       "\n",
       "   NumberOfOpenCreditLinesAndLoans  NumberOfTimes90DaysLate  \\\n",
       "0                               13                        0   \n",
       "1                                4                        0   \n",
       "2                                2                        1   \n",
       "3                                5                        0   \n",
       "4                                7                        0   \n",
       "\n",
       "   NumberRealEstateLoansOrLines  NumberOfTime60-89DaysPastDueNotWorse  \\\n",
       "0                             6                                     0   \n",
       "1                             0                                     0   \n",
       "2                             0                                     0   \n",
       "3                             0                                     0   \n",
       "4                             1                                     0   \n",
       "\n",
       "   NumberOfDependents  \n",
       "0                 2.0  \n",
       "1                 1.0  \n",
       "2                 0.0  \n",
       "3                 0.0  \n",
       "4                 0.0  "
      ]
     },
     "execution_count": 4,
     "metadata": {},
     "output_type": "execute_result"
    }
   ],
   "source": [
    "data.head()"
   ]
  },
  {
   "cell_type": "code",
   "execution_count": 5,
   "metadata": {},
   "outputs": [
    {
     "data": {
      "text/plain": [
       "(150000, 12)"
      ]
     },
     "execution_count": 5,
     "metadata": {},
     "output_type": "execute_result"
    }
   ],
   "source": [
    "data.shape"
   ]
  },
  {
   "cell_type": "code",
   "execution_count": 6,
   "metadata": {},
   "outputs": [
    {
     "name": "stdout",
     "output_type": "stream",
     "text": [
      "<class 'pandas.core.frame.DataFrame'>\n",
      "Int64Index: 150000 entries, 0 to 149999\n",
      "Data columns (total 12 columns):\n",
      " #   Column                                Non-Null Count   Dtype  \n",
      "---  ------                                --------------   -----  \n",
      " 0   Unnamed: 0                            150000 non-null  int64  \n",
      " 1   SeriousDlqin2yrs                      150000 non-null  int64  \n",
      " 2   RevolvingUtilizationOfUnsecuredLines  150000 non-null  float64\n",
      " 3   age                                   150000 non-null  int64  \n",
      " 4   NumberOfTime30-59DaysPastDueNotWorse  150000 non-null  int64  \n",
      " 5   DebtRatio                             150000 non-null  float64\n",
      " 6   MonthlyIncome                         120269 non-null  float64\n",
      " 7   NumberOfOpenCreditLinesAndLoans       150000 non-null  int64  \n",
      " 8   NumberOfTimes90DaysLate               150000 non-null  int64  \n",
      " 9   NumberRealEstateLoansOrLines          150000 non-null  int64  \n",
      " 10  NumberOfTime60-89DaysPastDueNotWorse  150000 non-null  int64  \n",
      " 11  NumberOfDependents                    146076 non-null  float64\n",
      "dtypes: float64(4), int64(8)\n",
      "memory usage: 14.9 MB\n"
     ]
    }
   ],
   "source": [
    "# 去除重复值\n",
    "data.drop_duplicates(inplace=True)\n",
    "\n",
    "data.info()"
   ]
  },
  {
   "cell_type": "code",
   "execution_count": 7,
   "metadata": {},
   "outputs": [],
   "source": [
    "# 删除之后千万不要忘记，恢复索引\n",
    "data.index =range(data.shape[0])\n",
    "# 或者直接删除并恢复索引\n",
    "# data.reset_index(drop=True,inplace=True)"
   ]
  },
  {
   "cell_type": "code",
   "execution_count": 8,
   "metadata": {
    "collapsed": true,
    "jupyter": {
     "outputs_hidden": true
    }
   },
   "outputs": [
    {
     "data": {
      "text/html": [
       "<div>\n",
       "<style scoped>\n",
       "    .dataframe tbody tr th:only-of-type {\n",
       "        vertical-align: middle;\n",
       "    }\n",
       "\n",
       "    .dataframe tbody tr th {\n",
       "        vertical-align: top;\n",
       "    }\n",
       "\n",
       "    .dataframe thead th {\n",
       "        text-align: right;\n",
       "    }\n",
       "</style>\n",
       "<table border=\"1\" class=\"dataframe\">\n",
       "  <thead>\n",
       "    <tr style=\"text-align: right;\">\n",
       "      <th></th>\n",
       "      <th>Unnamed: 0</th>\n",
       "      <th>SeriousDlqin2yrs</th>\n",
       "      <th>RevolvingUtilizationOfUnsecuredLines</th>\n",
       "      <th>age</th>\n",
       "      <th>NumberOfTime30-59DaysPastDueNotWorse</th>\n",
       "      <th>DebtRatio</th>\n",
       "      <th>MonthlyIncome</th>\n",
       "      <th>NumberOfOpenCreditLinesAndLoans</th>\n",
       "      <th>NumberOfTimes90DaysLate</th>\n",
       "      <th>NumberRealEstateLoansOrLines</th>\n",
       "      <th>NumberOfTime60-89DaysPastDueNotWorse</th>\n",
       "      <th>NumberOfDependents</th>\n",
       "    </tr>\n",
       "  </thead>\n",
       "  <tbody>\n",
       "    <tr>\n",
       "      <th>0</th>\n",
       "      <td>1</td>\n",
       "      <td>1</td>\n",
       "      <td>0.766127</td>\n",
       "      <td>45</td>\n",
       "      <td>2</td>\n",
       "      <td>0.802982</td>\n",
       "      <td>9120.0</td>\n",
       "      <td>13</td>\n",
       "      <td>0</td>\n",
       "      <td>6</td>\n",
       "      <td>0</td>\n",
       "      <td>2.0</td>\n",
       "    </tr>\n",
       "    <tr>\n",
       "      <th>1</th>\n",
       "      <td>2</td>\n",
       "      <td>0</td>\n",
       "      <td>0.957151</td>\n",
       "      <td>40</td>\n",
       "      <td>0</td>\n",
       "      <td>0.121876</td>\n",
       "      <td>2600.0</td>\n",
       "      <td>4</td>\n",
       "      <td>0</td>\n",
       "      <td>0</td>\n",
       "      <td>0</td>\n",
       "      <td>1.0</td>\n",
       "    </tr>\n",
       "    <tr>\n",
       "      <th>2</th>\n",
       "      <td>3</td>\n",
       "      <td>0</td>\n",
       "      <td>0.658180</td>\n",
       "      <td>38</td>\n",
       "      <td>1</td>\n",
       "      <td>0.085113</td>\n",
       "      <td>3042.0</td>\n",
       "      <td>2</td>\n",
       "      <td>1</td>\n",
       "      <td>0</td>\n",
       "      <td>0</td>\n",
       "      <td>0.0</td>\n",
       "    </tr>\n",
       "    <tr>\n",
       "      <th>3</th>\n",
       "      <td>4</td>\n",
       "      <td>0</td>\n",
       "      <td>0.233810</td>\n",
       "      <td>30</td>\n",
       "      <td>0</td>\n",
       "      <td>0.036050</td>\n",
       "      <td>3300.0</td>\n",
       "      <td>5</td>\n",
       "      <td>0</td>\n",
       "      <td>0</td>\n",
       "      <td>0</td>\n",
       "      <td>0.0</td>\n",
       "    </tr>\n",
       "    <tr>\n",
       "      <th>4</th>\n",
       "      <td>5</td>\n",
       "      <td>0</td>\n",
       "      <td>0.907239</td>\n",
       "      <td>49</td>\n",
       "      <td>1</td>\n",
       "      <td>0.024926</td>\n",
       "      <td>63588.0</td>\n",
       "      <td>7</td>\n",
       "      <td>0</td>\n",
       "      <td>1</td>\n",
       "      <td>0</td>\n",
       "      <td>0.0</td>\n",
       "    </tr>\n",
       "    <tr>\n",
       "      <th>5</th>\n",
       "      <td>6</td>\n",
       "      <td>0</td>\n",
       "      <td>0.213179</td>\n",
       "      <td>74</td>\n",
       "      <td>0</td>\n",
       "      <td>0.375607</td>\n",
       "      <td>3500.0</td>\n",
       "      <td>3</td>\n",
       "      <td>0</td>\n",
       "      <td>1</td>\n",
       "      <td>0</td>\n",
       "      <td>1.0</td>\n",
       "    </tr>\n",
       "    <tr>\n",
       "      <th>6</th>\n",
       "      <td>7</td>\n",
       "      <td>0</td>\n",
       "      <td>0.305682</td>\n",
       "      <td>57</td>\n",
       "      <td>0</td>\n",
       "      <td>5710.000000</td>\n",
       "      <td>NaN</td>\n",
       "      <td>8</td>\n",
       "      <td>0</td>\n",
       "      <td>3</td>\n",
       "      <td>0</td>\n",
       "      <td>0.0</td>\n",
       "    </tr>\n",
       "    <tr>\n",
       "      <th>7</th>\n",
       "      <td>8</td>\n",
       "      <td>0</td>\n",
       "      <td>0.754464</td>\n",
       "      <td>39</td>\n",
       "      <td>0</td>\n",
       "      <td>0.209940</td>\n",
       "      <td>3500.0</td>\n",
       "      <td>8</td>\n",
       "      <td>0</td>\n",
       "      <td>0</td>\n",
       "      <td>0</td>\n",
       "      <td>0.0</td>\n",
       "    </tr>\n",
       "    <tr>\n",
       "      <th>8</th>\n",
       "      <td>9</td>\n",
       "      <td>0</td>\n",
       "      <td>0.116951</td>\n",
       "      <td>27</td>\n",
       "      <td>0</td>\n",
       "      <td>46.000000</td>\n",
       "      <td>NaN</td>\n",
       "      <td>2</td>\n",
       "      <td>0</td>\n",
       "      <td>0</td>\n",
       "      <td>0</td>\n",
       "      <td>NaN</td>\n",
       "    </tr>\n",
       "    <tr>\n",
       "      <th>9</th>\n",
       "      <td>10</td>\n",
       "      <td>0</td>\n",
       "      <td>0.189169</td>\n",
       "      <td>57</td>\n",
       "      <td>0</td>\n",
       "      <td>0.606291</td>\n",
       "      <td>23684.0</td>\n",
       "      <td>9</td>\n",
       "      <td>0</td>\n",
       "      <td>4</td>\n",
       "      <td>0</td>\n",
       "      <td>2.0</td>\n",
       "    </tr>\n",
       "    <tr>\n",
       "      <th>10</th>\n",
       "      <td>11</td>\n",
       "      <td>0</td>\n",
       "      <td>0.644226</td>\n",
       "      <td>30</td>\n",
       "      <td>0</td>\n",
       "      <td>0.309476</td>\n",
       "      <td>2500.0</td>\n",
       "      <td>5</td>\n",
       "      <td>0</td>\n",
       "      <td>0</td>\n",
       "      <td>0</td>\n",
       "      <td>0.0</td>\n",
       "    </tr>\n",
       "    <tr>\n",
       "      <th>11</th>\n",
       "      <td>12</td>\n",
       "      <td>0</td>\n",
       "      <td>0.018798</td>\n",
       "      <td>51</td>\n",
       "      <td>0</td>\n",
       "      <td>0.531529</td>\n",
       "      <td>6501.0</td>\n",
       "      <td>7</td>\n",
       "      <td>0</td>\n",
       "      <td>2</td>\n",
       "      <td>0</td>\n",
       "      <td>2.0</td>\n",
       "    </tr>\n",
       "    <tr>\n",
       "      <th>12</th>\n",
       "      <td>13</td>\n",
       "      <td>0</td>\n",
       "      <td>0.010352</td>\n",
       "      <td>46</td>\n",
       "      <td>0</td>\n",
       "      <td>0.298354</td>\n",
       "      <td>12454.0</td>\n",
       "      <td>13</td>\n",
       "      <td>0</td>\n",
       "      <td>2</td>\n",
       "      <td>0</td>\n",
       "      <td>2.0</td>\n",
       "    </tr>\n",
       "    <tr>\n",
       "      <th>13</th>\n",
       "      <td>14</td>\n",
       "      <td>1</td>\n",
       "      <td>0.964673</td>\n",
       "      <td>40</td>\n",
       "      <td>3</td>\n",
       "      <td>0.382965</td>\n",
       "      <td>13700.0</td>\n",
       "      <td>9</td>\n",
       "      <td>3</td>\n",
       "      <td>1</td>\n",
       "      <td>1</td>\n",
       "      <td>2.0</td>\n",
       "    </tr>\n",
       "    <tr>\n",
       "      <th>14</th>\n",
       "      <td>15</td>\n",
       "      <td>0</td>\n",
       "      <td>0.019657</td>\n",
       "      <td>76</td>\n",
       "      <td>0</td>\n",
       "      <td>477.000000</td>\n",
       "      <td>0.0</td>\n",
       "      <td>6</td>\n",
       "      <td>0</td>\n",
       "      <td>1</td>\n",
       "      <td>0</td>\n",
       "      <td>0.0</td>\n",
       "    </tr>\n",
       "    <tr>\n",
       "      <th>15</th>\n",
       "      <td>16</td>\n",
       "      <td>0</td>\n",
       "      <td>0.548458</td>\n",
       "      <td>64</td>\n",
       "      <td>0</td>\n",
       "      <td>0.209892</td>\n",
       "      <td>11362.0</td>\n",
       "      <td>7</td>\n",
       "      <td>0</td>\n",
       "      <td>1</td>\n",
       "      <td>0</td>\n",
       "      <td>2.0</td>\n",
       "    </tr>\n",
       "    <tr>\n",
       "      <th>16</th>\n",
       "      <td>17</td>\n",
       "      <td>0</td>\n",
       "      <td>0.061086</td>\n",
       "      <td>78</td>\n",
       "      <td>0</td>\n",
       "      <td>2058.000000</td>\n",
       "      <td>NaN</td>\n",
       "      <td>10</td>\n",
       "      <td>0</td>\n",
       "      <td>2</td>\n",
       "      <td>0</td>\n",
       "      <td>0.0</td>\n",
       "    </tr>\n",
       "    <tr>\n",
       "      <th>17</th>\n",
       "      <td>18</td>\n",
       "      <td>0</td>\n",
       "      <td>0.166284</td>\n",
       "      <td>53</td>\n",
       "      <td>0</td>\n",
       "      <td>0.188274</td>\n",
       "      <td>8800.0</td>\n",
       "      <td>7</td>\n",
       "      <td>0</td>\n",
       "      <td>0</td>\n",
       "      <td>0</td>\n",
       "      <td>0.0</td>\n",
       "    </tr>\n",
       "    <tr>\n",
       "      <th>18</th>\n",
       "      <td>19</td>\n",
       "      <td>0</td>\n",
       "      <td>0.221813</td>\n",
       "      <td>43</td>\n",
       "      <td>0</td>\n",
       "      <td>0.527888</td>\n",
       "      <td>3280.0</td>\n",
       "      <td>7</td>\n",
       "      <td>0</td>\n",
       "      <td>1</td>\n",
       "      <td>0</td>\n",
       "      <td>2.0</td>\n",
       "    </tr>\n",
       "    <tr>\n",
       "      <th>19</th>\n",
       "      <td>20</td>\n",
       "      <td>0</td>\n",
       "      <td>0.602794</td>\n",
       "      <td>25</td>\n",
       "      <td>0</td>\n",
       "      <td>0.065868</td>\n",
       "      <td>333.0</td>\n",
       "      <td>2</td>\n",
       "      <td>0</td>\n",
       "      <td>0</td>\n",
       "      <td>0</td>\n",
       "      <td>0.0</td>\n",
       "    </tr>\n",
       "    <tr>\n",
       "      <th>20</th>\n",
       "      <td>21</td>\n",
       "      <td>0</td>\n",
       "      <td>0.200923</td>\n",
       "      <td>43</td>\n",
       "      <td>0</td>\n",
       "      <td>0.430046</td>\n",
       "      <td>12300.0</td>\n",
       "      <td>10</td>\n",
       "      <td>0</td>\n",
       "      <td>2</td>\n",
       "      <td>0</td>\n",
       "      <td>0.0</td>\n",
       "    </tr>\n",
       "    <tr>\n",
       "      <th>21</th>\n",
       "      <td>22</td>\n",
       "      <td>1</td>\n",
       "      <td>0.025656</td>\n",
       "      <td>38</td>\n",
       "      <td>0</td>\n",
       "      <td>0.475841</td>\n",
       "      <td>3000.0</td>\n",
       "      <td>7</td>\n",
       "      <td>0</td>\n",
       "      <td>1</td>\n",
       "      <td>0</td>\n",
       "      <td>2.0</td>\n",
       "    </tr>\n",
       "    <tr>\n",
       "      <th>22</th>\n",
       "      <td>23</td>\n",
       "      <td>0</td>\n",
       "      <td>1.000000</td>\n",
       "      <td>39</td>\n",
       "      <td>0</td>\n",
       "      <td>0.241104</td>\n",
       "      <td>2500.0</td>\n",
       "      <td>4</td>\n",
       "      <td>0</td>\n",
       "      <td>0</td>\n",
       "      <td>0</td>\n",
       "      <td>0.0</td>\n",
       "    </tr>\n",
       "    <tr>\n",
       "      <th>23</th>\n",
       "      <td>24</td>\n",
       "      <td>0</td>\n",
       "      <td>0.075427</td>\n",
       "      <td>32</td>\n",
       "      <td>0</td>\n",
       "      <td>0.085512</td>\n",
       "      <td>7916.0</td>\n",
       "      <td>6</td>\n",
       "      <td>0</td>\n",
       "      <td>0</td>\n",
       "      <td>0</td>\n",
       "      <td>0.0</td>\n",
       "    </tr>\n",
       "    <tr>\n",
       "      <th>24</th>\n",
       "      <td>25</td>\n",
       "      <td>0</td>\n",
       "      <td>0.046560</td>\n",
       "      <td>58</td>\n",
       "      <td>0</td>\n",
       "      <td>0.241622</td>\n",
       "      <td>2416.0</td>\n",
       "      <td>9</td>\n",
       "      <td>0</td>\n",
       "      <td>1</td>\n",
       "      <td>0</td>\n",
       "      <td>0.0</td>\n",
       "    </tr>\n",
       "    <tr>\n",
       "      <th>25</th>\n",
       "      <td>26</td>\n",
       "      <td>1</td>\n",
       "      <td>0.392248</td>\n",
       "      <td>50</td>\n",
       "      <td>0</td>\n",
       "      <td>1.595253</td>\n",
       "      <td>4676.0</td>\n",
       "      <td>14</td>\n",
       "      <td>0</td>\n",
       "      <td>3</td>\n",
       "      <td>0</td>\n",
       "      <td>1.0</td>\n",
       "    </tr>\n",
       "    <tr>\n",
       "      <th>26</th>\n",
       "      <td>27</td>\n",
       "      <td>0</td>\n",
       "      <td>0.052436</td>\n",
       "      <td>58</td>\n",
       "      <td>0</td>\n",
       "      <td>0.097672</td>\n",
       "      <td>8333.0</td>\n",
       "      <td>22</td>\n",
       "      <td>0</td>\n",
       "      <td>1</td>\n",
       "      <td>0</td>\n",
       "      <td>0.0</td>\n",
       "    </tr>\n",
       "    <tr>\n",
       "      <th>27</th>\n",
       "      <td>28</td>\n",
       "      <td>0</td>\n",
       "      <td>0.034421</td>\n",
       "      <td>69</td>\n",
       "      <td>0</td>\n",
       "      <td>0.042383</td>\n",
       "      <td>2500.0</td>\n",
       "      <td>17</td>\n",
       "      <td>0</td>\n",
       "      <td>0</td>\n",
       "      <td>0</td>\n",
       "      <td>1.0</td>\n",
       "    </tr>\n",
       "    <tr>\n",
       "      <th>28</th>\n",
       "      <td>29</td>\n",
       "      <td>0</td>\n",
       "      <td>0.452516</td>\n",
       "      <td>24</td>\n",
       "      <td>0</td>\n",
       "      <td>0.011761</td>\n",
       "      <td>3400.0</td>\n",
       "      <td>1</td>\n",
       "      <td>0</td>\n",
       "      <td>0</td>\n",
       "      <td>0</td>\n",
       "      <td>0.0</td>\n",
       "    </tr>\n",
       "    <tr>\n",
       "      <th>29</th>\n",
       "      <td>30</td>\n",
       "      <td>0</td>\n",
       "      <td>0.392995</td>\n",
       "      <td>58</td>\n",
       "      <td>2</td>\n",
       "      <td>0.436103</td>\n",
       "      <td>5500.0</td>\n",
       "      <td>15</td>\n",
       "      <td>0</td>\n",
       "      <td>1</td>\n",
       "      <td>0</td>\n",
       "      <td>0.0</td>\n",
       "    </tr>\n",
       "  </tbody>\n",
       "</table>\n",
       "</div>"
      ],
      "text/plain": [
       "    Unnamed: 0  SeriousDlqin2yrs  RevolvingUtilizationOfUnsecuredLines  age  \\\n",
       "0            1                 1                              0.766127   45   \n",
       "1            2                 0                              0.957151   40   \n",
       "2            3                 0                              0.658180   38   \n",
       "3            4                 0                              0.233810   30   \n",
       "4            5                 0                              0.907239   49   \n",
       "5            6                 0                              0.213179   74   \n",
       "6            7                 0                              0.305682   57   \n",
       "7            8                 0                              0.754464   39   \n",
       "8            9                 0                              0.116951   27   \n",
       "9           10                 0                              0.189169   57   \n",
       "10          11                 0                              0.644226   30   \n",
       "11          12                 0                              0.018798   51   \n",
       "12          13                 0                              0.010352   46   \n",
       "13          14                 1                              0.964673   40   \n",
       "14          15                 0                              0.019657   76   \n",
       "15          16                 0                              0.548458   64   \n",
       "16          17                 0                              0.061086   78   \n",
       "17          18                 0                              0.166284   53   \n",
       "18          19                 0                              0.221813   43   \n",
       "19          20                 0                              0.602794   25   \n",
       "20          21                 0                              0.200923   43   \n",
       "21          22                 1                              0.025656   38   \n",
       "22          23                 0                              1.000000   39   \n",
       "23          24                 0                              0.075427   32   \n",
       "24          25                 0                              0.046560   58   \n",
       "25          26                 1                              0.392248   50   \n",
       "26          27                 0                              0.052436   58   \n",
       "27          28                 0                              0.034421   69   \n",
       "28          29                 0                              0.452516   24   \n",
       "29          30                 0                              0.392995   58   \n",
       "\n",
       "    NumberOfTime30-59DaysPastDueNotWorse    DebtRatio  MonthlyIncome  \\\n",
       "0                                      2     0.802982         9120.0   \n",
       "1                                      0     0.121876         2600.0   \n",
       "2                                      1     0.085113         3042.0   \n",
       "3                                      0     0.036050         3300.0   \n",
       "4                                      1     0.024926        63588.0   \n",
       "5                                      0     0.375607         3500.0   \n",
       "6                                      0  5710.000000            NaN   \n",
       "7                                      0     0.209940         3500.0   \n",
       "8                                      0    46.000000            NaN   \n",
       "9                                      0     0.606291        23684.0   \n",
       "10                                     0     0.309476         2500.0   \n",
       "11                                     0     0.531529         6501.0   \n",
       "12                                     0     0.298354        12454.0   \n",
       "13                                     3     0.382965        13700.0   \n",
       "14                                     0   477.000000            0.0   \n",
       "15                                     0     0.209892        11362.0   \n",
       "16                                     0  2058.000000            NaN   \n",
       "17                                     0     0.188274         8800.0   \n",
       "18                                     0     0.527888         3280.0   \n",
       "19                                     0     0.065868          333.0   \n",
       "20                                     0     0.430046        12300.0   \n",
       "21                                     0     0.475841         3000.0   \n",
       "22                                     0     0.241104         2500.0   \n",
       "23                                     0     0.085512         7916.0   \n",
       "24                                     0     0.241622         2416.0   \n",
       "25                                     0     1.595253         4676.0   \n",
       "26                                     0     0.097672         8333.0   \n",
       "27                                     0     0.042383         2500.0   \n",
       "28                                     0     0.011761         3400.0   \n",
       "29                                     2     0.436103         5500.0   \n",
       "\n",
       "    NumberOfOpenCreditLinesAndLoans  NumberOfTimes90DaysLate  \\\n",
       "0                                13                        0   \n",
       "1                                 4                        0   \n",
       "2                                 2                        1   \n",
       "3                                 5                        0   \n",
       "4                                 7                        0   \n",
       "5                                 3                        0   \n",
       "6                                 8                        0   \n",
       "7                                 8                        0   \n",
       "8                                 2                        0   \n",
       "9                                 9                        0   \n",
       "10                                5                        0   \n",
       "11                                7                        0   \n",
       "12                               13                        0   \n",
       "13                                9                        3   \n",
       "14                                6                        0   \n",
       "15                                7                        0   \n",
       "16                               10                        0   \n",
       "17                                7                        0   \n",
       "18                                7                        0   \n",
       "19                                2                        0   \n",
       "20                               10                        0   \n",
       "21                                7                        0   \n",
       "22                                4                        0   \n",
       "23                                6                        0   \n",
       "24                                9                        0   \n",
       "25                               14                        0   \n",
       "26                               22                        0   \n",
       "27                               17                        0   \n",
       "28                                1                        0   \n",
       "29                               15                        0   \n",
       "\n",
       "    NumberRealEstateLoansOrLines  NumberOfTime60-89DaysPastDueNotWorse  \\\n",
       "0                              6                                     0   \n",
       "1                              0                                     0   \n",
       "2                              0                                     0   \n",
       "3                              0                                     0   \n",
       "4                              1                                     0   \n",
       "5                              1                                     0   \n",
       "6                              3                                     0   \n",
       "7                              0                                     0   \n",
       "8                              0                                     0   \n",
       "9                              4                                     0   \n",
       "10                             0                                     0   \n",
       "11                             2                                     0   \n",
       "12                             2                                     0   \n",
       "13                             1                                     1   \n",
       "14                             1                                     0   \n",
       "15                             1                                     0   \n",
       "16                             2                                     0   \n",
       "17                             0                                     0   \n",
       "18                             1                                     0   \n",
       "19                             0                                     0   \n",
       "20                             2                                     0   \n",
       "21                             1                                     0   \n",
       "22                             0                                     0   \n",
       "23                             0                                     0   \n",
       "24                             1                                     0   \n",
       "25                             3                                     0   \n",
       "26                             1                                     0   \n",
       "27                             0                                     0   \n",
       "28                             0                                     0   \n",
       "29                             1                                     0   \n",
       "\n",
       "    NumberOfDependents  \n",
       "0                  2.0  \n",
       "1                  1.0  \n",
       "2                  0.0  \n",
       "3                  0.0  \n",
       "4                  0.0  \n",
       "5                  1.0  \n",
       "6                  0.0  \n",
       "7                  0.0  \n",
       "8                  NaN  \n",
       "9                  2.0  \n",
       "10                 0.0  \n",
       "11                 2.0  \n",
       "12                 2.0  \n",
       "13                 2.0  \n",
       "14                 0.0  \n",
       "15                 2.0  \n",
       "16                 0.0  \n",
       "17                 0.0  \n",
       "18                 2.0  \n",
       "19                 0.0  \n",
       "20                 0.0  \n",
       "21                 2.0  \n",
       "22                 0.0  \n",
       "23                 0.0  \n",
       "24                 0.0  \n",
       "25                 1.0  \n",
       "26                 0.0  \n",
       "27                 1.0  \n",
       "28                 0.0  \n",
       "29                 0.0  "
      ]
     },
     "execution_count": 8,
     "metadata": {},
     "output_type": "execute_result"
    }
   ],
   "source": [
    "data.head(30)"
   ]
  },
  {
   "cell_type": "code",
   "execution_count": 9,
   "metadata": {},
   "outputs": [
    {
     "data": {
      "text/plain": [
       "Unnamed: 0                              0.000000\n",
       "SeriousDlqin2yrs                        0.000000\n",
       "RevolvingUtilizationOfUnsecuredLines    0.000000\n",
       "age                                     0.000000\n",
       "NumberOfTime30-59DaysPastDueNotWorse    0.000000\n",
       "DebtRatio                               0.000000\n",
       "MonthlyIncome                           0.198207\n",
       "NumberOfOpenCreditLinesAndLoans         0.000000\n",
       "NumberOfTimes90DaysLate                 0.000000\n",
       "NumberRealEstateLoansOrLines            0.000000\n",
       "NumberOfTime60-89DaysPastDueNotWorse    0.000000\n",
       "NumberOfDependents                      0.026160\n",
       "dtype: float64"
      ]
     },
     "execution_count": 9,
     "metadata": {},
     "output_type": "execute_result"
    }
   ],
   "source": [
    "data.isnull().mean()"
   ]
  },
  {
   "cell_type": "code",
   "execution_count": 10,
   "metadata": {},
   "outputs": [],
   "source": [
    "data[\"NumberOfDependents\"].fillna(int(data[\"NumberOfDependents\"].mean()),inplace=True)"
   ]
  },
  {
   "cell_type": "code",
   "execution_count": 11,
   "metadata": {},
   "outputs": [
    {
     "data": {
      "text/plain": [
       "Unnamed: 0                              0.000000\n",
       "SeriousDlqin2yrs                        0.000000\n",
       "RevolvingUtilizationOfUnsecuredLines    0.000000\n",
       "age                                     0.000000\n",
       "NumberOfTime30-59DaysPastDueNotWorse    0.000000\n",
       "DebtRatio                               0.000000\n",
       "MonthlyIncome                           0.198207\n",
       "NumberOfOpenCreditLinesAndLoans         0.000000\n",
       "NumberOfTimes90DaysLate                 0.000000\n",
       "NumberRealEstateLoansOrLines            0.000000\n",
       "NumberOfTime60-89DaysPastDueNotWorse    0.000000\n",
       "NumberOfDependents                      0.000000\n",
       "dtype: float64"
      ]
     },
     "execution_count": 11,
     "metadata": {},
     "output_type": "execute_result"
    }
   ],
   "source": [
    "data.isnull().mean()"
   ]
  },
  {
   "cell_type": "code",
   "execution_count": 15,
   "metadata": {},
   "outputs": [],
   "source": [
    "def fill_missing_rf(X,y,to_fill):\n",
    "    \"\"\"\n",
    "    使用随机森林填补一个特征的缺失值的函数\n",
    "    参数：\n",
    "    X：要填补的特征矩阵\n",
    "    y：完整的，没有缺失值的标签 to_fill：字符串，要填补的那一列的名称\n",
    "    \"\"\"\n",
    "    # 构建我们的新特征矩阵和新标签\n",
    "    df = X.copy()\n",
    "    fill = df.loc[:,to_fill]\n",
    "    df = pd.concat([df.loc[:,df.columns != to_fill],pd.DataFrame(y)],axis=1)\n",
    "    \n",
    "    # 找出我们的训练集和测试集\n",
    "    Ytrain = fill[fill.notnull()]\n",
    "    Ytest = fill[fill.isnull()]\n",
    "    Xtrain = df.iloc[Ytrain.index,:]\n",
    "    Xtest = df.iloc[Ytest.index,:]\n",
    "    \n",
    "    # 用随机森林回归来填补缺失值\n",
    "    from sklearn.ensemble import RandomForestRegressor as rfr\n",
    "    rfr = rfr(n_estimators=100)\n",
    "    rfr = rfr.fit(Xtrain,Ytrain)\n",
    "    Ypredict = rfr.predict(Xtest)\n",
    "    \n",
    "    return Ypredict"
   ]
  },
  {
   "cell_type": "code",
   "execution_count": 16,
   "metadata": {},
   "outputs": [
    {
     "data": {
      "text/plain": [
       "(150000, 11)"
      ]
     },
     "execution_count": 16,
     "metadata": {},
     "output_type": "execute_result"
    }
   ],
   "source": [
    "X = data.iloc[:,1:]\n",
    "y = data[\"SeriousDlqin2yrs\"]\n",
    "X.shape"
   ]
  },
  {
   "cell_type": "code",
   "execution_count": 17,
   "metadata": {},
   "outputs": [],
   "source": [
    "y_pred = fill_missing_rf(X,y,\"MonthlyIncome\")"
   ]
  },
  {
   "cell_type": "code",
   "execution_count": 18,
   "metadata": {},
   "outputs": [],
   "source": [
    "#确认我们的结果合理之后，我们就可以将数据覆盖了\n",
    "data.loc[data.loc[:,\"MonthlyIncome\"].isnull(),\"MonthlyIncome\"] = y_pred"
   ]
  },
  {
   "cell_type": "code",
   "execution_count": 19,
   "metadata": {},
   "outputs": [
    {
     "name": "stdout",
     "output_type": "stream",
     "text": [
      "<class 'pandas.core.frame.DataFrame'>\n",
      "RangeIndex: 150000 entries, 0 to 149999\n",
      "Data columns (total 12 columns):\n",
      " #   Column                                Non-Null Count   Dtype  \n",
      "---  ------                                --------------   -----  \n",
      " 0   Unnamed: 0                            150000 non-null  int64  \n",
      " 1   SeriousDlqin2yrs                      150000 non-null  int64  \n",
      " 2   RevolvingUtilizationOfUnsecuredLines  150000 non-null  float64\n",
      " 3   age                                   150000 non-null  int64  \n",
      " 4   NumberOfTime30-59DaysPastDueNotWorse  150000 non-null  int64  \n",
      " 5   DebtRatio                             150000 non-null  float64\n",
      " 6   MonthlyIncome                         150000 non-null  float64\n",
      " 7   NumberOfOpenCreditLinesAndLoans       150000 non-null  int64  \n",
      " 8   NumberOfTimes90DaysLate               150000 non-null  int64  \n",
      " 9   NumberRealEstateLoansOrLines          150000 non-null  int64  \n",
      " 10  NumberOfTime60-89DaysPastDueNotWorse  150000 non-null  int64  \n",
      " 11  NumberOfDependents                    150000 non-null  float64\n",
      "dtypes: float64(4), int64(8)\n",
      "memory usage: 13.7 MB\n"
     ]
    }
   ],
   "source": [
    "data.info()"
   ]
  },
  {
   "cell_type": "code",
   "execution_count": 20,
   "metadata": {
    "collapsed": true,
    "jupyter": {
     "outputs_hidden": true
    }
   },
   "outputs": [
    {
     "data": {
      "text/html": [
       "<div>\n",
       "<style scoped>\n",
       "    .dataframe tbody tr th:only-of-type {\n",
       "        vertical-align: middle;\n",
       "    }\n",
       "\n",
       "    .dataframe tbody tr th {\n",
       "        vertical-align: top;\n",
       "    }\n",
       "\n",
       "    .dataframe thead th {\n",
       "        text-align: right;\n",
       "    }\n",
       "</style>\n",
       "<table border=\"1\" class=\"dataframe\">\n",
       "  <thead>\n",
       "    <tr style=\"text-align: right;\">\n",
       "      <th></th>\n",
       "      <th>count</th>\n",
       "      <th>mean</th>\n",
       "      <th>std</th>\n",
       "      <th>min</th>\n",
       "      <th>1%</th>\n",
       "      <th>10%</th>\n",
       "      <th>25%</th>\n",
       "      <th>50%</th>\n",
       "      <th>75%</th>\n",
       "      <th>90%</th>\n",
       "      <th>99%</th>\n",
       "      <th>max</th>\n",
       "    </tr>\n",
       "  </thead>\n",
       "  <tbody>\n",
       "    <tr>\n",
       "      <th>Unnamed: 0</th>\n",
       "      <td>150000.0</td>\n",
       "      <td>75000.500000</td>\n",
       "      <td>43301.414527</td>\n",
       "      <td>1.0</td>\n",
       "      <td>1500.99</td>\n",
       "      <td>15000.900000</td>\n",
       "      <td>37500.750000</td>\n",
       "      <td>75000.500000</td>\n",
       "      <td>112500.250000</td>\n",
       "      <td>135000.100000</td>\n",
       "      <td>148500.010000</td>\n",
       "      <td>150000.0</td>\n",
       "    </tr>\n",
       "    <tr>\n",
       "      <th>SeriousDlqin2yrs</th>\n",
       "      <td>150000.0</td>\n",
       "      <td>0.066840</td>\n",
       "      <td>0.249746</td>\n",
       "      <td>0.0</td>\n",
       "      <td>0.00</td>\n",
       "      <td>0.000000</td>\n",
       "      <td>0.000000</td>\n",
       "      <td>0.000000</td>\n",
       "      <td>0.000000</td>\n",
       "      <td>0.000000</td>\n",
       "      <td>1.000000</td>\n",
       "      <td>1.0</td>\n",
       "    </tr>\n",
       "    <tr>\n",
       "      <th>RevolvingUtilizationOfUnsecuredLines</th>\n",
       "      <td>150000.0</td>\n",
       "      <td>6.048438</td>\n",
       "      <td>249.755371</td>\n",
       "      <td>0.0</td>\n",
       "      <td>0.00</td>\n",
       "      <td>0.002969</td>\n",
       "      <td>0.029867</td>\n",
       "      <td>0.154181</td>\n",
       "      <td>0.559046</td>\n",
       "      <td>0.981278</td>\n",
       "      <td>1.092956</td>\n",
       "      <td>50708.0</td>\n",
       "    </tr>\n",
       "    <tr>\n",
       "      <th>age</th>\n",
       "      <td>150000.0</td>\n",
       "      <td>52.295207</td>\n",
       "      <td>14.771866</td>\n",
       "      <td>0.0</td>\n",
       "      <td>24.00</td>\n",
       "      <td>33.000000</td>\n",
       "      <td>41.000000</td>\n",
       "      <td>52.000000</td>\n",
       "      <td>63.000000</td>\n",
       "      <td>72.000000</td>\n",
       "      <td>87.000000</td>\n",
       "      <td>109.0</td>\n",
       "    </tr>\n",
       "    <tr>\n",
       "      <th>NumberOfTime30-59DaysPastDueNotWorse</th>\n",
       "      <td>150000.0</td>\n",
       "      <td>0.421033</td>\n",
       "      <td>4.192781</td>\n",
       "      <td>0.0</td>\n",
       "      <td>0.00</td>\n",
       "      <td>0.000000</td>\n",
       "      <td>0.000000</td>\n",
       "      <td>0.000000</td>\n",
       "      <td>0.000000</td>\n",
       "      <td>1.000000</td>\n",
       "      <td>4.000000</td>\n",
       "      <td>98.0</td>\n",
       "    </tr>\n",
       "    <tr>\n",
       "      <th>DebtRatio</th>\n",
       "      <td>150000.0</td>\n",
       "      <td>353.005076</td>\n",
       "      <td>2037.818523</td>\n",
       "      <td>0.0</td>\n",
       "      <td>0.00</td>\n",
       "      <td>0.030874</td>\n",
       "      <td>0.175074</td>\n",
       "      <td>0.366508</td>\n",
       "      <td>0.868254</td>\n",
       "      <td>1267.000000</td>\n",
       "      <td>4979.040000</td>\n",
       "      <td>329664.0</td>\n",
       "    </tr>\n",
       "    <tr>\n",
       "      <th>MonthlyIncome</th>\n",
       "      <td>150000.0</td>\n",
       "      <td>5419.811343</td>\n",
       "      <td>13244.884063</td>\n",
       "      <td>0.0</td>\n",
       "      <td>0.00</td>\n",
       "      <td>0.180000</td>\n",
       "      <td>1800.000000</td>\n",
       "      <td>4404.000000</td>\n",
       "      <td>7400.000000</td>\n",
       "      <td>10773.100000</td>\n",
       "      <td>23200.000000</td>\n",
       "      <td>3008750.0</td>\n",
       "    </tr>\n",
       "    <tr>\n",
       "      <th>NumberOfOpenCreditLinesAndLoans</th>\n",
       "      <td>150000.0</td>\n",
       "      <td>8.452760</td>\n",
       "      <td>5.145951</td>\n",
       "      <td>0.0</td>\n",
       "      <td>0.00</td>\n",
       "      <td>3.000000</td>\n",
       "      <td>5.000000</td>\n",
       "      <td>8.000000</td>\n",
       "      <td>11.000000</td>\n",
       "      <td>15.000000</td>\n",
       "      <td>24.000000</td>\n",
       "      <td>58.0</td>\n",
       "    </tr>\n",
       "    <tr>\n",
       "      <th>NumberOfTimes90DaysLate</th>\n",
       "      <td>150000.0</td>\n",
       "      <td>0.265973</td>\n",
       "      <td>4.169304</td>\n",
       "      <td>0.0</td>\n",
       "      <td>0.00</td>\n",
       "      <td>0.000000</td>\n",
       "      <td>0.000000</td>\n",
       "      <td>0.000000</td>\n",
       "      <td>0.000000</td>\n",
       "      <td>0.000000</td>\n",
       "      <td>3.000000</td>\n",
       "      <td>98.0</td>\n",
       "    </tr>\n",
       "    <tr>\n",
       "      <th>NumberRealEstateLoansOrLines</th>\n",
       "      <td>150000.0</td>\n",
       "      <td>1.018240</td>\n",
       "      <td>1.129771</td>\n",
       "      <td>0.0</td>\n",
       "      <td>0.00</td>\n",
       "      <td>0.000000</td>\n",
       "      <td>0.000000</td>\n",
       "      <td>1.000000</td>\n",
       "      <td>2.000000</td>\n",
       "      <td>2.000000</td>\n",
       "      <td>4.000000</td>\n",
       "      <td>54.0</td>\n",
       "    </tr>\n",
       "    <tr>\n",
       "      <th>NumberOfTime60-89DaysPastDueNotWorse</th>\n",
       "      <td>150000.0</td>\n",
       "      <td>0.240387</td>\n",
       "      <td>4.155179</td>\n",
       "      <td>0.0</td>\n",
       "      <td>0.00</td>\n",
       "      <td>0.000000</td>\n",
       "      <td>0.000000</td>\n",
       "      <td>0.000000</td>\n",
       "      <td>0.000000</td>\n",
       "      <td>0.000000</td>\n",
       "      <td>2.000000</td>\n",
       "      <td>98.0</td>\n",
       "    </tr>\n",
       "    <tr>\n",
       "      <th>NumberOfDependents</th>\n",
       "      <td>150000.0</td>\n",
       "      <td>0.737413</td>\n",
       "      <td>1.107021</td>\n",
       "      <td>0.0</td>\n",
       "      <td>0.00</td>\n",
       "      <td>0.000000</td>\n",
       "      <td>0.000000</td>\n",
       "      <td>0.000000</td>\n",
       "      <td>1.000000</td>\n",
       "      <td>2.000000</td>\n",
       "      <td>4.000000</td>\n",
       "      <td>20.0</td>\n",
       "    </tr>\n",
       "  </tbody>\n",
       "</table>\n",
       "</div>"
      ],
      "text/plain": [
       "                                         count          mean           std  \\\n",
       "Unnamed: 0                            150000.0  75000.500000  43301.414527   \n",
       "SeriousDlqin2yrs                      150000.0      0.066840      0.249746   \n",
       "RevolvingUtilizationOfUnsecuredLines  150000.0      6.048438    249.755371   \n",
       "age                                   150000.0     52.295207     14.771866   \n",
       "NumberOfTime30-59DaysPastDueNotWorse  150000.0      0.421033      4.192781   \n",
       "DebtRatio                             150000.0    353.005076   2037.818523   \n",
       "MonthlyIncome                         150000.0   5419.811343  13244.884063   \n",
       "NumberOfOpenCreditLinesAndLoans       150000.0      8.452760      5.145951   \n",
       "NumberOfTimes90DaysLate               150000.0      0.265973      4.169304   \n",
       "NumberRealEstateLoansOrLines          150000.0      1.018240      1.129771   \n",
       "NumberOfTime60-89DaysPastDueNotWorse  150000.0      0.240387      4.155179   \n",
       "NumberOfDependents                    150000.0      0.737413      1.107021   \n",
       "\n",
       "                                      min       1%           10%  \\\n",
       "Unnamed: 0                            1.0  1500.99  15000.900000   \n",
       "SeriousDlqin2yrs                      0.0     0.00      0.000000   \n",
       "RevolvingUtilizationOfUnsecuredLines  0.0     0.00      0.002969   \n",
       "age                                   0.0    24.00     33.000000   \n",
       "NumberOfTime30-59DaysPastDueNotWorse  0.0     0.00      0.000000   \n",
       "DebtRatio                             0.0     0.00      0.030874   \n",
       "MonthlyIncome                         0.0     0.00      0.180000   \n",
       "NumberOfOpenCreditLinesAndLoans       0.0     0.00      3.000000   \n",
       "NumberOfTimes90DaysLate               0.0     0.00      0.000000   \n",
       "NumberRealEstateLoansOrLines          0.0     0.00      0.000000   \n",
       "NumberOfTime60-89DaysPastDueNotWorse  0.0     0.00      0.000000   \n",
       "NumberOfDependents                    0.0     0.00      0.000000   \n",
       "\n",
       "                                               25%           50%  \\\n",
       "Unnamed: 0                            37500.750000  75000.500000   \n",
       "SeriousDlqin2yrs                          0.000000      0.000000   \n",
       "RevolvingUtilizationOfUnsecuredLines      0.029867      0.154181   \n",
       "age                                      41.000000     52.000000   \n",
       "NumberOfTime30-59DaysPastDueNotWorse      0.000000      0.000000   \n",
       "DebtRatio                                 0.175074      0.366508   \n",
       "MonthlyIncome                          1800.000000   4404.000000   \n",
       "NumberOfOpenCreditLinesAndLoans           5.000000      8.000000   \n",
       "NumberOfTimes90DaysLate                   0.000000      0.000000   \n",
       "NumberRealEstateLoansOrLines              0.000000      1.000000   \n",
       "NumberOfTime60-89DaysPastDueNotWorse      0.000000      0.000000   \n",
       "NumberOfDependents                        0.000000      0.000000   \n",
       "\n",
       "                                                75%            90%  \\\n",
       "Unnamed: 0                            112500.250000  135000.100000   \n",
       "SeriousDlqin2yrs                           0.000000       0.000000   \n",
       "RevolvingUtilizationOfUnsecuredLines       0.559046       0.981278   \n",
       "age                                       63.000000      72.000000   \n",
       "NumberOfTime30-59DaysPastDueNotWorse       0.000000       1.000000   \n",
       "DebtRatio                                  0.868254    1267.000000   \n",
       "MonthlyIncome                           7400.000000   10773.100000   \n",
       "NumberOfOpenCreditLinesAndLoans           11.000000      15.000000   \n",
       "NumberOfTimes90DaysLate                    0.000000       0.000000   \n",
       "NumberRealEstateLoansOrLines               2.000000       2.000000   \n",
       "NumberOfTime60-89DaysPastDueNotWorse       0.000000       0.000000   \n",
       "NumberOfDependents                         1.000000       2.000000   \n",
       "\n",
       "                                                99%        max  \n",
       "Unnamed: 0                            148500.010000   150000.0  \n",
       "SeriousDlqin2yrs                           1.000000        1.0  \n",
       "RevolvingUtilizationOfUnsecuredLines       1.092956    50708.0  \n",
       "age                                       87.000000      109.0  \n",
       "NumberOfTime30-59DaysPastDueNotWorse       4.000000       98.0  \n",
       "DebtRatio                               4979.040000   329664.0  \n",
       "MonthlyIncome                          23200.000000  3008750.0  \n",
       "NumberOfOpenCreditLinesAndLoans           24.000000       58.0  \n",
       "NumberOfTimes90DaysLate                    3.000000       98.0  \n",
       "NumberRealEstateLoansOrLines               4.000000       54.0  \n",
       "NumberOfTime60-89DaysPastDueNotWorse       2.000000       98.0  \n",
       "NumberOfDependents                         4.000000       20.0  "
      ]
     },
     "execution_count": 20,
     "metadata": {},
     "output_type": "execute_result"
    }
   ],
   "source": [
    "# 描述性统计\n",
    "data.describe([0.01,0.1,0.25,0.5,0.75,0.9,0.99]).T"
   ]
  },
  {
   "cell_type": "code",
   "execution_count": 21,
   "metadata": {},
   "outputs": [
    {
     "data": {
      "text/plain": [
       "1"
      ]
     },
     "execution_count": 21,
     "metadata": {},
     "output_type": "execute_result"
    }
   ],
   "source": [
    "# 异常值也被我们观察到，年龄的最小值居然有0，这不符合银行的业务需求，即便是儿童账户也要至少8岁，我们可以查看一下年龄为0的人有多少\n",
    "(data[\"age\"] == 0).sum()"
   ]
  },
  {
   "cell_type": "code",
   "execution_count": 22,
   "metadata": {},
   "outputs": [],
   "source": [
    "#发现只有一个人年龄为0，可以判断这肯定是录入失误造成的，可以当成是缺失值来处理，直接删除掉这个样本\n",
    "data = data[data[\"age\"] != 0]"
   ]
  },
  {
   "cell_type": "code",
   "execution_count": 23,
   "metadata": {},
   "outputs": [
    {
     "data": {
      "text/plain": [
       "Unnamed: 0                              269\n",
       "SeriousDlqin2yrs                        269\n",
       "RevolvingUtilizationOfUnsecuredLines    269\n",
       "age                                     269\n",
       "NumberOfTime30-59DaysPastDueNotWorse    269\n",
       "DebtRatio                               269\n",
       "MonthlyIncome                           269\n",
       "NumberOfOpenCreditLinesAndLoans         269\n",
       "NumberOfTimes90DaysLate                 269\n",
       "NumberRealEstateLoansOrLines            269\n",
       "NumberOfTime60-89DaysPastDueNotWorse    269\n",
       "NumberOfDependents                      269\n",
       "dtype: int64"
      ]
     },
     "execution_count": 23,
     "metadata": {},
     "output_type": "execute_result"
    }
   ],
   "source": [
    "\"\"\"\n",
    "另外，有三个指标看起来很奇怪：\n",
    "\"NumberOfTime30-59DaysPastDueNotWorse\" \n",
    "\"NumberOfTime60-89DaysPastDueNotWorse\"\n",
    "\"NumberOfTimes90DaysLate\"\n",
    "\n",
    "这三个指标分别是“过去两年内出现35-59天逾期但是没有发展的更坏的次数”，“过去两年内出现60-89天逾期但是没\n",
    "有发展的更坏的次数”,“过去两年内出现90天逾期的次数”。这三个指标，在99%的分布的时候依然是2，最大值却是\n",
    "98，看起来非常奇怪。一个人在过去两年内逾期35~59天98次，一年6个60天，两年内逾期98次这是怎么算出来的？\n",
    "\n",
    "我们可以去咨询业务人员，请教他们这个逾期次数是如何计算的。如果这个指标是正常的，那这些两年内逾期了98次的\n",
    "客户，应该都是坏客户。在我们无法询问他们情况下，我们查看一下有多少个样本存在这种异常：\n",
    "\"\"\"\n",
    "data[data.loc[:,\"NumberOfTimes90DaysLate\"]>90].count()"
   ]
  },
  {
   "cell_type": "code",
   "execution_count": 24,
   "metadata": {},
   "outputs": [],
   "source": [
    "#有269个样本存在这样的情况，并且这些样本，我们观察一下，标签并不都是1，他们并不都是坏客户。因此，我们基本可以判断，这些样本是某种异常，应该把它们删除。\n",
    "data = data[data.loc[:,\"NumberOfTimes90DaysLate\"]<90]"
   ]
  },
  {
   "cell_type": "code",
   "execution_count": 25,
   "metadata": {},
   "outputs": [
    {
     "name": "stdout",
     "output_type": "stream",
     "text": [
      "<class 'pandas.core.frame.DataFrame'>\n",
      "RangeIndex: 149730 entries, 0 to 149729\n",
      "Data columns (total 12 columns):\n",
      " #   Column                                Non-Null Count   Dtype  \n",
      "---  ------                                --------------   -----  \n",
      " 0   Unnamed: 0                            149730 non-null  int64  \n",
      " 1   SeriousDlqin2yrs                      149730 non-null  int64  \n",
      " 2   RevolvingUtilizationOfUnsecuredLines  149730 non-null  float64\n",
      " 3   age                                   149730 non-null  int64  \n",
      " 4   NumberOfTime30-59DaysPastDueNotWorse  149730 non-null  int64  \n",
      " 5   DebtRatio                             149730 non-null  float64\n",
      " 6   MonthlyIncome                         149730 non-null  float64\n",
      " 7   NumberOfOpenCreditLinesAndLoans       149730 non-null  int64  \n",
      " 8   NumberOfTimes90DaysLate               149730 non-null  int64  \n",
      " 9   NumberRealEstateLoansOrLines          149730 non-null  int64  \n",
      " 10  NumberOfTime60-89DaysPastDueNotWorse  149730 non-null  int64  \n",
      " 11  NumberOfDependents                    149730 non-null  float64\n",
      "dtypes: float64(4), int64(8)\n",
      "memory usage: 13.7 MB\n"
     ]
    }
   ],
   "source": [
    "#恢复索引\n",
    "data.index = range(data.shape[0]) \n",
    "data.info()"
   ]
  },
  {
   "cell_type": "markdown",
   "metadata": {},
   "source": [
    "### 样本不均衡问题"
   ]
  },
  {
   "cell_type": "code",
   "execution_count": 32,
   "metadata": {},
   "outputs": [
    {
     "data": {
      "text/html": [
       "<div>\n",
       "<style scoped>\n",
       "    .dataframe tbody tr th:only-of-type {\n",
       "        vertical-align: middle;\n",
       "    }\n",
       "\n",
       "    .dataframe tbody tr th {\n",
       "        vertical-align: top;\n",
       "    }\n",
       "\n",
       "    .dataframe thead th {\n",
       "        text-align: right;\n",
       "    }\n",
       "</style>\n",
       "<table border=\"1\" class=\"dataframe\">\n",
       "  <thead>\n",
       "    <tr style=\"text-align: right;\">\n",
       "      <th></th>\n",
       "      <th>Unnamed: 0</th>\n",
       "      <th>SeriousDlqin2yrs</th>\n",
       "      <th>RevolvingUtilizationOfUnsecuredLines</th>\n",
       "      <th>age</th>\n",
       "      <th>NumberOfTime30-59DaysPastDueNotWorse</th>\n",
       "      <th>DebtRatio</th>\n",
       "      <th>MonthlyIncome</th>\n",
       "      <th>NumberOfOpenCreditLinesAndLoans</th>\n",
       "      <th>NumberOfTimes90DaysLate</th>\n",
       "      <th>NumberRealEstateLoansOrLines</th>\n",
       "      <th>NumberOfTime60-89DaysPastDueNotWorse</th>\n",
       "      <th>NumberOfDependents</th>\n",
       "    </tr>\n",
       "  </thead>\n",
       "  <tbody>\n",
       "    <tr>\n",
       "      <th>0</th>\n",
       "      <td>1</td>\n",
       "      <td>1</td>\n",
       "      <td>0.766127</td>\n",
       "      <td>45</td>\n",
       "      <td>2</td>\n",
       "      <td>0.802982</td>\n",
       "      <td>9120.0</td>\n",
       "      <td>13</td>\n",
       "      <td>0</td>\n",
       "      <td>6</td>\n",
       "      <td>0</td>\n",
       "      <td>2.0</td>\n",
       "    </tr>\n",
       "    <tr>\n",
       "      <th>1</th>\n",
       "      <td>2</td>\n",
       "      <td>0</td>\n",
       "      <td>0.957151</td>\n",
       "      <td>40</td>\n",
       "      <td>0</td>\n",
       "      <td>0.121876</td>\n",
       "      <td>2600.0</td>\n",
       "      <td>4</td>\n",
       "      <td>0</td>\n",
       "      <td>0</td>\n",
       "      <td>0</td>\n",
       "      <td>1.0</td>\n",
       "    </tr>\n",
       "    <tr>\n",
       "      <th>2</th>\n",
       "      <td>3</td>\n",
       "      <td>0</td>\n",
       "      <td>0.658180</td>\n",
       "      <td>38</td>\n",
       "      <td>1</td>\n",
       "      <td>0.085113</td>\n",
       "      <td>3042.0</td>\n",
       "      <td>2</td>\n",
       "      <td>1</td>\n",
       "      <td>0</td>\n",
       "      <td>0</td>\n",
       "      <td>0.0</td>\n",
       "    </tr>\n",
       "    <tr>\n",
       "      <th>3</th>\n",
       "      <td>4</td>\n",
       "      <td>0</td>\n",
       "      <td>0.233810</td>\n",
       "      <td>30</td>\n",
       "      <td>0</td>\n",
       "      <td>0.036050</td>\n",
       "      <td>3300.0</td>\n",
       "      <td>5</td>\n",
       "      <td>0</td>\n",
       "      <td>0</td>\n",
       "      <td>0</td>\n",
       "      <td>0.0</td>\n",
       "    </tr>\n",
       "    <tr>\n",
       "      <th>4</th>\n",
       "      <td>5</td>\n",
       "      <td>0</td>\n",
       "      <td>0.907239</td>\n",
       "      <td>49</td>\n",
       "      <td>1</td>\n",
       "      <td>0.024926</td>\n",
       "      <td>63588.0</td>\n",
       "      <td>7</td>\n",
       "      <td>0</td>\n",
       "      <td>1</td>\n",
       "      <td>0</td>\n",
       "      <td>0.0</td>\n",
       "    </tr>\n",
       "    <tr>\n",
       "      <th>...</th>\n",
       "      <td>...</td>\n",
       "      <td>...</td>\n",
       "      <td>...</td>\n",
       "      <td>...</td>\n",
       "      <td>...</td>\n",
       "      <td>...</td>\n",
       "      <td>...</td>\n",
       "      <td>...</td>\n",
       "      <td>...</td>\n",
       "      <td>...</td>\n",
       "      <td>...</td>\n",
       "      <td>...</td>\n",
       "    </tr>\n",
       "    <tr>\n",
       "      <th>149725</th>\n",
       "      <td>149996</td>\n",
       "      <td>0</td>\n",
       "      <td>0.040674</td>\n",
       "      <td>74</td>\n",
       "      <td>0</td>\n",
       "      <td>0.225131</td>\n",
       "      <td>2100.0</td>\n",
       "      <td>4</td>\n",
       "      <td>0</td>\n",
       "      <td>1</td>\n",
       "      <td>0</td>\n",
       "      <td>0.0</td>\n",
       "    </tr>\n",
       "    <tr>\n",
       "      <th>149726</th>\n",
       "      <td>149997</td>\n",
       "      <td>0</td>\n",
       "      <td>0.299745</td>\n",
       "      <td>44</td>\n",
       "      <td>0</td>\n",
       "      <td>0.716562</td>\n",
       "      <td>5584.0</td>\n",
       "      <td>4</td>\n",
       "      <td>0</td>\n",
       "      <td>1</td>\n",
       "      <td>0</td>\n",
       "      <td>2.0</td>\n",
       "    </tr>\n",
       "    <tr>\n",
       "      <th>149727</th>\n",
       "      <td>149998</td>\n",
       "      <td>0</td>\n",
       "      <td>0.246044</td>\n",
       "      <td>58</td>\n",
       "      <td>0</td>\n",
       "      <td>3870.000000</td>\n",
       "      <td>0.0</td>\n",
       "      <td>18</td>\n",
       "      <td>0</td>\n",
       "      <td>1</td>\n",
       "      <td>0</td>\n",
       "      <td>0.0</td>\n",
       "    </tr>\n",
       "    <tr>\n",
       "      <th>149728</th>\n",
       "      <td>149999</td>\n",
       "      <td>0</td>\n",
       "      <td>0.000000</td>\n",
       "      <td>30</td>\n",
       "      <td>0</td>\n",
       "      <td>0.000000</td>\n",
       "      <td>5716.0</td>\n",
       "      <td>4</td>\n",
       "      <td>0</td>\n",
       "      <td>0</td>\n",
       "      <td>0</td>\n",
       "      <td>0.0</td>\n",
       "    </tr>\n",
       "    <tr>\n",
       "      <th>149729</th>\n",
       "      <td>150000</td>\n",
       "      <td>0</td>\n",
       "      <td>0.850283</td>\n",
       "      <td>64</td>\n",
       "      <td>0</td>\n",
       "      <td>0.249908</td>\n",
       "      <td>8158.0</td>\n",
       "      <td>8</td>\n",
       "      <td>0</td>\n",
       "      <td>2</td>\n",
       "      <td>0</td>\n",
       "      <td>0.0</td>\n",
       "    </tr>\n",
       "  </tbody>\n",
       "</table>\n",
       "<p>149730 rows × 12 columns</p>\n",
       "</div>"
      ],
      "text/plain": [
       "        Unnamed: 0  SeriousDlqin2yrs  RevolvingUtilizationOfUnsecuredLines  \\\n",
       "0                1                 1                              0.766127   \n",
       "1                2                 0                              0.957151   \n",
       "2                3                 0                              0.658180   \n",
       "3                4                 0                              0.233810   \n",
       "4                5                 0                              0.907239   \n",
       "...            ...               ...                                   ...   \n",
       "149725      149996                 0                              0.040674   \n",
       "149726      149997                 0                              0.299745   \n",
       "149727      149998                 0                              0.246044   \n",
       "149728      149999                 0                              0.000000   \n",
       "149729      150000                 0                              0.850283   \n",
       "\n",
       "        age  NumberOfTime30-59DaysPastDueNotWorse    DebtRatio  MonthlyIncome  \\\n",
       "0        45                                     2     0.802982         9120.0   \n",
       "1        40                                     0     0.121876         2600.0   \n",
       "2        38                                     1     0.085113         3042.0   \n",
       "3        30                                     0     0.036050         3300.0   \n",
       "4        49                                     1     0.024926        63588.0   \n",
       "...     ...                                   ...          ...            ...   \n",
       "149725   74                                     0     0.225131         2100.0   \n",
       "149726   44                                     0     0.716562         5584.0   \n",
       "149727   58                                     0  3870.000000            0.0   \n",
       "149728   30                                     0     0.000000         5716.0   \n",
       "149729   64                                     0     0.249908         8158.0   \n",
       "\n",
       "        NumberOfOpenCreditLinesAndLoans  NumberOfTimes90DaysLate  \\\n",
       "0                                    13                        0   \n",
       "1                                     4                        0   \n",
       "2                                     2                        1   \n",
       "3                                     5                        0   \n",
       "4                                     7                        0   \n",
       "...                                 ...                      ...   \n",
       "149725                                4                        0   \n",
       "149726                                4                        0   \n",
       "149727                               18                        0   \n",
       "149728                                4                        0   \n",
       "149729                                8                        0   \n",
       "\n",
       "        NumberRealEstateLoansOrLines  NumberOfTime60-89DaysPastDueNotWorse  \\\n",
       "0                                  6                                     0   \n",
       "1                                  0                                     0   \n",
       "2                                  0                                     0   \n",
       "3                                  0                                     0   \n",
       "4                                  1                                     0   \n",
       "...                              ...                                   ...   \n",
       "149725                             1                                     0   \n",
       "149726                             1                                     0   \n",
       "149727                             1                                     0   \n",
       "149728                             0                                     0   \n",
       "149729                             2                                     0   \n",
       "\n",
       "        NumberOfDependents  \n",
       "0                      2.0  \n",
       "1                      1.0  \n",
       "2                      0.0  \n",
       "3                      0.0  \n",
       "4                      0.0  \n",
       "...                    ...  \n",
       "149725                 0.0  \n",
       "149726                 2.0  \n",
       "149727                 0.0  \n",
       "149728                 0.0  \n",
       "149729                 0.0  \n",
       "\n",
       "[149730 rows x 12 columns]"
      ]
     },
     "execution_count": 32,
     "metadata": {},
     "output_type": "execute_result"
    }
   ],
   "source": [
    "data"
   ]
  },
  {
   "cell_type": "code",
   "execution_count": 33,
   "metadata": {},
   "outputs": [
    {
     "data": {
      "text/plain": [
       "0    139851\n",
       "1      9879\n",
       "Name: SeriousDlqin2yrs, dtype: int64"
      ]
     },
     "execution_count": 33,
     "metadata": {},
     "output_type": "execute_result"
    }
   ],
   "source": [
    "# 探索标签的分布\n",
    "X = data.iloc[:,2:]\n",
    "y = data.iloc[:,1]\n",
    "\n",
    "y.value_counts()"
   ]
  },
  {
   "cell_type": "code",
   "execution_count": 34,
   "metadata": {
    "collapsed": true,
    "jupyter": {
     "outputs_hidden": true
    }
   },
   "outputs": [
    {
     "data": {
      "text/plain": [
       "0         1\n",
       "1         0\n",
       "2         0\n",
       "3         0\n",
       "4         0\n",
       "         ..\n",
       "149725    0\n",
       "149726    0\n",
       "149727    0\n",
       "149728    0\n",
       "149729    0\n",
       "Name: SeriousDlqin2yrs, Length: 149730, dtype: int64"
      ]
     },
     "execution_count": 34,
     "metadata": {},
     "output_type": "execute_result"
    }
   ],
   "source": [
    "y"
   ]
  },
  {
   "cell_type": "code",
   "execution_count": 35,
   "metadata": {},
   "outputs": [
    {
     "name": "stdout",
     "output_type": "stream",
     "text": [
      "样本个数：149730;1占6.60%;0占93.40%\n"
     ]
    }
   ],
   "source": [
    "n_sample = X.shape[0]\n",
    "n_1_sample = y.value_counts()[1]\n",
    "n_0_sample = y.value_counts()[0]\n",
    "\n",
    "print('样本个数：{};1占{:.2%};0占{:.2%}'.format(n_sample,n_1_sample/n_sample,n_0_sample/n_sample))"
   ]
  },
  {
   "cell_type": "code",
   "execution_count": 37,
   "metadata": {},
   "outputs": [],
   "source": [
    "#imblearn是专门用来处理不平衡数据集的库，在处理样本不均衡问题中性能高过sklearn很多 \n",
    "#imblearn里面也是一个个的类，也需要进行实例化，fit拟合，和sklearn用法相似\n",
    "import imblearn"
   ]
  },
  {
   "cell_type": "code",
   "execution_count": 38,
   "metadata": {},
   "outputs": [
    {
     "name": "stdout",
     "output_type": "stream",
     "text": [
      "样本个数：279702;1占50.00%;0占50.00%\n"
     ]
    }
   ],
   "source": [
    "from imblearn.over_sampling import SMOTE\n",
    "\n",
    "sm = SMOTE(random_state=17)\n",
    "X,y = sm.fit_sample(X,y)\n",
    "\n",
    "n_sample_ = X.shape[0]\n",
    "n_1_sample_ = y.value_counts()[1]\n",
    "n_0_sample_ = y.value_counts()[0]\n",
    "\n",
    "print('样本个数：{};1占{:.2%};0占{:.2%}'.format(n_sample_,n_1_sample_/n_sample_,n_0_sample_/n_sample_))"
   ]
  },
  {
   "cell_type": "code",
   "execution_count": 42,
   "metadata": {},
   "outputs": [
    {
     "name": "stderr",
     "output_type": "stream",
     "text": [
      "/home/shban/anaconda3/lib/python3.7/site-packages/ipykernel_launcher.py:8: UserWarning: Pandas doesn't allow columns to be created via a new attribute name - see https://pandas.pydata.org/pandas-docs/stable/indexing.html#attribute-access\n",
      "  \n"
     ]
    }
   ],
   "source": [
    "from sklearn.model_selection import train_test_split\n",
    "X = pd.DataFrame(X)\n",
    "y = pd.DataFrame(y)\n",
    "\n",
    "X_train,X_vali,Y_train,Y_vali = train_test_split(X,y,test_size=0.3,random_state=0)\n",
    "model_data = pd.concat([Y_train,X_train],axis=1)\n",
    "model_data.index = range(model_data.shape[0])\n",
    "model_data.cloumns = data.columns\n",
    "\n",
    "vali_data = pd.concat([Y_vali,X_vali],axis=1)\n",
    "vali_data.index = range(vali_data.shape[0])\n",
    "vali_data.columns = data.columns[1:]\n",
    "\n",
    "model_data.to_csv(\"model_data.csv\")\n",
    "vali_data.to_csv(\"vali_data.csv\")"
   ]
  },
  {
   "cell_type": "markdown",
   "metadata": {},
   "source": [
    "### 等频分箱"
   ]
  },
  {
   "cell_type": "code",
   "execution_count": 47,
   "metadata": {},
   "outputs": [
    {
     "data": {
      "text/plain": [
       "0          (28.0, 31.0]\n",
       "1          (41.0, 43.0]\n",
       "2          (68.0, 74.0]\n",
       "3          (58.0, 61.0]\n",
       "4          (50.0, 52.0]\n",
       "              ...      \n",
       "195786     (36.0, 39.0]\n",
       "195787     (28.0, 31.0]\n",
       "195788     (64.0, 68.0]\n",
       "195789     (39.0, 41.0]\n",
       "195790    (74.0, 107.0]\n",
       "Name: qcut, Length: 195791, dtype: category\n",
       "Categories (20, interval[float64]): [(20.999, 28.0] < (28.0, 31.0] < (31.0, 34.0] < (34.0, 36.0] ... (61.0, 64.0] < (64.0, 68.0] < (68.0, 74.0] < (74.0, 107.0]]"
      ]
     },
     "execution_count": 47,
     "metadata": {},
     "output_type": "execute_result"
    }
   ],
   "source": [
    "# 按照等频对需要分箱的列进行分箱\n",
    "model_data['qcut'],updown = pd.qcut(model_data[\"age\"],retbins=True,q=20)\n",
    "\"\"\"\n",
    "pd.qcut，基于分位数的分箱函数，本质是将连续型变量离散化 \n",
    "只能够处理一维数据。返回箱子的上限和下限\n",
    "参数q：要分箱的个数 \n",
    "参数retbins=True来要求同时返回结构为索引为样本索引，元素为分到的箱子的Series \n",
    "现在返回两个值：每个样本属于哪个箱子，以及所有箱子的上限和下限\n",
    "\"\"\"\n",
    "# 在这里时让model_data新添加一列叫做“分箱”，这一列其实就是每个样本所对应的箱子\n",
    "model_data[\"qcut\"]"
   ]
  },
  {
   "cell_type": "code",
   "execution_count": 48,
   "metadata": {},
   "outputs": [
    {
     "data": {
      "text/plain": [
       "array([ 21.,  28.,  31.,  34.,  36.,  39.,  41.,  43.,  45.,  47.,  48.,\n",
       "        50.,  52.,  54.,  56.,  58.,  61.,  64.,  68.,  74., 107.])"
      ]
     },
     "execution_count": 48,
     "metadata": {},
     "output_type": "execute_result"
    }
   ],
   "source": [
    "# 所有箱子的上限和下限\n",
    "updown"
   ]
  },
  {
   "cell_type": "code",
   "execution_count": 52,
   "metadata": {},
   "outputs": [],
   "source": [
    "# 统计每个分箱中0和1的数量\n",
    "# 这里使用了数据透视表的功能groupby\n",
    "count_y0 = model_data[model_data[\"SeriousDlqin2yrs\"] == 0].groupby(by=\"qcut\").count()[\"SeriousDlqin2yrs\"]\n",
    "count_y1 = model_data[model_data[\"SeriousDlqin2yrs\"] == 1].groupby(by=\"qcut\").count()[\"SeriousDlqin2yrs\"]"
   ]
  },
  {
   "cell_type": "code",
   "execution_count": 73,
   "metadata": {},
   "outputs": [],
   "source": [
    "#num_bins值分别为每个区间的上界，下界，0出现的次数，1出现的次数\n",
    "num_bins = [*zip(updown,updown[1:],count_y0,count_y1)]"
   ]
  },
  {
   "cell_type": "code",
   "execution_count": 54,
   "metadata": {},
   "outputs": [
    {
     "data": {
      "text/plain": [
       "[(21.0, 28.0, 4309, 7409),\n",
       " (28.0, 31.0, 3551, 6079),\n",
       " (31.0, 34.0, 3984, 6665),\n",
       " (34.0, 36.0, 2885, 4670),\n",
       " (36.0, 39.0, 5246, 7513),\n",
       " (39.0, 41.0, 4001, 6015),\n",
       " (41.0, 43.0, 4029, 5750),\n",
       " (43.0, 45.0, 4423, 5807),\n",
       " (45.0, 47.0, 4704, 6565),\n",
       " (47.0, 48.0, 2503, 3134),\n",
       " (48.0, 50.0, 4920, 6198),\n",
       " (50.0, 52.0, 4675, 5702),\n",
       " (52.0, 54.0, 4673, 4862),\n",
       " (54.0, 56.0, 4551, 4119),\n",
       " (56.0, 58.0, 4538, 3597),\n",
       " (58.0, 61.0, 6695, 4916),\n",
       " (61.0, 64.0, 6884, 3291),\n",
       " (64.0, 68.0, 6601, 2345),\n",
       " (68.0, 74.0, 6894, 1913),\n",
       " (74.0, 107.0, 7811, 1364)]"
      ]
     },
     "execution_count": 54,
     "metadata": {},
     "output_type": "execute_result"
    }
   ],
   "source": [
    "#注意zip会按照最短列来进行结合\n",
    "num_bins"
   ]
  },
  {
   "cell_type": "code",
   "execution_count": 56,
   "metadata": {},
   "outputs": [],
   "source": [
    "#计算WOE和BAD RATE\n",
    "#BAD RATE与bad%不是一个东西 \n",
    "#BAD RATE是一个箱中，坏的样本所占的比例 (bad/total)\n",
    "#而bad%是一个箱中的坏样本占整个特征中的坏样本的比例\n",
    "\n",
    "def get_woe(num_bins):\n",
    "    # 通过num_bins数据计算woe\n",
    "    columns = [\"min\",\"max\",\"count_0\",\"count_1\"]\n",
    "    df = pd.DataFrame(num_bins,columns=columns)\n",
    "    \n",
    "    df[\"total\"] = df.count_0 + df.count_1\n",
    "    df[\"percentage\"] = df.total / df.total.sum()\n",
    "    df[\"bad_rate\"] = df.count_1 / df.total\n",
    "    df[\"good%\"] = df.count_0 / df.count_0.sum()\n",
    "    df[\"bad%\"] = df.count_1 / df.count_1.sum()\n",
    "    df[\"woe\"] = np.log(df[\"good%\"]/df[\"bad%\"])\n",
    "    \n",
    "    return df"
   ]
  },
  {
   "cell_type": "code",
   "execution_count": 57,
   "metadata": {},
   "outputs": [],
   "source": [
    "# 计算IV值\n",
    "def get_iv(df):\n",
    "    rate = df[\"good%\"] - df[\"bad%\"]\n",
    "    iv = np.sum(rate * df.woe)\n",
    "    return iv"
   ]
  },
  {
   "cell_type": "markdown",
   "metadata": {},
   "source": [
    "### 3.3.4 卡方检验，合并箱体，画出IV曲线"
   ]
  },
  {
   "cell_type": "code",
   "execution_count": 60,
   "metadata": {},
   "outputs": [
    {
     "data": {
      "image/png": "[encoded data removed]",
      "text/plain": [
       "<Figure size 432x288 with 1 Axes>"
      ]
     },
     "metadata": {
      "needs_background": "light"
     },
     "output_type": "display_data"
    }
   ],
   "source": [
    "num_bins_ = num_bins.copy()\n",
    "\n",
    "import matplotlib.pyplot as plt\n",
    "import scipy\n",
    "\n",
    "IV = []\n",
    "axisx = []\n",
    "\n",
    "while len(num_bins_) > 2:\n",
    "    pvs = []\n",
    "    # 获取num_bins_两两之间的卡方检验的置信度（或卡方值）\n",
    "    for i in range(len(num_bins_)-1):\n",
    "        x1 = num_bins_[i][2:]\n",
    "        x2 = num_bins_[i+1][2:]\n",
    "        \n",
    "        # 0 返回chi2值，1返回p值\n",
    "        pv = scipy.stats.chi2_contingency([x1,x2])[1]\n",
    "#         chi2 = scipy.stats.chi2_contingency([x1,x2])[0]\n",
    "        pvs.append(pv)\n",
    "    \n",
    "    # 通过p值进行处理。合并p值最大的两组\n",
    "    i = pvs.index(max(pvs))\n",
    "    num_bins_[i:i+2] = [(\n",
    "            num_bins_[i][0],\n",
    "            num_bins_[i+1][0],\n",
    "            num_bins_[i][2]+num_bins_[i+1][2],\n",
    "            num_bins_[i][3]+num_bins_[i+1][3]\n",
    "    )]\n",
    "    \n",
    "    bins_df = get_woe(num_bins_)\n",
    "    axisx.append(len(num_bins_))\n",
    "    IV.append(get_iv(bins_df))\n",
    "\n",
    "plt.figure()\n",
    "plt.plot(axisx,IV)\n",
    "plt.xticks(axisx)\n",
    "plt.xlabel(\"number of box\")\n",
    "plt.ylabel(\"IV\")\n",
    "plt.show()"
   ]
  },
  {
   "cell_type": "markdown",
   "metadata": {},
   "source": [
    "从上图中看，箱子个数在从19减少到6的过程中，信息量的下降并不明显，从6往下减少时，信息量的下降突然加快，所以说6是个重要的拐点，我们可以选6作为箱子的个数"
   ]
  },
  {
   "cell_type": "code",
   "execution_count": 61,
   "metadata": {},
   "outputs": [
    {
     "data": {
      "text/plain": [
       "[(21.0, 52.0, 69687, 89001), (61.0, 74.0, 28190, 8913)]"
      ]
     },
     "execution_count": 61,
     "metadata": {},
     "output_type": "execute_result"
    }
   ],
   "source": [
    "num_bins_"
   ]
  },
  {
   "cell_type": "markdown",
   "metadata": {},
   "source": [
    "### 3.3.5 用最佳分箱个数分箱，并验证分箱结果"
   ]
  },
  {
   "cell_type": "code",
   "execution_count": 70,
   "metadata": {},
   "outputs": [],
   "source": [
    "def get_bin(num_bins_,n):\n",
    "    while len(num_bins_) > n:\n",
    "        pvs = []\n",
    "        # 获取num_bins_两两之间的卡方检验的置信度（或卡方值）\n",
    "        for i in range(len(num_bins_)-1):\n",
    "            x1 = num_bins_[i][2:]\n",
    "            x2 = num_bins_[i+1][2:]\n",
    "\n",
    "            # 0 返回chi2值，1返回p值\n",
    "            pv = scipy.stats.chi2_contingency([x1,x2])[1]\n",
    "        # chi2 = scipy.stats.chi2_contingency([x1,x2])[0]\n",
    "            pvs.append(pv)\n",
    "\n",
    "        # 通过p值进行处理。合并p值最大的两组\n",
    "        i = pvs.index(max(pvs))\n",
    "        num_bins_[i:i+2] = [(\n",
    "                num_bins_[i][0],\n",
    "                num_bins_[i+1][0],\n",
    "                num_bins_[i][2]+num_bins_[i+1][2],\n",
    "                num_bins_[i][3]+num_bins_[i+1][3]\n",
    "        )]\n",
    "    \n",
    "    return num_bins_"
   ]
  },
  {
   "cell_type": "code",
   "execution_count": 74,
   "metadata": {},
   "outputs": [],
   "source": [
    "num_bins = num_bins.copy()"
   ]
  },
  {
   "cell_type": "code",
   "execution_count": 75,
   "metadata": {},
   "outputs": [
    {
     "data": {
      "text/plain": [
       "[(21.0, 28.0, 4309, 7409),\n",
       " (28.0, 31.0, 3551, 6079),\n",
       " (31.0, 34.0, 3984, 6665),\n",
       " (34.0, 36.0, 2885, 4670),\n",
       " (36.0, 39.0, 5246, 7513),\n",
       " (39.0, 41.0, 4001, 6015),\n",
       " (41.0, 43.0, 4029, 5750),\n",
       " (43.0, 45.0, 4423, 5807),\n",
       " (45.0, 47.0, 4704, 6565),\n",
       " (47.0, 48.0, 2503, 3134),\n",
       " (48.0, 50.0, 4920, 6198),\n",
       " (50.0, 52.0, 4675, 5702),\n",
       " (52.0, 54.0, 4673, 4862),\n",
       " (54.0, 56.0, 4551, 4119),\n",
       " (56.0, 58.0, 4538, 3597),\n",
       " (58.0, 61.0, 6695, 4916),\n",
       " (61.0, 64.0, 6884, 3291),\n",
       " (64.0, 68.0, 6601, 2345),\n",
       " (68.0, 74.0, 6894, 1913),\n",
       " (74.0, 107.0, 7811, 1364)]"
      ]
     },
     "execution_count": 75,
     "metadata": {},
     "output_type": "execute_result"
    }
   ],
   "source": [
    "num_bins"
   ]
  },
  {
   "cell_type": "code",
   "execution_count": 76,
   "metadata": {},
   "outputs": [],
   "source": [
    "afterbins = get_bin(num_bins,4)"
   ]
  },
  {
   "cell_type": "code",
   "execution_count": 77,
   "metadata": {},
   "outputs": [
    {
     "data": {
      "text/plain": [
       "[(21.0, 36.0, 49230, 71507),\n",
       " (52.0, 56.0, 20457, 17494),\n",
       " (61.0, 64.0, 20379, 7549),\n",
       " (74.0, 107.0, 7811, 1364)]"
      ]
     },
     "execution_count": 77,
     "metadata": {},
     "output_type": "execute_result"
    }
   ],
   "source": [
    "afterbins"
   ]
  },
  {
   "cell_type": "markdown",
   "metadata": {},
   "source": [
    "### 3.3.6 将选取最佳分箱个数的过程包装为函数"
   ]
  },
  {
   "cell_type": "code",
   "execution_count": null,
   "metadata": {},
   "outputs": [],
   "source": []
  }
 ],
 "metadata": {
  "kernelspec": {
   "display_name": "Python 3",
   "language": "python",
   "name": "python3"
  },
  "language_info": {
   "codemirror_mode": {
    "name": "ipython",
    "version": 3
   },
   "file_extension": ".py",
   "mimetype": "text/x-python",
   "name": "python",
   "nbconvert_exporter": "python",
   "pygments_lexer": "ipython3",
   "version": "3.7.6"
  }
 },
 "nbformat": 4,
 "nbformat_minor": 4
}
