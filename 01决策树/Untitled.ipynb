{
 "cells": [
  {
   "cell_type": "code",
   "execution_count": 1,
   "metadata": {},
   "outputs": [],
   "source": [
    "import numpy as np\n",
    "from sklearn.tree import DecisionTreeRegressor\n",
    "import matplotlib.pyplot as plt\n",
    "np.set_printoptions(suppress=True)"
   ]
  },
  {
   "cell_type": "code",
   "execution_count": 5,
   "metadata": {},
   "outputs": [],
   "source": [
    "rng = np.random.RandomState(1)"
   ]
  },
  {
   "cell_type": "code",
   "execution_count": 8,
   "metadata": {
    "collapsed": true,
    "jupyter": {
     "outputs_hidden": true
    }
   },
   "outputs": [
    {
     "data": {
      "text/plain": [
       "array([[1.1992388 ],\n",
       "       [2.46884857],\n",
       "       [3.09977859],\n",
       "       [4.1449045 ],\n",
       "       [0.78395697],\n",
       "       [0.09288101],\n",
       "       [0.35011072],\n",
       "       [2.43172555],\n",
       "       [3.03164731],\n",
       "       [2.84425719],\n",
       "       [1.58681205],\n",
       "       [4.94308077],\n",
       "       [2.8987261 ],\n",
       "       [1.90070586],\n",
       "       [2.7547411 ],\n",
       "       [3.72667215],\n",
       "       [3.34616447],\n",
       "       [1.32459779],\n",
       "       [0.33167417],\n",
       "       [1.85042099],\n",
       "       [3.14858754],\n",
       "       [1.05087005],\n",
       "       [3.76377777],\n",
       "       [0.33268241],\n",
       "       [1.30157549],\n",
       "       [4.02377282],\n",
       "       [0.96717141],\n",
       "       [3.1973044 ],\n",
       "       [2.62335155],\n",
       "       [4.62403985],\n",
       "       [1.31648385],\n",
       "       [0.32980545],\n",
       "       [3.67532982],\n",
       "       [3.86089015],\n",
       "       [4.53907926],\n",
       "       [4.65986035],\n",
       "       [0.06975786],\n",
       "       [1.17181043],\n",
       "       [3.08389179],\n",
       "       [4.7450816 ],\n",
       "       [4.7508806 ],\n",
       "       [2.78326594],\n",
       "       [4.57803175],\n",
       "       [3.20783104],\n",
       "       [1.95003857],\n",
       "       [2.42995334],\n",
       "       [3.02155241],\n",
       "       [2.74773961],\n",
       "       [4.63090713],\n",
       "       [4.59366718],\n",
       "       [1.97437806],\n",
       "       [4.81631264],\n",
       "       [0.86977833],\n",
       "       [0.6316476 ],\n",
       "       [0.67539579],\n",
       "       [2.52831083],\n",
       "       [0.10762403],\n",
       "       [4.73985106],\n",
       "       [4.13557736],\n",
       "       [0.0750949 ],\n",
       "       [0.88098128],\n",
       "       [1.66031787],\n",
       "       [0.65498422],\n",
       "       [4.04745346],\n",
       "       [1.72368326],\n",
       "       [4.70053741],\n",
       "       [2.9100709 ],\n",
       "       [4.39415992],\n",
       "       [4.22367223],\n",
       "       [4.52696159],\n",
       "       [2.29940133],\n",
       "       [2.73173408],\n",
       "       [3.99301796],\n",
       "       [1.42859426],\n",
       "       [2.45126761],\n",
       "       [2.99555154],\n",
       "       [0.07766638],\n",
       "       [2.96740704],\n",
       "       [2.16838174],\n",
       "       [4.03680264]])"
      ]
     },
     "execution_count": 8,
     "metadata": {},
     "output_type": "execute_result"
    }
   ],
   "source": [
    "# 回归树不能用一维数据，至少二维数据\n",
    "5*rng.rand(80,1)"
   ]
  },
  {
   "cell_type": "code",
   "execution_count": null,
   "metadata": {},
   "outputs": [],
   "source": [
    "np.ravel() # 降维"
   ]
  },
  {
   "cell_type": "code",
   "execution_count": 2,
   "metadata": {
    "pycharm": {
     "name": "#%%\n"
    }
   },
   "outputs": [
    {
     "data": {
      "text/plain": "'3.6.2 |Anaconda custom (64-bit)| (default, Jul 20 2017, 12:30:02) [MSC v.1900 64 bit (AMD64)]'"
     },
     "execution_count": 2,
     "metadata": {},
     "output_type": "execute_result"
    }
   ],
   "source": [
    "\n",
    "\n",
    "import sys\n",
    "sys.version\n",
    "\n"
   ]
  }
 ],
 "metadata": {
  "kernelspec": {
   "display_name": "Python [conda root]",
   "language": "python",
   "name": "conda-root-py"
  },
  "language_info": {
   "codemirror_mode": {
    "name": "ipython",
    "version": 3
   },
   "file_extension": ".py",
   "mimetype": "text/x-python",
   "name": "python",
   "nbconvert_exporter": "python",
   "pygments_lexer": "ipython3",
   "version": "3.6.2"
  }
 },
 "nbformat": 4,
 "nbformat_minor": 4
}