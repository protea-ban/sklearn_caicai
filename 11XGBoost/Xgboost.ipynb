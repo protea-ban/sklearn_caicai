{
 "cells": [
  {
   "cell_type": "code",
   "execution_count": 10,
   "metadata": {},
   "outputs": [],
   "source": [
    "from xgboost import XGBRegressor as XGBR\n",
    "from sklearn.ensemble import RandomForestRegressor as RFR\n",
    "from sklearn.linear_model import LinearRegression as LinearR\n",
    "from sklearn.datasets import load_boston\n",
    "from sklearn.model_selection import KFold, cross_val_score as CVS, train_test_split as TTS\n",
    "from sklearn.metrics import mean_squared_error as MSE\n",
    "import pandas as pd\n",
    "import numpy as np\n",
    "import matplotlib.pyplot as plt\n",
    "from time import time\n",
    "import datetime"
   ]
  },
  {
   "cell_type": "code",
   "execution_count": 13,
   "metadata": {},
   "outputs": [],
   "source": [
    "data = load_boston()"
   ]
  },
  {
   "cell_type": "code",
   "execution_count": 14,
   "metadata": {},
   "outputs": [],
   "source": [
    "X = data.data"
   ]
  },
  {
   "cell_type": "code",
   "execution_count": 15,
   "metadata": {},
   "outputs": [],
   "source": [
    "y = data.target"
   ]
  },
  {
   "cell_type": "code",
   "execution_count": 16,
   "metadata": {},
   "outputs": [
    {
     "data": {
      "text/plain": [
       "(506, 13)"
      ]
     },
     "execution_count": 16,
     "metadata": {},
     "output_type": "execute_result"
    }
   ],
   "source": [
    "X.shape"
   ]
  },
  {
   "cell_type": "code",
   "execution_count": 17,
   "metadata": {},
   "outputs": [],
   "source": [
    "Xtrain, Xtest, Ytrain, Ytest = TTS(X,y,test_size=0.3,random_state=0)"
   ]
  },
  {
   "cell_type": "code",
   "execution_count": 7,
   "metadata": {
    "collapsed": true,
    "jupyter": {
     "outputs_hidden": true
    }
   },
   "outputs": [
    {
     "data": {
      "text/plain": [
       "array([23.514858 , 25.357508 , 23.967196 ,  8.312717 , 21.130411 ,\n",
       "       21.105719 , 20.725838 , 19.562037 , 18.492672 , 18.792444 ,\n",
       "        5.245555 , 14.614181 , 14.519265 ,  8.962308 , 49.295475 ,\n",
       "       35.596317 , 20.7442   , 36.336857 , 27.304792 , 22.107613 ,\n",
       "       23.722286 , 22.575104 , 20.196106 , 24.18872  , 20.026031 ,\n",
       "       18.116072 , 17.950891 , 17.61209  , 46.694416 , 17.947472 ,\n",
       "       17.039282 , 16.824755 , 19.347273 , 19.862356 , 26.527122 ,\n",
       "       18.40976  ,  8.042849 , 26.1059   , 14.421125 , 15.414048 ,\n",
       "       23.519497 , 21.43997  , 23.397078 , 14.55915  , 21.181278 ,\n",
       "       22.45081  , 20.791506 , 17.89683  , 15.855738 , 23.79707  ,\n",
       "       17.793732 , 20.995626 , 20.236633 , 37.784916 , 15.410646 ,\n",
       "       19.505308 , 17.211187 , 17.786005 , 17.191828 , 20.571682 ,\n",
       "       21.583426 , 20.924376 , 31.629545 , 28.701424 , 19.519058 ,\n",
       "       27.415407 , 17.743    , 18.192339 , 13.872983 , 24.24774  ,\n",
       "       20.135036 , 22.032103 , 23.491331 , 32.40808  , 24.937778 ,\n",
       "        8.862285 , 43.742855 , 23.45061  , 23.38347  , 20.197687 ,\n",
       "       27.97769  , 18.358309 , 18.200823 , 44.70929  , 42.094975 ,\n",
       "       24.661394 , 23.25523  , 15.977877 , 26.537018 , 15.474883 ,\n",
       "       16.433075 , 10.705077 , 22.38792  , 29.772745 , 22.021315 ,\n",
       "       21.82858  , 11.741111 , 22.64657  , 15.242757 , 16.76161  ,\n",
       "       25.904829 , 20.203993 , 27.501959 , 21.397993 , 27.503801 ,\n",
       "       19.084013 ,  9.107785 , 19.315004 , 22.248186 , 24.296366 ,\n",
       "       41.40106  , 15.162588 , 18.934904 , 18.954075 , 14.623784 ,\n",
       "       22.657768 , 10.737891 , 19.989202 , 11.036054 , 47.228737 ,\n",
       "       32.34033  , 10.780696 , 17.34038  , 22.572641 , 19.199516 ,\n",
       "       19.785797 , 34.125263 , 15.406457 , 20.232906 , 33.089832 ,\n",
       "       14.165785 , 11.554947 , 11.60668  , 22.096716 , 11.127878 ,\n",
       "       34.85955  , 21.023129 , 16.952658 , 28.24165  ,  8.863116 ,\n",
       "       10.1082115, 22.670435 , 33.566044 , 25.325668 , 23.780787 ,\n",
       "       16.421217 , 36.25648  , 32.830173 ,  5.996741 ,  7.9217854,\n",
       "       27.596132 , 23.349857 ], dtype=float32)"
      ]
     },
     "execution_count": 7,
     "metadata": {},
     "output_type": "execute_result"
    }
   ],
   "source": [
    "reg = XGBR(n_estimators=100).fit(Xtrain, Ytrain)\n",
    "reg.predict(Xtest)"
   ]
  },
  {
   "cell_type": "code",
   "execution_count": 8,
   "metadata": {},
   "outputs": [
    {
     "data": {
      "text/plain": [
       "0.7876616442512873"
      ]
     },
     "execution_count": 8,
     "metadata": {},
     "output_type": "execute_result"
    }
   ],
   "source": [
    "reg.score(Xtest,Ytest)"
   ]
  },
  {
   "cell_type": "code",
   "execution_count": 9,
   "metadata": {},
   "outputs": [
    {
     "data": {
      "text/plain": [
       "17.680459709835162"
      ]
     },
     "execution_count": 9,
     "metadata": {},
     "output_type": "execute_result"
    }
   ],
   "source": [
    "MSE(Ytest, reg.predict(Xtest))"
   ]
  },
  {
   "cell_type": "code",
   "execution_count": 10,
   "metadata": {},
   "outputs": [
    {
     "data": {
      "text/plain": [
       "0.8810174653672738"
      ]
     },
     "execution_count": 10,
     "metadata": {},
     "output_type": "execute_result"
    }
   ],
   "source": [
    "reg = XGBR(n_estimators=100)\n",
    "CVS(reg, Xtrain, Ytrain, cv=5).mean()"
   ]
  },
  {
   "cell_type": "code",
   "execution_count": 11,
   "metadata": {},
   "outputs": [
    {
     "data": {
      "text/plain": [
       "-9.934063463926446"
      ]
     },
     "execution_count": 11,
     "metadata": {},
     "output_type": "execute_result"
    }
   ],
   "source": [
    "CVS(reg,Xtrain,Ytrain,cv=5,scoring='neg_mean_squared_error').mean()"
   ]
  },
  {
   "cell_type": "code",
   "execution_count": 12,
   "metadata": {
    "collapsed": true,
    "jupyter": {
     "outputs_hidden": true
    }
   },
   "outputs": [
    {
     "data": {
      "text/plain": [
       "['accuracy',\n",
       " 'adjusted_mutual_info_score',\n",
       " 'adjusted_rand_score',\n",
       " 'average_precision',\n",
       " 'balanced_accuracy',\n",
       " 'completeness_score',\n",
       " 'explained_variance',\n",
       " 'f1',\n",
       " 'f1_macro',\n",
       " 'f1_micro',\n",
       " 'f1_samples',\n",
       " 'f1_weighted',\n",
       " 'fowlkes_mallows_score',\n",
       " 'homogeneity_score',\n",
       " 'jaccard',\n",
       " 'jaccard_macro',\n",
       " 'jaccard_micro',\n",
       " 'jaccard_samples',\n",
       " 'jaccard_weighted',\n",
       " 'max_error',\n",
       " 'mutual_info_score',\n",
       " 'neg_brier_score',\n",
       " 'neg_log_loss',\n",
       " 'neg_mean_absolute_error',\n",
       " 'neg_mean_gamma_deviance',\n",
       " 'neg_mean_poisson_deviance',\n",
       " 'neg_mean_squared_error',\n",
       " 'neg_mean_squared_log_error',\n",
       " 'neg_median_absolute_error',\n",
       " 'neg_root_mean_squared_error',\n",
       " 'normalized_mutual_info_score',\n",
       " 'precision',\n",
       " 'precision_macro',\n",
       " 'precision_micro',\n",
       " 'precision_samples',\n",
       " 'precision_weighted',\n",
       " 'r2',\n",
       " 'recall',\n",
       " 'recall_macro',\n",
       " 'recall_micro',\n",
       " 'recall_samples',\n",
       " 'recall_weighted',\n",
       " 'roc_auc',\n",
       " 'roc_auc_ovo',\n",
       " 'roc_auc_ovo_weighted',\n",
       " 'roc_auc_ovr',\n",
       " 'roc_auc_ovr_weighted',\n",
       " 'v_measure_score']"
      ]
     },
     "execution_count": 12,
     "metadata": {},
     "output_type": "execute_result"
    }
   ],
   "source": [
    "# 查看sklearn中所有的模型评估指标\n",
    "import sklearn\n",
    "sorted(sklearn.metrics.SCORERS.keys())"
   ]
  },
  {
   "cell_type": "code",
   "execution_count": 13,
   "metadata": {},
   "outputs": [
    {
     "data": {
      "text/plain": [
       "0.8456267665600329"
      ]
     },
     "execution_count": 13,
     "metadata": {},
     "output_type": "execute_result"
    }
   ],
   "source": [
    "# 用随机森林进行对比\n",
    "rfr = RFR(n_estimators=100)\n",
    "CVS(rfr,Xtrain,Ytrain,cv=5).mean()"
   ]
  },
  {
   "cell_type": "code",
   "execution_count": 14,
   "metadata": {},
   "outputs": [
    {
     "data": {
      "text/plain": [
       "-13.042257400603617"
      ]
     },
     "execution_count": 14,
     "metadata": {},
     "output_type": "execute_result"
    }
   ],
   "source": [
    "CVS(rfr, Xtrain, Ytrain, scoring='neg_mean_squared_error').mean()"
   ]
  },
  {
   "cell_type": "code",
   "execution_count": 15,
   "metadata": {},
   "outputs": [
    {
     "data": {
      "text/plain": [
       "0.7183293974315926"
      ]
     },
     "execution_count": 15,
     "metadata": {},
     "output_type": "execute_result"
    }
   ],
   "source": [
    "# 使用逻辑回归对比\n",
    "lr = LinearR()\n",
    "CVS(lr,Xtrain, Ytrain,cv=5).mean()"
   ]
  },
  {
   "cell_type": "code",
   "execution_count": 16,
   "metadata": {},
   "outputs": [
    {
     "data": {
      "text/plain": [
       "-23.000986361909185"
      ]
     },
     "execution_count": 16,
     "metadata": {},
     "output_type": "execute_result"
    }
   ],
   "source": [
    "CVS(lr,Xtrain,Ytrain,scoring='neg_mean_squared_error',cv=5).mean()"
   ]
  },
  {
   "cell_type": "code",
   "execution_count": 17,
   "metadata": {},
   "outputs": [
    {
     "name": "stdout",
     "output_type": "stream",
     "text": [
      "[14:56:35] WARNING: /workspace/src/learner.cc:480: \n",
      "Parameters: { silent } might not be used.\n",
      "\n",
      "  This may not be accurate due to some parameters are only used in language bindings but\n",
      "  passed down to XGBoost core.  Or some parameters are not used but slip through this\n",
      "  verification. Please open an issue if you find above cases.\n",
      "\n",
      "\n",
      "[14:56:35] WARNING: /workspace/src/learner.cc:480: \n",
      "Parameters: { silent } might not be used.\n",
      "\n",
      "  This may not be accurate due to some parameters are only used in language bindings but\n",
      "  passed down to XGBoost core.  Or some parameters are not used but slip through this\n",
      "  verification. Please open an issue if you find above cases.\n",
      "\n",
      "\n",
      "[14:56:35] WARNING: /workspace/src/learner.cc:480: \n",
      "Parameters: { silent } might not be used.\n",
      "\n",
      "  This may not be accurate due to some parameters are only used in language bindings but\n",
      "  passed down to XGBoost core.  Or some parameters are not used but slip through this\n",
      "  verification. Please open an issue if you find above cases.\n",
      "\n",
      "\n",
      "[14:56:35] WARNING: /workspace/src/learner.cc:480: \n",
      "Parameters: { silent } might not be used.\n",
      "\n",
      "  This may not be accurate due to some parameters are only used in language bindings but\n",
      "  passed down to XGBoost core.  Or some parameters are not used but slip through this\n",
      "  verification. Please open an issue if you find above cases.\n",
      "\n",
      "\n",
      "[14:56:35] WARNING: /workspace/src/learner.cc:480: \n",
      "Parameters: { silent } might not be used.\n",
      "\n",
      "  This may not be accurate due to some parameters are only used in language bindings but\n",
      "  passed down to XGBoost core.  Or some parameters are not used but slip through this\n",
      "  verification. Please open an issue if you find above cases.\n",
      "\n",
      "\n"
     ]
    },
    {
     "data": {
      "text/plain": [
       "-13.007567606289532"
      ]
     },
     "execution_count": 17,
     "metadata": {},
     "output_type": "execute_result"
    }
   ],
   "source": [
    "# 使用silent参数\n",
    "reg = XGBR(n_estimators=10, silent=False)\n",
    "CVS(reg, Xtrain, Ytrain, cv=5,scoring='neg_mean_squared_error').mean()"
   ]
  },
  {
   "cell_type": "code",
   "execution_count": 18,
   "metadata": {},
   "outputs": [],
   "source": [
    "# 定义绘制以训练样本为横坐标的学习曲线的函数\n",
    "def plot_learning_curve(estimator,title,X,y\n",
    "                        ,ax=None\n",
    "                        ,ylim=None\n",
    "                        ,cv=None\n",
    "                        ,n_jobs=None\n",
    "                       ):\n",
    "    from sklearn.model_selection import learning_curve\n",
    "    import matplotlib.pyplot as plt\n",
    "    import numpy as np\n",
    "    \n",
    "    train_sizes, train_scores, test_scores = learning_curve(estimator,X,y\n",
    "                                                            ,shuffle=True\n",
    "                                                            ,cv=cv\n",
    "                                                            ,n_jobs=n_jobs\n",
    "                                                           )\n",
    "    if ax == None:\n",
    "        ax = plt.gca()\n",
    "    else:\n",
    "        ax = plt.figure()\n",
    "    \n",
    "    ax.set_title(title)\n",
    "    if ylim is not None:\n",
    "        ax.set_ylim(*ylim)\n",
    "    \n",
    "    ax.set_xlabel(\"Training examples\")\n",
    "    ax.set_ylabel(\"Score\")\n",
    "    ax.grid()\n",
    "    ax.plot(train_sizes,np.mean(train_scores, axis=1),'o-'\n",
    "            ,color='r'\n",
    "            ,label=\"Training score\"\n",
    "           )\n",
    "    ax.plot(train_sizes, np.mean(test_scores, axis=1),'o-'\n",
    "            ,color='g'\n",
    "            ,label=\"Test score\"\n",
    "           )\n",
    "    ax.legend(loc=\"best\")\n",
    "    return ax"
   ]
  },
  {
   "cell_type": "code",
   "execution_count": 19,
   "metadata": {},
   "outputs": [
    {
     "data": {
      "image/png": "[encoded data removed]",
      "text/plain": [
       "<Figure size 432x288 with 1 Axes>"
      ]
     },
     "metadata": {
      "needs_background": "light"
     },
     "output_type": "display_data"
    }
   ],
   "source": [
    "# XGB在波士顿数据集上的潜力\n",
    "cv = KFold(n_splits=5, shuffle=True, random_state=0)\n",
    "plot_learning_curve(XGBR(n_estimators=100,random_state=0)\n",
    "                    ,\"XGB\"\n",
    "                    ,Xtrain\n",
    "                    ,Ytrain\n",
    "                    ,ax=None\n",
    "                    ,cv=cv\n",
    "                   )\n",
    "plt.show()"
   ]
  },
  {
   "cell_type": "code",
   "execution_count": 20,
   "metadata": {},
   "outputs": [
    {
     "name": "stdout",
     "output_type": "stream",
     "text": [
      "310 0.8888225393536876\n"
     ]
    },
    {
     "data": {
      "image/png": "[encoded data removed]",
      "text/plain": [
       "<Figure size 1440x360 with 1 Axes>"
      ]
     },
     "metadata": {
      "needs_background": "light"
     },
     "output_type": "display_data"
    }
   ],
   "source": [
    "# 用参数学习曲线观察n_estimators对模型的影响\n",
    "axisx = range(10,1010,50)\n",
    "rs = []\n",
    "for i in axisx:\n",
    "    reg = XGBR(n_estimators=i, random_state=0)\n",
    "    rs.append(CVS(reg,Xtrain,Ytrain,cv=cv).mean())\n",
    "print(axisx[rs.index(max(rs))],max(rs))\n",
    "plt.figure(figsize=(20,5))\n",
    "plt.plot(axisx, rs, c=\"red\", label=\"XGB\")\n",
    "plt.legend()\n",
    "plt.show()"
   ]
  },
  {
   "cell_type": "code",
   "execution_count": 21,
   "metadata": {},
   "outputs": [
    {
     "name": "stdout",
     "output_type": "stream",
     "text": [
      "100 0.8888228502299349 0.0012767824950069653\n",
      "50 0.8888225373894059 0.0012767518444805658\n",
      "100 0.8888228502299349 0.0012767824950069653 0.01363714112600245\n"
     ]
    },
    {
     "data": {
      "image/png": "[encoded data removed]",
      "text/plain": [
       "<Figure size 1440x360 with 1 Axes>"
      ]
     },
     "metadata": {
      "needs_background": "light"
     },
     "output_type": "display_data"
    }
   ],
   "source": [
    "# 进化的学习曲线：方差与泛化误差\n",
    "axisx = range(50,1050,50)\n",
    "rs = []\n",
    "var = []\n",
    "ge = []\n",
    "\n",
    "for i in axisx:\n",
    "    reg = XGBR(n_estimators=i, random_state=0)\n",
    "    cvresult = CVS(reg,Xtrain,Ytrain,cv=cv)\n",
    "    rs.append(cvresult.mean())\n",
    "    var.append(cvresult.var())\n",
    "    ge.append((1-cvresult.mean())**2+cvresult.var())\n",
    "    \n",
    "print(axisx[rs.index(max(rs))], max(rs), var[rs.index(max(rs))])\n",
    "print(axisx[var.index(max(var))],rs[var.index(min(var))],min(var))\n",
    "print(axisx[ge.index(min(ge))],rs[ge.index(min(ge))],var[ge.index(min(ge))], min(ge))\n",
    "plt.figure(figsize=(20,5))\n",
    "plt.plot(axisx, rs, c=\"red\",label=\"XGB\")\n",
    "plt.legend()\n",
    "plt.show()"
   ]
  },
  {
   "cell_type": "code",
   "execution_count": 22,
   "metadata": {},
   "outputs": [
    {
     "name": "stdout",
     "output_type": "stream",
     "text": [
      "100 0.8888228502299349 0.0012767824950069653\n",
      "110 0.8888222374838761 0.0012767101940502636\n",
      "100 0.8888228502299349 0.0012767824950069653 0.01363714112600245\n"
     ]
    },
    {
     "data": {
      "image/png": "[encoded data removed]",
      "text/plain": [
       "<Figure size 1440x360 with 1 Axes>"
      ]
     },
     "metadata": {
      "needs_background": "light"
     },
     "output_type": "display_data"
    }
   ],
   "source": [
    "# 细化学习曲线，找出最佳n_estimators\n",
    "axisx = range(100,300,10)\n",
    "rs = []\n",
    "var = []\n",
    "ge = []\n",
    "\n",
    "for i in axisx:\n",
    "    reg = XGBR(n_estimators=i, random_state=0)\n",
    "    cvresult = CVS(reg,Xtrain,Ytrain,cv=cv)\n",
    "    rs.append(cvresult.mean())\n",
    "    var.append(cvresult.var())\n",
    "    ge.append((1-cvresult.mean())**2+cvresult.var())\n",
    "    \n",
    "print(axisx[rs.index(max(rs))], max(rs), var[rs.index(max(rs))])\n",
    "print(axisx[var.index(max(var))],rs[var.index(min(var))],min(var))\n",
    "print(axisx[ge.index(min(ge))],rs[ge.index(min(ge))],var[ge.index(min(ge))], min(ge))\n",
    "\n",
    "rs = np.array(rs)\n",
    "var = np.array(var)*0.01\n",
    "\n",
    "plt.figure(figsize=(20,5))\n",
    "plt.plot(axisx, rs, c=\"black\",label=\"XGB\")\n",
    "# 添加方差线\n",
    "plt.plot(axisx, rs+var, c=\"red\", linestyle=\"-.\")\n",
    "plt.plot(axisx, rs-var, c=\"red\", linestyle=\"-.\")\n",
    "plt.legend()\n",
    "plt.show()"
   ]
  },
  {
   "cell_type": "code",
   "execution_count": 23,
   "metadata": {},
   "outputs": [
    {
     "data": {
      "image/png": "[encoded data removed]",
      "text/plain": [
       "<Figure size 1440x360 with 1 Axes>"
      ]
     },
     "metadata": {
      "needs_background": "light"
     },
     "output_type": "display_data"
    }
   ],
   "source": [
    "# 看泛化误差可控部分如何\n",
    "plt.figure(figsize=(20,5))\n",
    "plt.plot(axisx, ge, c='gray',linestyle='-.')\n",
    "plt.show()"
   ]
  },
  {
   "cell_type": "code",
   "execution_count": 24,
   "metadata": {},
   "outputs": [
    {
     "name": "stdout",
     "output_type": "stream",
     "text": [
      "0.7876616442512873\n",
      "0.08973026275634766\n"
     ]
    }
   ],
   "source": [
    "# 验证在取得最好n_estimators之后，效果是否提升了\n",
    "time0 = time()\n",
    "print(XGBR(n_estimators=100, random_state=0).fit(Xtrain, Ytrain).score(Xtest,Ytest))\n",
    "print(time() - time0)"
   ]
  },
  {
   "cell_type": "code",
   "execution_count": 25,
   "metadata": {},
   "outputs": [
    {
     "name": "stdout",
     "output_type": "stream",
     "text": [
      "0.7876046801717855\n",
      "0.18174958229064941\n"
     ]
    }
   ],
   "source": [
    "# 验证在取得最好n_estimators之后，效果是否提升了\n",
    "time0 = time()\n",
    "print(XGBR(n_estimators=660, random_state=0).fit(Xtrain, Ytrain).score(Xtest,Ytest))\n",
    "print(time() - time0)"
   ]
  },
  {
   "cell_type": "code",
   "execution_count": 26,
   "metadata": {},
   "outputs": [
    {
     "name": "stdout",
     "output_type": "stream",
     "text": [
      "0.7876047047026616\n",
      "0.1157224178314209\n"
     ]
    }
   ],
   "source": [
    "# 验证在取得最好n_estimators之后，效果是否提升了\n",
    "time0 = time()\n",
    "print(XGBR(n_estimators=180, random_state=0).fit(Xtrain, Ytrain).score(Xtest,Ytest))\n",
    "print(time() - time0)"
   ]
  },
  {
   "cell_type": "markdown",
   "metadata": {},
   "source": [
    "### 参数：随机抽样比例subsample"
   ]
  },
  {
   "cell_type": "code",
   "execution_count": 27,
   "metadata": {},
   "outputs": [
    {
     "name": "stdout",
     "output_type": "stream",
     "text": [
      "1.0 0.8888225364131015\n"
     ]
    },
    {
     "data": {
      "image/png": "[encoded data removed]",
      "text/plain": [
       "<Figure size 1440x360 with 1 Axes>"
      ]
     },
     "metadata": {
      "needs_background": "light"
     },
     "output_type": "display_data"
    }
   ],
   "source": [
    "# 用参数学习曲线观察subsample对模型的影响\n",
    "axisx = np.linspace(0,1,20)\n",
    "rs = []\n",
    "for i in axisx:\n",
    "    reg = XGBR(n_estimators=180, subsample=i, random_state=0)\n",
    "    rs.append(CVS(reg,Xtrain,Ytrain,cv=cv).mean())\n",
    "print(axisx[rs.index(max(rs))],max(rs))\n",
    "plt.figure(figsize=(20,5))\n",
    "plt.plot(axisx, rs, c=\"green\", label=\"XGB\")\n",
    "plt.legend()\n",
    "plt.show()"
   ]
  },
  {
   "cell_type": "code",
   "execution_count": 28,
   "metadata": {},
   "outputs": [
    {
     "name": "stdout",
     "output_type": "stream",
     "text": [
      "0.6 0.8961452201896793 0.0009235136670612121\n",
      "0.05 0.8961452201896793 0.0009235136670612121\n",
      "0.6 0.8961452201896793 0.0009235136670612121 0.0117093289565114\n"
     ]
    },
    {
     "data": {
      "image/png": "[encoded data removed]",
      "text/plain": [
       "<Figure size 1440x360 with 1 Axes>"
      ]
     },
     "metadata": {
      "needs_background": "light"
     },
     "output_type": "display_data"
    }
   ],
   "source": [
    "# 进化的学习曲线：方差与泛化误差\n",
    "axisx = np.linspace(0.05,1,20)\n",
    "rs = []\n",
    "var = []\n",
    "ge = []\n",
    "\n",
    "for i in axisx:\n",
    "    reg = XGBR(n_estimators=180, subsample=i, random_state=0)\n",
    "    cvresult = CVS(reg,Xtrain,Ytrain,cv=cv)\n",
    "    rs.append(cvresult.mean())\n",
    "    var.append(cvresult.var())\n",
    "    ge.append((1-cvresult.mean())**2+cvresult.var())\n",
    "    \n",
    "print(axisx[rs.index(max(rs))], max(rs), var[rs.index(max(rs))])\n",
    "print(axisx[var.index(max(var))],rs[var.index(min(var))],min(var))\n",
    "print(axisx[ge.index(min(ge))],rs[ge.index(min(ge))],var[ge.index(min(ge))], min(ge))\n",
    "\n",
    "rs = np.array(rs)\n",
    "var = np.array(var)*0.01\n",
    "\n",
    "plt.figure(figsize=(20,5))\n",
    "plt.plot(axisx, rs, c=\"black\",label=\"XGB\")\n",
    "# 添加方差线\n",
    "plt.plot(axisx, rs+var, c=\"red\", linestyle=\"-.\")\n",
    "plt.plot(axisx, rs-var, c=\"red\", linestyle=\"-.\")\n",
    "plt.legend()\n",
    "plt.show()"
   ]
  },
  {
   "cell_type": "code",
   "execution_count": 29,
   "metadata": {},
   "outputs": [
    {
     "data": {
      "text/plain": [
       "0.8197060919921875"
      ]
     },
     "execution_count": 29,
     "metadata": {},
     "output_type": "execute_result"
    }
   ],
   "source": [
    "# 在最好subsample参数下，泛化误差情况\n",
    "reg = XGBR(n_estimators=180\n",
    "           ,subsample=0.8961452201896793\n",
    "           ,random_state=0\n",
    "          ).fit(Xtrain, Ytrain)\n",
    "reg.score(Xtest,Ytest)"
   ]
  },
  {
   "cell_type": "code",
   "execution_count": 30,
   "metadata": {},
   "outputs": [
    {
     "data": {
      "text/plain": [
       "15.012262693760546"
      ]
     },
     "execution_count": 30,
     "metadata": {},
     "output_type": "execute_result"
    }
   ],
   "source": [
    "MSE(Ytest, reg.predict(Xtest))"
   ]
  },
  {
   "cell_type": "code",
   "execution_count": 31,
   "metadata": {},
   "outputs": [],
   "source": [
    "# 定义一个评分函数，这个评分函数能直接打印Xtrain上的交叉验证结果\n",
    "def regassess(reg,Xtrain,Ytrain,cv,scoring=[\"r2\"], show=True):\n",
    "    score = []\n",
    "    for i in range(len(scoring)):\n",
    "        if show:\n",
    "            print(\"{}:{:2f}\".format(scoring[i]\n",
    "                                    ,CVS(reg\n",
    "                                         ,Xtrain\n",
    "                                         ,Ytrain\n",
    "                                         ,cv=cv\n",
    "                                         ,scoring=scoring[i]\n",
    "                                        ).mean()\n",
    "                                   ))\n",
    "        score.append(CVS(reg,Xtrain,Ytrain,cv=cv,scoring=scoring[i]).mean())\n",
    "    \n",
    "    return score"
   ]
  },
  {
   "cell_type": "code",
   "execution_count": 32,
   "metadata": {},
   "outputs": [
    {
     "name": "stdout",
     "output_type": "stream",
     "text": [
      "r2:0.886155\n",
      "neg_mean_squared_error:-9.277171\n"
     ]
    },
    {
     "data": {
      "text/plain": [
       "[0.8861545835082728, -9.277170744343229]"
      ]
     },
     "execution_count": 32,
     "metadata": {},
     "output_type": "execute_result"
    }
   ],
   "source": [
    "regassess(reg, Xtrain, Ytrain,cv,scoring=[\"r2\",\"neg_mean_squared_error\"])"
   ]
  },
  {
   "cell_type": "code",
   "execution_count": 33,
   "metadata": {},
   "outputs": [
    {
     "data": {
      "text/plain": [
       "[0.8861545835082728, -9.277170744343229]"
      ]
     },
     "execution_count": 33,
     "metadata": {},
     "output_type": "execute_result"
    }
   ],
   "source": [
    "# 关闭上面函数的打印功能\n",
    "regassess(reg,Xtrain,Ytrain,cv,scoring=[\"r2\", \"neg_mean_squared_error\"],show=False)"
   ]
  },
  {
   "cell_type": "code",
   "execution_count": 34,
   "metadata": {},
   "outputs": [
    {
     "name": "stdout",
     "output_type": "stream",
     "text": [
      "learning_rate=0\n",
      "r2:-6.313486\n",
      "neg_mean_squared_error:-579.502310\n",
      "00:01:719918\n",
      "\t\n",
      "learning_rate=0.2\n",
      "r2:0.885225\n",
      "neg_mean_squared_error:-9.243959\n",
      "00:02:161551\n",
      "\t\n",
      "learning_rate=0.5\n",
      "r2:0.864037\n",
      "neg_mean_squared_error:-10.848879\n",
      "00:01:320054\n",
      "\t\n",
      "learning_rate=1\n",
      "r2:0.765099\n",
      "neg_mean_squared_error:-18.512219\n",
      "00:01:189355\n",
      "\t\n"
     ]
    }
   ],
   "source": [
    "# eta是如何影响我们的模型\n",
    "from time import time\n",
    "import datetime\n",
    "\n",
    "for i in [0,0.2,0.5,1]:\n",
    "    time0 = time()\n",
    "    reg = XGBR(n_estimators=180, random_state=420,learning_rate=i)\n",
    "    print(\"learning_rate={}\".format(i))\n",
    "    regassess(reg,Xtrain,Ytrain,cv,scoring=[\"r2\",\"neg_mean_squared_error\"])\n",
    "    print(datetime.datetime.fromtimestamp(time()-time0).strftime(\"%M:%S:%f\"))\n",
    "    print(\"\\t\")"
   ]
  },
  {
   "cell_type": "code",
   "execution_count": 35,
   "metadata": {},
   "outputs": [
    {
     "name": "stdout",
     "output_type": "stream",
     "text": [
      "0.05 0.8939530471683094\n"
     ]
    },
    {
     "data": {
      "image/png": "[encoded data removed]",
      "text/plain": [
       "<Figure size 1440x360 with 1 Axes>"
      ]
     },
     "metadata": {
      "needs_background": "light"
     },
     "output_type": "display_data"
    }
   ],
   "source": [
    "# 对学习率画学习曲线\n",
    "axisx = np.arange(0.05,1,0.05)\n",
    "rs = []\n",
    "te = []\n",
    "for i in axisx:\n",
    "    reg = XGBR(n_estimators=180,random_state=420, learning_rate=i)\n",
    "    score = regassess(reg,Xtrain,Ytrain,cv,scoring=[\"r2\",\"neg_mean_squared_error\"],show=False)\n",
    "    test = reg.fit(Xtrain,Ytrain).score(Xtest,Ytest)\n",
    "    rs.append(score[0])\n",
    "    te.append(test)\n",
    "\n",
    "print(axisx[rs.index(max(rs))], max(rs))\n",
    "plt.figure(figsize=(20,5))\n",
    "plt.plot(axisx,te,c=\"gray\",label=\"XGB\")\n",
    "plt.plot(axisx, rs,c=\"green\",label=\"XGB\")\n",
    "plt.legend()\n",
    "plt.show()"
   ]
  },
  {
   "cell_type": "code",
   "execution_count": 36,
   "metadata": {},
   "outputs": [
    {
     "name": "stdout",
     "output_type": "stream",
     "text": [
      "gbtree\n",
      "0.7771064711436227\n",
      "gblinear\n",
      "0.5930354292117993\n",
      "dart\n",
      "0.7771065030207849\n"
     ]
    }
   ],
   "source": [
    "# 选择弱评估器\n",
    "for booster in [\"gbtree\", \"gblinear\", \"dart\"]:\n",
    "    reg = XGBR(n_estimators=180\n",
    "               ,learning_rate=0.1\n",
    "               ,random_state=420\n",
    "               ,booster=booster\n",
    "              ).fit(Xtrain,Ytrain)\n",
    "    print(booster)\n",
    "    print(reg.score(Xtest,Ytest))"
   ]
  },
  {
   "cell_type": "markdown",
   "metadata": {},
   "source": [
    "### 使用XGBoost自身库"
   ]
  },
  {
   "cell_type": "code",
   "execution_count": 37,
   "metadata": {},
   "outputs": [
    {
     "data": {
      "text/plain": [
       "0.7876047047026616"
      ]
     },
     "execution_count": 37,
     "metadata": {},
     "output_type": "execute_result"
    }
   ],
   "source": [
    "reg = XGBR(n_estimators=180, random_state=420).fit(Xtrain, Ytrain)\n",
    "reg.score(Xtest, Ytest)"
   ]
  },
  {
   "cell_type": "code",
   "execution_count": 38,
   "metadata": {},
   "outputs": [
    {
     "data": {
      "text/plain": [
       "17.685200809914896"
      ]
     },
     "execution_count": 38,
     "metadata": {},
     "output_type": "execute_result"
    }
   ],
   "source": [
    "MSE(Ytest, reg.predict(Xtest))"
   ]
  },
  {
   "cell_type": "code",
   "execution_count": 18,
   "metadata": {},
   "outputs": [],
   "source": [
    "# xgb实现\n",
    "import xgboost as xgb\n",
    "dtrain = xgb.DMatrix(Xtrain, Ytrain)"
   ]
  },
  {
   "cell_type": "code",
   "execution_count": 19,
   "metadata": {},
   "outputs": [],
   "source": [
    "dtest = xgb.DMatrix(Xtest, Ytest)"
   ]
  },
  {
   "cell_type": "code",
   "execution_count": 40,
   "metadata": {},
   "outputs": [
    {
     "data": {
      "text/plain": [
       "<xgboost.core.DMatrix at 0x7f0b3b7cd390>"
      ]
     },
     "execution_count": 40,
     "metadata": {},
     "output_type": "execute_result"
    }
   ],
   "source": [
    "dtrain"
   ]
  },
  {
   "cell_type": "code",
   "execution_count": 43,
   "metadata": {},
   "outputs": [],
   "source": [
    "# 写明参数\n",
    "param = {\"verbosity\":0, 'objective':'reg:linear', \"eta\":0.1}\n",
    "num_round = 180"
   ]
  },
  {
   "cell_type": "code",
   "execution_count": 44,
   "metadata": {},
   "outputs": [],
   "source": [
    "# train可以导入训练数据，树的数量，其他的参数通过params导入\n",
    "bst = xgb.train(param, dtrain, num_round)"
   ]
  },
  {
   "cell_type": "code",
   "execution_count": 47,
   "metadata": {},
   "outputs": [
    {
     "data": {
      "text/plain": [
       "0.7771064711436227"
      ]
     },
     "execution_count": 47,
     "metadata": {},
     "output_type": "execute_result"
    }
   ],
   "source": [
    "from sklearn.metrics import r2_score\n",
    "r2_score(Ytest, bst.predict(dtest))"
   ]
  },
  {
   "cell_type": "code",
   "execution_count": 48,
   "metadata": {},
   "outputs": [
    {
     "data": {
      "text/plain": [
       "18.55934149359188"
      ]
     },
     "execution_count": 48,
     "metadata": {},
     "output_type": "execute_result"
    }
   ],
   "source": [
    "MSE(Ytest, bst.predict(dtest))"
   ]
  },
  {
   "cell_type": "markdown",
   "metadata": {},
   "source": [
    "### gamma：让树停止生长"
   ]
  },
  {
   "cell_type": "code",
   "execution_count": 52,
   "metadata": {},
   "outputs": [
    {
     "name": "stdout",
     "output_type": "stream",
     "text": [
      "0.0 0.8888225364131015 0.0012767521728362353\n",
      "0.0 0.8888225364131015 0.0012767521728362353 0.013637180582452378\n"
     ]
    },
    {
     "data": {
      "image/png": "[encoded data removed]",
      "text/plain": [
       "<Figure size 432x288 with 1 Axes>"
      ]
     },
     "metadata": {
      "needs_background": "light"
     },
     "output_type": "display_data"
    }
   ],
   "source": [
    "axisx = np.arange(0,5,0.05)\n",
    "rs = []\n",
    "var = []\n",
    "ge = []\n",
    "for i in axisx:\n",
    "    reg = XGBR(n_estimators=180,random_state=420,gamma=i)\n",
    "    result = CVS(reg,Xtrain,Ytrain,cv=cv)\n",
    "    rs.append(result.mean())\n",
    "    var.append(result.var())\n",
    "    ge.append((1-result.mean())**2+result.var())\n",
    "print(axisx[rs.index(max(rs))],max(rs),var[rs.index(max(rs))])\n",
    "# print(axisx[var.index(max(rs))],rs[var.index(min(var))],min(rs))\n",
    "print(axisx[ge.index(min(ge))],rs[ge.index(min(ge))],var[ge.index(min(ge))],min(ge))\n",
    "\n",
    "rs = np.array(rs)\n",
    "var = np.array(var)*0.1\n",
    "plt.figure()\n",
    "plt.plot(axisx, rs, c=\"black\",label=\"XGB\")\n",
    "plt.plot(axisx, rs+var, c=\"red\", linestyle='-.')\n",
    "plt.plot(axisx, rs-var, c=\"red\", linestyle='-.')\n",
    "plt.legend()\n",
    "plt.show()"
   ]
  },
  {
   "cell_type": "markdown",
   "metadata": {},
   "source": [
    "### 用xgboost.cv 调整参数"
   ]
  },
  {
   "cell_type": "code",
   "execution_count": 12,
   "metadata": {},
   "outputs": [],
   "source": [
    "import xgboost as xgb"
   ]
  },
  {
   "cell_type": "code",
   "execution_count": 54,
   "metadata": {},
   "outputs": [],
   "source": [
    "dfull = xgb.DMatrix(X, y)"
   ]
  },
  {
   "cell_type": "code",
   "execution_count": 56,
   "metadata": {},
   "outputs": [],
   "source": [
    "param1 = {'obj':'reg:linear','gamma':0}\n",
    "num_round = 180\n",
    "n_fold = 5"
   ]
  },
  {
   "cell_type": "code",
   "execution_count": 58,
   "metadata": {},
   "outputs": [
    {
     "name": "stdout",
     "output_type": "stream",
     "text": [
      "00:00:722280\n"
     ]
    }
   ],
   "source": [
    "time0 = time()\n",
    "cv_result = xgb.cv(param1, dfull, num_round,n_fold)\n",
    "print(datetime.datetime.fromtimestamp(time()-time0).strftime(\"%M:%S:%f\"))"
   ]
  },
  {
   "cell_type": "code",
   "execution_count": 59,
   "metadata": {},
   "outputs": [
    {
     "data": {
      "text/html": [
       "<div>\n",
       "<style scoped>\n",
       "    .dataframe tbody tr th:only-of-type {\n",
       "        vertical-align: middle;\n",
       "    }\n",
       "\n",
       "    .dataframe tbody tr th {\n",
       "        vertical-align: top;\n",
       "    }\n",
       "\n",
       "    .dataframe thead th {\n",
       "        text-align: right;\n",
       "    }\n",
       "</style>\n",
       "<table border=\"1\" class=\"dataframe\">\n",
       "  <thead>\n",
       "    <tr style=\"text-align: right;\">\n",
       "      <th></th>\n",
       "      <th>train-rmse-mean</th>\n",
       "      <th>train-rmse-std</th>\n",
       "      <th>test-rmse-mean</th>\n",
       "      <th>test-rmse-std</th>\n",
       "    </tr>\n",
       "  </thead>\n",
       "  <tbody>\n",
       "    <tr>\n",
       "      <th>0</th>\n",
       "      <td>17.105578</td>\n",
       "      <td>0.129116</td>\n",
       "      <td>17.163214</td>\n",
       "      <td>0.584296</td>\n",
       "    </tr>\n",
       "    <tr>\n",
       "      <th>1</th>\n",
       "      <td>12.337972</td>\n",
       "      <td>0.097556</td>\n",
       "      <td>12.519736</td>\n",
       "      <td>0.473458</td>\n",
       "    </tr>\n",
       "    <tr>\n",
       "      <th>2</th>\n",
       "      <td>8.994071</td>\n",
       "      <td>0.065756</td>\n",
       "      <td>9.404534</td>\n",
       "      <td>0.472310</td>\n",
       "    </tr>\n",
       "    <tr>\n",
       "      <th>3</th>\n",
       "      <td>6.629481</td>\n",
       "      <td>0.050323</td>\n",
       "      <td>7.250335</td>\n",
       "      <td>0.500342</td>\n",
       "    </tr>\n",
       "    <tr>\n",
       "      <th>4</th>\n",
       "      <td>4.954406</td>\n",
       "      <td>0.033209</td>\n",
       "      <td>5.920812</td>\n",
       "      <td>0.591874</td>\n",
       "    </tr>\n",
       "    <tr>\n",
       "      <th>5</th>\n",
       "      <td>3.781454</td>\n",
       "      <td>0.029604</td>\n",
       "      <td>5.045190</td>\n",
       "      <td>0.687971</td>\n",
       "    </tr>\n",
       "    <tr>\n",
       "      <th>6</th>\n",
       "      <td>2.947768</td>\n",
       "      <td>0.038787</td>\n",
       "      <td>4.472030</td>\n",
       "      <td>0.686492</td>\n",
       "    </tr>\n",
       "    <tr>\n",
       "      <th>7</th>\n",
       "      <td>2.357748</td>\n",
       "      <td>0.042040</td>\n",
       "      <td>4.179314</td>\n",
       "      <td>0.737935</td>\n",
       "    </tr>\n",
       "    <tr>\n",
       "      <th>8</th>\n",
       "      <td>1.951907</td>\n",
       "      <td>0.044972</td>\n",
       "      <td>3.979878</td>\n",
       "      <td>0.798198</td>\n",
       "    </tr>\n",
       "    <tr>\n",
       "      <th>9</th>\n",
       "      <td>1.660895</td>\n",
       "      <td>0.044894</td>\n",
       "      <td>3.870751</td>\n",
       "      <td>0.812331</td>\n",
       "    </tr>\n",
       "    <tr>\n",
       "      <th>10</th>\n",
       "      <td>1.464296</td>\n",
       "      <td>0.049422</td>\n",
       "      <td>3.816196</td>\n",
       "      <td>0.835250</td>\n",
       "    </tr>\n",
       "    <tr>\n",
       "      <th>11</th>\n",
       "      <td>1.323362</td>\n",
       "      <td>0.056240</td>\n",
       "      <td>3.788125</td>\n",
       "      <td>0.841643</td>\n",
       "    </tr>\n",
       "    <tr>\n",
       "      <th>12</th>\n",
       "      <td>1.214468</td>\n",
       "      <td>0.046524</td>\n",
       "      <td>3.766973</td>\n",
       "      <td>0.848990</td>\n",
       "    </tr>\n",
       "    <tr>\n",
       "      <th>13</th>\n",
       "      <td>1.137311</td>\n",
       "      <td>0.044522</td>\n",
       "      <td>3.741199</td>\n",
       "      <td>0.872370</td>\n",
       "    </tr>\n",
       "    <tr>\n",
       "      <th>14</th>\n",
       "      <td>1.064629</td>\n",
       "      <td>0.042245</td>\n",
       "      <td>3.729194</td>\n",
       "      <td>0.879429</td>\n",
       "    </tr>\n",
       "    <tr>\n",
       "      <th>15</th>\n",
       "      <td>1.010286</td>\n",
       "      <td>0.038892</td>\n",
       "      <td>3.717997</td>\n",
       "      <td>0.879572</td>\n",
       "    </tr>\n",
       "    <tr>\n",
       "      <th>16</th>\n",
       "      <td>0.941258</td>\n",
       "      <td>0.038360</td>\n",
       "      <td>3.706736</td>\n",
       "      <td>0.878032</td>\n",
       "    </tr>\n",
       "    <tr>\n",
       "      <th>17</th>\n",
       "      <td>0.883599</td>\n",
       "      <td>0.056640</td>\n",
       "      <td>3.693886</td>\n",
       "      <td>0.873913</td>\n",
       "    </tr>\n",
       "    <tr>\n",
       "      <th>18</th>\n",
       "      <td>0.829674</td>\n",
       "      <td>0.057284</td>\n",
       "      <td>3.693296</td>\n",
       "      <td>0.883429</td>\n",
       "    </tr>\n",
       "    <tr>\n",
       "      <th>19</th>\n",
       "      <td>0.772332</td>\n",
       "      <td>0.042899</td>\n",
       "      <td>3.687510</td>\n",
       "      <td>0.880928</td>\n",
       "    </tr>\n",
       "    <tr>\n",
       "      <th>20</th>\n",
       "      <td>0.731557</td>\n",
       "      <td>0.049150</td>\n",
       "      <td>3.687037</td>\n",
       "      <td>0.879180</td>\n",
       "    </tr>\n",
       "    <tr>\n",
       "      <th>21</th>\n",
       "      <td>0.690698</td>\n",
       "      <td>0.041190</td>\n",
       "      <td>3.677507</td>\n",
       "      <td>0.882060</td>\n",
       "    </tr>\n",
       "    <tr>\n",
       "      <th>22</th>\n",
       "      <td>0.657743</td>\n",
       "      <td>0.042137</td>\n",
       "      <td>3.675343</td>\n",
       "      <td>0.883635</td>\n",
       "    </tr>\n",
       "    <tr>\n",
       "      <th>23</th>\n",
       "      <td>0.619988</td>\n",
       "      <td>0.054097</td>\n",
       "      <td>3.671006</td>\n",
       "      <td>0.879224</td>\n",
       "    </tr>\n",
       "    <tr>\n",
       "      <th>24</th>\n",
       "      <td>0.585414</td>\n",
       "      <td>0.052585</td>\n",
       "      <td>3.670951</td>\n",
       "      <td>0.867469</td>\n",
       "    </tr>\n",
       "    <tr>\n",
       "      <th>25</th>\n",
       "      <td>0.548723</td>\n",
       "      <td>0.054440</td>\n",
       "      <td>3.673598</td>\n",
       "      <td>0.863241</td>\n",
       "    </tr>\n",
       "    <tr>\n",
       "      <th>26</th>\n",
       "      <td>0.527266</td>\n",
       "      <td>0.049630</td>\n",
       "      <td>3.673988</td>\n",
       "      <td>0.867117</td>\n",
       "    </tr>\n",
       "    <tr>\n",
       "      <th>27</th>\n",
       "      <td>0.504405</td>\n",
       "      <td>0.040376</td>\n",
       "      <td>3.671702</td>\n",
       "      <td>0.864567</td>\n",
       "    </tr>\n",
       "    <tr>\n",
       "      <th>28</th>\n",
       "      <td>0.468534</td>\n",
       "      <td>0.033020</td>\n",
       "      <td>3.671324</td>\n",
       "      <td>0.862536</td>\n",
       "    </tr>\n",
       "    <tr>\n",
       "      <th>29</th>\n",
       "      <td>0.448633</td>\n",
       "      <td>0.032191</td>\n",
       "      <td>3.675074</td>\n",
       "      <td>0.864713</td>\n",
       "    </tr>\n",
       "    <tr>\n",
       "      <th>...</th>\n",
       "      <td>...</td>\n",
       "      <td>...</td>\n",
       "      <td>...</td>\n",
       "      <td>...</td>\n",
       "    </tr>\n",
       "    <tr>\n",
       "      <th>150</th>\n",
       "      <td>0.002763</td>\n",
       "      <td>0.001175</td>\n",
       "      <td>3.669922</td>\n",
       "      <td>0.857628</td>\n",
       "    </tr>\n",
       "    <tr>\n",
       "      <th>151</th>\n",
       "      <td>0.002672</td>\n",
       "      <td>0.001125</td>\n",
       "      <td>3.669912</td>\n",
       "      <td>0.857620</td>\n",
       "    </tr>\n",
       "    <tr>\n",
       "      <th>152</th>\n",
       "      <td>0.002581</td>\n",
       "      <td>0.001072</td>\n",
       "      <td>3.669924</td>\n",
       "      <td>0.857608</td>\n",
       "    </tr>\n",
       "    <tr>\n",
       "      <th>153</th>\n",
       "      <td>0.002476</td>\n",
       "      <td>0.001022</td>\n",
       "      <td>3.669928</td>\n",
       "      <td>0.857628</td>\n",
       "    </tr>\n",
       "    <tr>\n",
       "      <th>154</th>\n",
       "      <td>0.002364</td>\n",
       "      <td>0.000983</td>\n",
       "      <td>3.669927</td>\n",
       "      <td>0.857662</td>\n",
       "    </tr>\n",
       "    <tr>\n",
       "      <th>155</th>\n",
       "      <td>0.002272</td>\n",
       "      <td>0.000966</td>\n",
       "      <td>3.669925</td>\n",
       "      <td>0.857657</td>\n",
       "    </tr>\n",
       "    <tr>\n",
       "      <th>156</th>\n",
       "      <td>0.002210</td>\n",
       "      <td>0.000941</td>\n",
       "      <td>3.669938</td>\n",
       "      <td>0.857659</td>\n",
       "    </tr>\n",
       "    <tr>\n",
       "      <th>157</th>\n",
       "      <td>0.002123</td>\n",
       "      <td>0.000927</td>\n",
       "      <td>3.669947</td>\n",
       "      <td>0.857648</td>\n",
       "    </tr>\n",
       "    <tr>\n",
       "      <th>158</th>\n",
       "      <td>0.002025</td>\n",
       "      <td>0.000858</td>\n",
       "      <td>3.669927</td>\n",
       "      <td>0.857657</td>\n",
       "    </tr>\n",
       "    <tr>\n",
       "      <th>159</th>\n",
       "      <td>0.001937</td>\n",
       "      <td>0.000837</td>\n",
       "      <td>3.669913</td>\n",
       "      <td>0.857663</td>\n",
       "    </tr>\n",
       "    <tr>\n",
       "      <th>160</th>\n",
       "      <td>0.001858</td>\n",
       "      <td>0.000843</td>\n",
       "      <td>3.669908</td>\n",
       "      <td>0.857660</td>\n",
       "    </tr>\n",
       "    <tr>\n",
       "      <th>161</th>\n",
       "      <td>0.001801</td>\n",
       "      <td>0.000820</td>\n",
       "      <td>3.669912</td>\n",
       "      <td>0.857653</td>\n",
       "    </tr>\n",
       "    <tr>\n",
       "      <th>162</th>\n",
       "      <td>0.001726</td>\n",
       "      <td>0.000781</td>\n",
       "      <td>3.669914</td>\n",
       "      <td>0.857660</td>\n",
       "    </tr>\n",
       "    <tr>\n",
       "      <th>163</th>\n",
       "      <td>0.001659</td>\n",
       "      <td>0.000770</td>\n",
       "      <td>3.669927</td>\n",
       "      <td>0.857648</td>\n",
       "    </tr>\n",
       "    <tr>\n",
       "      <th>164</th>\n",
       "      <td>0.001596</td>\n",
       "      <td>0.000718</td>\n",
       "      <td>3.669916</td>\n",
       "      <td>0.857654</td>\n",
       "    </tr>\n",
       "    <tr>\n",
       "      <th>165</th>\n",
       "      <td>0.001554</td>\n",
       "      <td>0.000687</td>\n",
       "      <td>3.669910</td>\n",
       "      <td>0.857650</td>\n",
       "    </tr>\n",
       "    <tr>\n",
       "      <th>166</th>\n",
       "      <td>0.001518</td>\n",
       "      <td>0.000631</td>\n",
       "      <td>3.669920</td>\n",
       "      <td>0.857650</td>\n",
       "    </tr>\n",
       "    <tr>\n",
       "      <th>167</th>\n",
       "      <td>0.001469</td>\n",
       "      <td>0.000552</td>\n",
       "      <td>3.669911</td>\n",
       "      <td>0.857665</td>\n",
       "    </tr>\n",
       "    <tr>\n",
       "      <th>168</th>\n",
       "      <td>0.001458</td>\n",
       "      <td>0.000543</td>\n",
       "      <td>3.669907</td>\n",
       "      <td>0.857669</td>\n",
       "    </tr>\n",
       "    <tr>\n",
       "      <th>169</th>\n",
       "      <td>0.001430</td>\n",
       "      <td>0.000517</td>\n",
       "      <td>3.669904</td>\n",
       "      <td>0.857674</td>\n",
       "    </tr>\n",
       "    <tr>\n",
       "      <th>170</th>\n",
       "      <td>0.001400</td>\n",
       "      <td>0.000489</td>\n",
       "      <td>3.669902</td>\n",
       "      <td>0.857671</td>\n",
       "    </tr>\n",
       "    <tr>\n",
       "      <th>171</th>\n",
       "      <td>0.001379</td>\n",
       "      <td>0.000447</td>\n",
       "      <td>3.669904</td>\n",
       "      <td>0.857668</td>\n",
       "    </tr>\n",
       "    <tr>\n",
       "      <th>172</th>\n",
       "      <td>0.001367</td>\n",
       "      <td>0.000425</td>\n",
       "      <td>3.669908</td>\n",
       "      <td>0.857663</td>\n",
       "    </tr>\n",
       "    <tr>\n",
       "      <th>173</th>\n",
       "      <td>0.001334</td>\n",
       "      <td>0.000357</td>\n",
       "      <td>3.669904</td>\n",
       "      <td>0.857668</td>\n",
       "    </tr>\n",
       "    <tr>\n",
       "      <th>174</th>\n",
       "      <td>0.001323</td>\n",
       "      <td>0.000336</td>\n",
       "      <td>3.669900</td>\n",
       "      <td>0.857674</td>\n",
       "    </tr>\n",
       "    <tr>\n",
       "      <th>175</th>\n",
       "      <td>0.001299</td>\n",
       "      <td>0.000289</td>\n",
       "      <td>3.669898</td>\n",
       "      <td>0.857676</td>\n",
       "    </tr>\n",
       "    <tr>\n",
       "      <th>176</th>\n",
       "      <td>0.001285</td>\n",
       "      <td>0.000261</td>\n",
       "      <td>3.669897</td>\n",
       "      <td>0.857678</td>\n",
       "    </tr>\n",
       "    <tr>\n",
       "      <th>177</th>\n",
       "      <td>0.001275</td>\n",
       "      <td>0.000239</td>\n",
       "      <td>3.669903</td>\n",
       "      <td>0.857669</td>\n",
       "    </tr>\n",
       "    <tr>\n",
       "      <th>178</th>\n",
       "      <td>0.001263</td>\n",
       "      <td>0.000217</td>\n",
       "      <td>3.669901</td>\n",
       "      <td>0.857672</td>\n",
       "    </tr>\n",
       "    <tr>\n",
       "      <th>179</th>\n",
       "      <td>0.001259</td>\n",
       "      <td>0.000208</td>\n",
       "      <td>3.669902</td>\n",
       "      <td>0.857672</td>\n",
       "    </tr>\n",
       "  </tbody>\n",
       "</table>\n",
       "<p>180 rows × 4 columns</p>\n",
       "</div>"
      ],
      "text/plain": [
       "     train-rmse-mean  train-rmse-std  test-rmse-mean  test-rmse-std\n",
       "0          17.105578        0.129116       17.163214       0.584296\n",
       "1          12.337972        0.097556       12.519736       0.473458\n",
       "2           8.994071        0.065756        9.404534       0.472310\n",
       "3           6.629481        0.050323        7.250335       0.500342\n",
       "4           4.954406        0.033209        5.920812       0.591874\n",
       "5           3.781454        0.029604        5.045190       0.687971\n",
       "6           2.947768        0.038787        4.472030       0.686492\n",
       "7           2.357748        0.042040        4.179314       0.737935\n",
       "8           1.951907        0.044972        3.979878       0.798198\n",
       "9           1.660895        0.044894        3.870751       0.812331\n",
       "10          1.464296        0.049422        3.816196       0.835250\n",
       "11          1.323362        0.056240        3.788125       0.841643\n",
       "12          1.214468        0.046524        3.766973       0.848990\n",
       "13          1.137311        0.044522        3.741199       0.872370\n",
       "14          1.064629        0.042245        3.729194       0.879429\n",
       "15          1.010286        0.038892        3.717997       0.879572\n",
       "16          0.941258        0.038360        3.706736       0.878032\n",
       "17          0.883599        0.056640        3.693886       0.873913\n",
       "18          0.829674        0.057284        3.693296       0.883429\n",
       "19          0.772332        0.042899        3.687510       0.880928\n",
       "20          0.731557        0.049150        3.687037       0.879180\n",
       "21          0.690698        0.041190        3.677507       0.882060\n",
       "22          0.657743        0.042137        3.675343       0.883635\n",
       "23          0.619988        0.054097        3.671006       0.879224\n",
       "24          0.585414        0.052585        3.670951       0.867469\n",
       "25          0.548723        0.054440        3.673598       0.863241\n",
       "26          0.527266        0.049630        3.673988       0.867117\n",
       "27          0.504405        0.040376        3.671702       0.864567\n",
       "28          0.468534        0.033020        3.671324       0.862536\n",
       "29          0.448633        0.032191        3.675074       0.864713\n",
       "..               ...             ...             ...            ...\n",
       "150         0.002763        0.001175        3.669922       0.857628\n",
       "151         0.002672        0.001125        3.669912       0.857620\n",
       "152         0.002581        0.001072        3.669924       0.857608\n",
       "153         0.002476        0.001022        3.669928       0.857628\n",
       "154         0.002364        0.000983        3.669927       0.857662\n",
       "155         0.002272        0.000966        3.669925       0.857657\n",
       "156         0.002210        0.000941        3.669938       0.857659\n",
       "157         0.002123        0.000927        3.669947       0.857648\n",
       "158         0.002025        0.000858        3.669927       0.857657\n",
       "159         0.001937        0.000837        3.669913       0.857663\n",
       "160         0.001858        0.000843        3.669908       0.857660\n",
       "161         0.001801        0.000820        3.669912       0.857653\n",
       "162         0.001726        0.000781        3.669914       0.857660\n",
       "163         0.001659        0.000770        3.669927       0.857648\n",
       "164         0.001596        0.000718        3.669916       0.857654\n",
       "165         0.001554        0.000687        3.669910       0.857650\n",
       "166         0.001518        0.000631        3.669920       0.857650\n",
       "167         0.001469        0.000552        3.669911       0.857665\n",
       "168         0.001458        0.000543        3.669907       0.857669\n",
       "169         0.001430        0.000517        3.669904       0.857674\n",
       "170         0.001400        0.000489        3.669902       0.857671\n",
       "171         0.001379        0.000447        3.669904       0.857668\n",
       "172         0.001367        0.000425        3.669908       0.857663\n",
       "173         0.001334        0.000357        3.669904       0.857668\n",
       "174         0.001323        0.000336        3.669900       0.857674\n",
       "175         0.001299        0.000289        3.669898       0.857676\n",
       "176         0.001285        0.000261        3.669897       0.857678\n",
       "177         0.001275        0.000239        3.669903       0.857669\n",
       "178         0.001263        0.000217        3.669901       0.857672\n",
       "179         0.001259        0.000208        3.669902       0.857672\n",
       "\n",
       "[180 rows x 4 columns]"
      ]
     },
     "execution_count": 59,
     "metadata": {},
     "output_type": "execute_result"
    }
   ],
   "source": [
    "cv_result"
   ]
  },
  {
   "cell_type": "code",
   "execution_count": 61,
   "metadata": {},
   "outputs": [
    {
     "data": {
      "image/png": "[encoded data removed]",
      "text/plain": [
       "<Figure size 1440x360 with 1 Axes>"
      ]
     },
     "metadata": {
      "needs_background": "light"
     },
     "output_type": "display_data"
    }
   ],
   "source": [
    "plt.figure(figsize=(20,5))\n",
    "plt.grid()\n",
    "plt.plot(range(1,181), cv_result.iloc[:,0], c='red',label=\"train,gamma=0\")\n",
    "plt.plot(range(1,181),cv_result.iloc[:,2],c=\"red\",label=\"test,gamma=0\")\n",
    "plt.legend()\n",
    "plt.show()"
   ]
  },
  {
   "cell_type": "markdown",
   "metadata": {},
   "source": [
    "#### 用cv调整gamma"
   ]
  },
  {
   "cell_type": "code",
   "execution_count": 62,
   "metadata": {},
   "outputs": [
    {
     "data": {
      "image/png": "[encoded data removed]",
      "text/plain": [
       "<Figure size 1440x360 with 1 Axes>"
      ]
     },
     "metadata": {
      "needs_background": "light"
     },
     "output_type": "display_data"
    }
   ],
   "source": [
    "param1 = {'obj':'reg:linear','gamma':0,\"eval_metric\":\"mae\"}\n",
    "num_round = 180\n",
    "n_fold = 5\n",
    "cv_result = xgb.cv(param1, dfull, num_round,n_fold)\n",
    "\n",
    "plt.figure(figsize=(20,5))\n",
    "plt.grid()\n",
    "plt.plot(range(1,181), cv_result.iloc[:,0], c='red',label=\"train,gamma=0\")\n",
    "plt.plot(range(1,181),cv_result.iloc[:,2],c=\"orange\",label=\"test,gamma=0\")\n",
    "plt.legend()\n",
    "plt.show()"
   ]
  },
  {
   "cell_type": "code",
   "execution_count": 64,
   "metadata": {},
   "outputs": [
    {
     "name": "stdout",
     "output_type": "stream",
     "text": [
      "00:00:535898\n",
      "00:00:540841\n"
     ]
    },
    {
     "data": {
      "image/png": "[encoded data removed]",
      "text/plain": [
       "<Figure size 1440x360 with 1 Axes>"
      ]
     },
     "metadata": {
      "needs_background": "light"
     },
     "output_type": "display_data"
    }
   ],
   "source": [
    "param1 = {'obj':'reg:linear','gamma':0}\n",
    "param2 = {'obj':'reg:linear','gamma':20}\n",
    "num_round = 180\n",
    "n_fold = 5\n",
    "time0 = time()\n",
    "cv_result1 = xgb.cv(param1, dfull, num_round,n_fold)\n",
    "print(datetime.datetime.fromtimestamp(time()-time0).strftime(\"%M:%S:%f\"))\n",
    "\n",
    "time0 = time()\n",
    "cv_result2 = xgb.cv(param2, dfull, num_round,n_fold)\n",
    "print(datetime.datetime.fromtimestamp(time()-time0).strftime(\"%M:%S:%f\"))\n",
    "\n",
    "plt.figure(figsize=(20,5))\n",
    "plt.grid()\n",
    "plt.plot(range(1,181), cv_result1.iloc[:,0], c='red',label=\"train,gamma=0\")\n",
    "plt.plot(range(1,181),cv_result1.iloc[:,2],c=\"orange\",label=\"test,gamma=0\")\n",
    "plt.plot(range(1,181), cv_result2.iloc[:,0], c='green',label=\"train,gamma=20\")\n",
    "plt.plot(range(1,181),cv_result2.iloc[:,2],c=\"blue\",label=\"test,gamma=20\")\n",
    "plt.legend()\n",
    "plt.show()"
   ]
  },
  {
   "cell_type": "code",
   "execution_count": 65,
   "metadata": {},
   "outputs": [],
   "source": [
    "# 分类的例子\n",
    "from sklearn.datasets import load_breast_cancer\n",
    "data2 = load_breast_cancer()"
   ]
  },
  {
   "cell_type": "code",
   "execution_count": 66,
   "metadata": {},
   "outputs": [],
   "source": [
    "x2 = data2.data\n",
    "y2 = data2.target"
   ]
  },
  {
   "cell_type": "code",
   "execution_count": 67,
   "metadata": {},
   "outputs": [],
   "source": [
    "dfull2 = xgb.DMatrix(x2,y2)"
   ]
  },
  {
   "cell_type": "code",
   "execution_count": 69,
   "metadata": {},
   "outputs": [
    {
     "name": "stdout",
     "output_type": "stream",
     "text": [
      "00:00:474141\n",
      "00:00:840832\n"
     ]
    },
    {
     "data": {
      "image/png": "[encoded data removed]",
      "text/plain": [
       "<Figure size 1440x360 with 1 Axes>"
      ]
     },
     "metadata": {
      "needs_background": "light"
     },
     "output_type": "display_data"
    }
   ],
   "source": [
    "param1 = {'obj':'binary:logistic','gamma':0, 'n_fold':5}\n",
    "param2 = {'obj':'binary:logistic','gamma':2, 'n_fold':5}\n",
    "num_round = 100\n",
    "time0 = time()\n",
    "cv_result1 = xgb.cv(param1, dfull2, num_round,n_fold,metrics=(\"error\"))\n",
    "print(datetime.datetime.fromtimestamp(time()-time0).strftime(\"%M:%S:%f\"))\n",
    "\n",
    "time0 = time()\n",
    "cv_result2 = xgb.cv(param2, dfull2, num_round,n_fold,metrics=(\"error\"))\n",
    "print(datetime.datetime.fromtimestamp(time()-time0).strftime(\"%M:%S:%f\"))\n",
    "\n",
    "plt.figure(figsize=(20,5))\n",
    "plt.grid()\n",
    "plt.plot(range(1,101), cv_result1.iloc[:,0], c='red',label=\"train,gamma=0\")\n",
    "plt.plot(range(1,101),cv_result1.iloc[:,2],c=\"orange\",label=\"test,gamma=0\")\n",
    "plt.plot(range(1,101), cv_result2.iloc[:,0], c='green',label=\"train,gamma=20\")\n",
    "plt.plot(range(1,101),cv_result2.iloc[:,2],c=\"blue\",label=\"test,gamma=20\")\n",
    "plt.legend()\n",
    "plt.show()"
   ]
  },
  {
   "cell_type": "markdown",
   "metadata": {},
   "source": [
    "### 使用pickle保存和调用模型"
   ]
  },
  {
   "cell_type": "code",
   "execution_count": 70,
   "metadata": {},
   "outputs": [],
   "source": [
    "import pickle"
   ]
  },
  {
   "cell_type": "code",
   "execution_count": 71,
   "metadata": {},
   "outputs": [],
   "source": [
    "dtrain = xgb.DMatrix(Xtrain, Ytrain)"
   ]
  },
  {
   "cell_type": "code",
   "execution_count": 21,
   "metadata": {},
   "outputs": [],
   "source": [
    "param = {\n",
    "    'obj':'reg:linear'\n",
    "    ,'subsample':1\n",
    "    ,'eta':0.05\n",
    "    ,'gamma':20\n",
    "    ,'lambda':3.5\n",
    "    ,'alpha':0.2\n",
    "    ,'max_depth':4\n",
    "    ,'colsample_bytree':0.4\n",
    "    ,'colsample_bylevel':0.6\n",
    "    ,'colsample_bynode':1\n",
    "}\n",
    "num_round = 180"
   ]
  },
  {
   "cell_type": "code",
   "execution_count": 73,
   "metadata": {},
   "outputs": [],
   "source": [
    "bst = xgb.train(param, dtrain, num_round)"
   ]
  },
  {
   "cell_type": "code",
   "execution_count": 74,
   "metadata": {},
   "outputs": [],
   "source": [
    "pickle.dump(bst,open(\"xgboost_bonston.dat\",\"wb\"))"
   ]
  },
  {
   "cell_type": "code",
   "execution_count": 2,
   "metadata": {},
   "outputs": [
    {
     "data": {
      "text/plain": [
       "['',\n",
       " '/root/caicai',\n",
       " '/root/anaconda3/lib/python37.zip',\n",
       " '/root/anaconda3/lib/python3.7',\n",
       " '/root/anaconda3/lib/python3.7/lib-dynload',\n",
       " '/root/anaconda3/lib/python3.7/site-packages',\n",
       " '/root/anaconda3/lib/python3.7/site-packages/IPython/extensions',\n",
       " '/root/.ipython']"
      ]
     },
     "execution_count": 2,
     "metadata": {},
     "output_type": "execute_result"
    }
   ],
   "source": [
    "import sys\n",
    "sys.path"
   ]
  },
  {
   "cell_type": "code",
   "execution_count": 4,
   "metadata": {},
   "outputs": [
    {
     "name": "stdout",
     "output_type": "stream",
     "text": [
      "Loaded model from: xgboost_bonston.dat\n"
     ]
    }
   ],
   "source": [
    "#重新打开jupyter lab\n",
    "from sklearn.datasets import load_boston\n",
    "from sklearn.model_selection import train_test_split as TTS\n",
    "from sklearn.metrics import mean_squared_error as MSE\n",
    "import pickle\n",
    "import xgboost as xgb\n",
    "data = load_boston()\n",
    "X = data.data\n",
    "y = data.target\n",
    "Xtrain,Xtest,Ytrain,Ytest = TTS(X,y,test_size=0.3,random_state=420)\n",
    "#注意，如果我们保存的模型是xgboost库中建立的模型，则导入的数据类型也必须是xgboost库中的数据类型\n",
    "dtest = xgb.DMatrix(Xtest,Ytest)\n",
    "#导入模型\n",
    "loaded_model = pickle.load(open(\"xgboost_bonston.dat\", \"rb\"))\n",
    "print(\"Loaded model from: xgboost_bonston.dat\")\n",
    "#做预测\n",
    "ypreds = loaded_model.predict(dtest)"
   ]
  },
  {
   "cell_type": "code",
   "execution_count": 5,
   "metadata": {},
   "outputs": [
    {
     "data": {
      "text/plain": [
       "array([ 7.4998302, 21.845915 , 32.505165 , 13.054165 , 10.1661825,\n",
       "       21.892918 , 15.431353 , 13.001125 , 14.025654 , 15.212159 ,\n",
       "       16.043104 , 35.4721   , 20.658983 , 30.531446 , 22.542038 ,\n",
       "       10.911757 , 13.336066 , 24.467514 , 26.546482 , 22.6516   ,\n",
       "       17.97271  , 17.09951  , 22.469597 , 23.486732 , 21.016348 ,\n",
       "       15.779765 , 23.077341 , 15.973325 , 23.349945 , 17.392336 ,\n",
       "       34.80874  , 20.125084 , 20.197718 , 23.797361 , 23.183956 ,\n",
       "       23.01137  , 15.484927 , 22.826704 , 18.744225 , 35.495205 ,\n",
       "       17.166714 , 20.241833 , 32.140602 , 18.336466 , 16.552105 ,\n",
       "       30.574333 , 46.003613 , 14.339776 , 10.188518 , 36.942215 ,\n",
       "       25.820702 , 20.766865 , 19.863428 , 48.2612   , 27.79691  ,\n",
       "       25.813189 , 19.60717  , 21.64606  , 17.61488  , 17.784615 ,\n",
       "       14.5045395, 23.420443 , 19.726149 , 30.671204 , 27.706844 ,\n",
       "       21.454355 , 21.672382 , 15.609307 , 21.780016 , 16.960058 ,\n",
       "       28.30772  , 41.132664 , 30.775215 , 23.394867 , 18.889954 ,\n",
       "       23.502972 , 40.09316  , 25.21085  , 21.616154 , 19.864191 ,\n",
       "       19.016283 , 48.370422 , 22.50414  ,  9.740993 , 26.39509  ,\n",
       "       23.514528 , 17.559484 , 21.022036 , 10.006553 , 11.58742  ,\n",
       "       20.131418 , 16.414383 , 43.614758 , 31.32977  , 23.856691 ,\n",
       "       11.562825 , 15.464688 , 21.134188 ,  6.999597 , 12.382152 ,\n",
       "       31.706448 , 15.562709 , 23.482555 , 24.24041  , 33.14935  ,\n",
       "       42.32419  , 19.181496 , 10.074031 , 23.151674 , 14.180592 ,\n",
       "       45.754173 , 20.099453 , 21.80601  , 24.357555 , 19.92576  ,\n",
       "       28.249441 , 22.627588 , 19.873217 , 47.79782  , 17.451303 ,\n",
       "       22.836615 , 22.876144 , 16.608007 , 18.139359 , 15.150876 ,\n",
       "       22.961393 , 31.414534 , 11.441296 , 20.712631 , 19.230091 ,\n",
       "       14.5709305, 20.05972  ,  7.5633726, 30.258425 , 28.98853  ,\n",
       "       21.102222 , 20.152502 , 13.196375 , 11.117341 , 18.20519  ,\n",
       "       42.806065 , 17.011438 , 21.60104  , 20.02758  , 32.242813 ,\n",
       "       18.938627 , 12.185516 , 42.965282 , 26.88733  , 22.430733 ,\n",
       "       17.443878 , 16.468946 ], dtype=float32)"
      ]
     },
     "execution_count": 5,
     "metadata": {},
     "output_type": "execute_result"
    }
   ],
   "source": [
    "ypreds"
   ]
  },
  {
   "cell_type": "code",
   "execution_count": 6,
   "metadata": {},
   "outputs": [
    {
     "data": {
      "text/plain": [
       "5.426628294116023"
      ]
     },
     "execution_count": 6,
     "metadata": {},
     "output_type": "execute_result"
    }
   ],
   "source": [
    "from sklearn.metrics import mean_squared_error as MSE, r2_score\n",
    "MSE(Ytest, ypreds)"
   ]
  },
  {
   "cell_type": "code",
   "execution_count": 7,
   "metadata": {},
   "outputs": [
    {
     "data": {
      "text/plain": [
       "0.9416829475556784"
      ]
     },
     "execution_count": 7,
     "metadata": {},
     "output_type": "execute_result"
    }
   ],
   "source": [
    "r2_score(Ytest, ypreds)"
   ]
  },
  {
   "cell_type": "markdown",
   "metadata": {},
   "source": [
    "### 使用Joblib保存和调用模型"
   ]
  },
  {
   "cell_type": "code",
   "execution_count": 22,
   "metadata": {},
   "outputs": [
    {
     "name": "stdout",
     "output_type": "stream",
     "text": [
      "[16:04:59] WARNING: /workspace/src/learner.cc:480: \n",
      "Parameters: { obj } might not be used.\n",
      "\n",
      "  This may not be accurate due to some parameters are only used in language bindings but\n",
      "  passed down to XGBoost core.  Or some parameters are not used but slip through this\n",
      "  verification. Please open an issue if you find above cases.\n",
      "\n",
      "\n"
     ]
    }
   ],
   "source": [
    "import xgboost as xgb\n",
    "bst = xgb.train(param, dtrain, num_round)"
   ]
  },
  {
   "cell_type": "code",
   "execution_count": 23,
   "metadata": {},
   "outputs": [],
   "source": [
    "import joblib"
   ]
  },
  {
   "cell_type": "code",
   "execution_count": 24,
   "metadata": {},
   "outputs": [
    {
     "data": {
      "text/plain": [
       "['xgboost_boston_joblib.dat']"
      ]
     },
     "execution_count": 24,
     "metadata": {},
     "output_type": "execute_result"
    }
   ],
   "source": [
    "# 导出\n",
    "joblib.dump(bst, \"xgboost_boston_joblib.dat\")"
   ]
  },
  {
   "cell_type": "code",
   "execution_count": 25,
   "metadata": {},
   "outputs": [],
   "source": [
    "# 导入\n",
    "loaded_model = joblib.load(\"xgboost_boston_joblib.dat\")"
   ]
  },
  {
   "cell_type": "markdown",
   "metadata": {},
   "source": [
    "## XGBoost中的样本不均衡问题"
   ]
  },
  {
   "cell_type": "code",
   "execution_count": 27,
   "metadata": {},
   "outputs": [],
   "source": [
    "import numpy as np\n",
    "import xgboost as xgb\n",
    "import matplotlib.pyplot as plt\n",
    "from xgboost import XGBClassifier as XGBC\n",
    "from sklearn.datasets import make_blobs\n",
    "from sklearn.model_selection import train_test_split as TTS\n",
    "from sklearn.metrics import confusion_matrix as cm, recall_score as recall, roc_auc_score as auc"
   ]
  },
  {
   "cell_type": "code",
   "execution_count": 29,
   "metadata": {},
   "outputs": [],
   "source": [
    "class_1 = 500\n",
    "class_2 = 50\n",
    "centers = [[0.0,0.0],[2.0,2.0]]\n",
    "clusters_std = [1.5, 0.5]\n",
    "X, y = make_blobs(n_samples=[class_1, class_2]\n",
    "                  ,centers=centers\n",
    "                  ,cluster_std=clusters_std\n",
    "                  ,random_state=0\n",
    "                  ,shuffle=False\n",
    "                 )\n",
    "Xtrain,Xtest,Ytrain,Ytest = TTS(X,y,test_size=0.3,random_state=420)"
   ]
  },
  {
   "cell_type": "markdown",
   "metadata": {},
   "source": [
    "### sklearn下建模"
   ]
  },
  {
   "cell_type": "code",
   "execution_count": 30,
   "metadata": {},
   "outputs": [
    {
     "data": {
      "text/plain": [
       "0.9272727272727272"
      ]
     },
     "execution_count": 30,
     "metadata": {},
     "output_type": "execute_result"
    }
   ],
   "source": [
    "clf = XGBC().fit(Xtrain, Ytrain)\n",
    "ypred = clf.predict(Xtest)\n",
    "clf.score(Xtest,Ytest)"
   ]
  },
  {
   "cell_type": "code",
   "execution_count": 31,
   "metadata": {},
   "outputs": [
    {
     "data": {
      "text/plain": [
       "array([[  9,   4],\n",
       "       [  8, 144]])"
      ]
     },
     "execution_count": 31,
     "metadata": {},
     "output_type": "execute_result"
    }
   ],
   "source": [
    "cm(Ytest, ypred, labels=[1,0])"
   ]
  },
  {
   "cell_type": "code",
   "execution_count": 33,
   "metadata": {},
   "outputs": [
    {
     "data": {
      "text/plain": [
       "0.6923076923076923"
      ]
     },
     "execution_count": 33,
     "metadata": {},
     "output_type": "execute_result"
    }
   ],
   "source": [
    "recall(Ytest,ypred)"
   ]
  },
  {
   "cell_type": "code",
   "execution_count": 34,
   "metadata": {},
   "outputs": [
    {
     "data": {
      "text/plain": [
       "0.9701417004048585"
      ]
     },
     "execution_count": 34,
     "metadata": {},
     "output_type": "execute_result"
    }
   ],
   "source": [
    "auc(Ytest, clf.predict_proba(Xtest)[:,1])"
   ]
  },
  {
   "cell_type": "markdown",
   "metadata": {},
   "source": [
    "#### 引入scale_pos_weight参数"
   ]
  },
  {
   "cell_type": "code",
   "execution_count": 35,
   "metadata": {},
   "outputs": [],
   "source": [
    "clf_ = XGBC(scale_pos_weight=10).fit(Xtrain,Ytrain)"
   ]
  },
  {
   "cell_type": "code",
   "execution_count": 36,
   "metadata": {},
   "outputs": [],
   "source": [
    "ypred_ = clf_.predict(Xtest)"
   ]
  },
  {
   "cell_type": "code",
   "execution_count": 38,
   "metadata": {},
   "outputs": [
    {
     "data": {
      "text/plain": [
       "0.9333333333333333"
      ]
     },
     "execution_count": 38,
     "metadata": {},
     "output_type": "execute_result"
    }
   ],
   "source": [
    "clf_.score(Xtest, Ytest)"
   ]
  },
  {
   "cell_type": "code",
   "execution_count": 39,
   "metadata": {},
   "outputs": [
    {
     "data": {
      "text/plain": [
       "array([[144,   8],\n",
       "       [  3,  10]])"
      ]
     },
     "execution_count": 39,
     "metadata": {},
     "output_type": "execute_result"
    }
   ],
   "source": [
    "cm(Ytest,ypred_)"
   ]
  },
  {
   "cell_type": "code",
   "execution_count": 40,
   "metadata": {},
   "outputs": [
    {
     "data": {
      "text/plain": [
       "0.7692307692307693"
      ]
     },
     "execution_count": 40,
     "metadata": {},
     "output_type": "execute_result"
    }
   ],
   "source": [
    "recall(Ytest,ypred_)"
   ]
  },
  {
   "cell_type": "code",
   "execution_count": 41,
   "metadata": {},
   "outputs": [
    {
     "data": {
      "text/plain": [
       "0.9696356275303644"
      ]
     },
     "execution_count": 41,
     "metadata": {},
     "output_type": "execute_result"
    }
   ],
   "source": [
    "auc(Ytest, clf_.predict_proba(Xtest)[:,1])"
   ]
  },
  {
   "cell_type": "code",
   "execution_count": 42,
   "metadata": {},
   "outputs": [
    {
     "name": "stdout",
     "output_type": "stream",
     "text": [
      "1\n",
      "\tAuccuracy:0.9333333333333333\n",
      "\tRecall:0.7692307692307693\n",
      "\tAUC:0.9696356275303644\n",
      "5\n",
      "\tAuccuracy:0.9333333333333333\n",
      "\tRecall:0.7692307692307693\n",
      "\tAUC:0.9696356275303644\n",
      "10\n",
      "\tAuccuracy:0.9333333333333333\n",
      "\tRecall:0.7692307692307693\n",
      "\tAUC:0.9696356275303644\n",
      "20\n",
      "\tAuccuracy:0.9333333333333333\n",
      "\tRecall:0.7692307692307693\n",
      "\tAUC:0.9696356275303644\n",
      "30\n",
      "\tAuccuracy:0.9333333333333333\n",
      "\tRecall:0.7692307692307693\n",
      "\tAUC:0.9696356275303644\n"
     ]
    }
   ],
   "source": [
    "for i in [1,5,10,20,30]:\n",
    "    clf_ = XGBC(scale_pos_weight=10).fit(Xtrain,Ytrain)\n",
    "    ypred_ = clf_.predict(Xtest)\n",
    "    print(i)\n",
    "    print(f\"\\tAuccuracy:{clf_.score(Xtest, Ytest)}\")\n",
    "    print(f\"\\tRecall:{recall(Ytest,ypred_)}\")\n",
    "    print(f\"\\tAUC:{auc(Ytest, clf_.predict_proba(Xtest)[:,1])}\")"
   ]
  },
  {
   "cell_type": "markdown",
   "metadata": {},
   "source": [
    "### XGBoost模式"
   ]
  },
  {
   "cell_type": "code",
   "execution_count": 43,
   "metadata": {},
   "outputs": [],
   "source": [
    "dtrain = xgb.DMatrix(Xtrain, Ytrain)\n",
    "dtest = xgb.DMatrix(Xtest, Ytest)"
   ]
  },
  {
   "cell_type": "code",
   "execution_count": 44,
   "metadata": {},
   "outputs": [],
   "source": [
    "param = {'objective':\"binary:logistic\", 'eta':0.1,\"scale_pos_weight\":1}\n",
    "num_round = 100"
   ]
  },
  {
   "cell_type": "code",
   "execution_count": 45,
   "metadata": {},
   "outputs": [],
   "source": [
    "bst = xgb.train(param, dtrain, num_round)"
   ]
  },
  {
   "cell_type": "code",
   "execution_count": 46,
   "metadata": {},
   "outputs": [],
   "source": [
    "preds = bst.predict(dtest)"
   ]
  },
  {
   "cell_type": "code",
   "execution_count": 47,
   "metadata": {},
   "outputs": [
    {
     "data": {
      "text/plain": [
       "array([0.00110357, 0.00761518, 0.00110357, 0.00110357, 0.93531454,\n",
       "       0.00466839, 0.00110357, 0.00110357, 0.00110357, 0.00110357,\n",
       "       0.00110357, 0.00410493, 0.00454478, 0.00571528, 0.00751026,\n",
       "       0.00110357, 0.00110357, 0.00110357, 0.00110357, 0.00110357,\n",
       "       0.00110357, 0.00110357, 0.00110357, 0.00110357, 0.00110357,\n",
       "       0.00712637, 0.00110357, 0.00110357, 0.00110357, 0.00110357,\n",
       "       0.00110357, 0.00110357, 0.00110357, 0.00793251, 0.00466839,\n",
       "       0.00110357, 0.00339395, 0.00657186, 0.00110357, 0.00457053,\n",
       "       0.00571528, 0.0026763 , 0.00110357, 0.00110357, 0.00110357,\n",
       "       0.00884932, 0.00712637, 0.00110357, 0.00712637, 0.00466839,\n",
       "       0.00110357, 0.00110357, 0.00712637, 0.00110357, 0.00110357,\n",
       "       0.00110357, 0.00110357, 0.63748044, 0.00110357, 0.00793251,\n",
       "       0.00110357, 0.00451971, 0.00644181, 0.00110357, 0.00110357,\n",
       "       0.00110357, 0.00110357, 0.00751026, 0.00712637, 0.00110357,\n",
       "       0.00866458, 0.00110357, 0.00110357, 0.00110357, 0.91610426,\n",
       "       0.00110357, 0.00110357, 0.89246494, 0.0026763 , 0.00501714,\n",
       "       0.00761518, 0.00884932, 0.00339395, 0.00110357, 0.93531454,\n",
       "       0.00110357, 0.00110357, 0.00110357, 0.82530665, 0.00751026,\n",
       "       0.00110357, 0.35174078, 0.00110357, 0.00110357, 0.70393246,\n",
       "       0.00110357, 0.76804197, 0.00110357, 0.00110357, 0.00110357,\n",
       "       0.00110357, 0.96656513, 0.00110357, 0.00571528, 0.25400913,\n",
       "       0.00110357, 0.00110357, 0.00110357, 0.00110357, 0.00457053,\n",
       "       0.00110357, 0.00110357, 0.00110357, 0.89246494, 0.00110357,\n",
       "       0.9518535 , 0.0026763 , 0.00712637, 0.00110357, 0.00501714,\n",
       "       0.00110357, 0.00110357, 0.00571528, 0.00110357, 0.00110357,\n",
       "       0.00712637, 0.00110357, 0.00110357, 0.00712637, 0.00110357,\n",
       "       0.25136763, 0.00110357, 0.00110357, 0.00110357, 0.00110357,\n",
       "       0.00110357, 0.8904051 , 0.3876418 , 0.00110357, 0.00457053,\n",
       "       0.00657186, 0.9366597 , 0.00866458, 0.00110357, 0.00501714,\n",
       "       0.00501714, 0.00110357, 0.00110357, 0.00368543, 0.00501714,\n",
       "       0.9830577 , 0.00110357, 0.00644181, 0.00110357, 0.00571528,\n",
       "       0.00110357, 0.00110357, 0.00110357, 0.00110357, 0.00466839,\n",
       "       0.00110357, 0.00110357, 0.92388713, 0.90231985, 0.80084217],\n",
       "      dtype=float32)"
      ]
     },
     "execution_count": 47,
     "metadata": {},
     "output_type": "execute_result"
    }
   ],
   "source": [
    "preds"
   ]
  },
  {
   "cell_type": "code",
   "execution_count": 48,
   "metadata": {},
   "outputs": [],
   "source": [
    "# 需要自己设定阈值\n",
    "ypred = preds.copy()\n",
    "ypred[preds > 0.5] = 1\n",
    "ypred[preds != 1] = 0"
   ]
  },
  {
   "cell_type": "code",
   "execution_count": 49,
   "metadata": {},
   "outputs": [],
   "source": [
    "scale_pos_weight = [1,5,10]\n",
    "names = [\n",
    "    \"negative vs positive:1\"\n",
    "    ,\"negative vs positive:5\"\n",
    "    ,\"negative vs positive:10\"\n",
    "]"
   ]
  },
  {
   "cell_type": "code",
   "execution_count": 53,
   "metadata": {},
   "outputs": [
    {
     "name": "stdout",
     "output_type": "stream",
     "text": [
      "negative vs positive:1\n",
      "\tAuccuracy:0.9212121212121213\n",
      "\tRecall:0.0\n",
      "\tAUC:0.9741902834008097\n",
      "negative vs positive:5\n",
      "\tAuccuracy:0.9212121212121213\n",
      "\tRecall:0.0\n",
      "\tAUC:0.9741902834008097\n",
      "negative vs positive:10\n",
      "\tAuccuracy:0.9212121212121213\n",
      "\tRecall:0.0\n",
      "\tAUC:0.9741902834008097\n"
     ]
    }
   ],
   "source": [
    "from sklearn.metrics import accuracy_score as accuracy\n",
    "for name,i in zip(names, scale_pos_weight):\n",
    "    param = {'objective':\"binary:logistic\", 'eta':0.1,\"scale_pos_weight\":i}\n",
    "    clf = xgb.train(param, dtrain, num_round)\n",
    "    preds = bst.predict(dtest)\n",
    "    \n",
    "    # 需要自己设定阈值\n",
    "    ypred = preds.copy()\n",
    "    ypred[preds > 0.5] = 1\n",
    "    ypred[preds != 1] = 0\n",
    "    print(name)\n",
    "    print(f\"\\tAuccuracy:{accuracy(Ytest, ypred)}\")\n",
    "    print(f\"\\tRecall:{recall(Ytest,ypred)}\")\n",
    "    print(f\"\\tAUC:{auc(Ytest, preds)}\")"
   ]
  },
  {
   "cell_type": "code",
   "execution_count": 54,
   "metadata": {},
   "outputs": [
    {
     "name": "stdout",
     "output_type": "stream",
     "text": [
      "negative vs positive:1,thresholds:0.3\n",
      "\tAuccuracy:0.9212121212121213\n",
      "\tRecall:0.0\n",
      "\tAUC:0.9741902834008097\n",
      "negative vs positive:1,thresholds:0.5\n",
      "\tAuccuracy:0.9212121212121213\n",
      "\tRecall:0.0\n",
      "\tAUC:0.9741902834008097\n",
      "negative vs positive:1,thresholds:0.7\n",
      "\tAuccuracy:0.9212121212121213\n",
      "\tRecall:0.0\n",
      "\tAUC:0.9741902834008097\n",
      "negative vs positive:1,thresholds:0.9\n",
      "\tAuccuracy:0.9212121212121213\n",
      "\tRecall:0.0\n",
      "\tAUC:0.9741902834008097\n",
      "negative vs positive:5,thresholds:0.3\n",
      "\tAuccuracy:0.9212121212121213\n",
      "\tRecall:0.0\n",
      "\tAUC:0.9741902834008097\n",
      "negative vs positive:5,thresholds:0.5\n",
      "\tAuccuracy:0.9212121212121213\n",
      "\tRecall:0.0\n",
      "\tAUC:0.9741902834008097\n",
      "negative vs positive:5,thresholds:0.7\n",
      "\tAuccuracy:0.9212121212121213\n",
      "\tRecall:0.0\n",
      "\tAUC:0.9741902834008097\n",
      "negative vs positive:5,thresholds:0.9\n",
      "\tAuccuracy:0.9212121212121213\n",
      "\tRecall:0.0\n",
      "\tAUC:0.9741902834008097\n",
      "negative vs positive:10,thresholds:0.3\n",
      "\tAuccuracy:0.9212121212121213\n",
      "\tRecall:0.0\n",
      "\tAUC:0.9741902834008097\n",
      "negative vs positive:10,thresholds:0.5\n",
      "\tAuccuracy:0.9212121212121213\n",
      "\tRecall:0.0\n",
      "\tAUC:0.9741902834008097\n",
      "negative vs positive:10,thresholds:0.7\n",
      "\tAuccuracy:0.9212121212121213\n",
      "\tRecall:0.0\n",
      "\tAUC:0.9741902834008097\n",
      "negative vs positive:10,thresholds:0.9\n",
      "\tAuccuracy:0.9212121212121213\n",
      "\tRecall:0.0\n",
      "\tAUC:0.9741902834008097\n"
     ]
    }
   ],
   "source": [
    "# 尝试不同的阈值\n",
    "for name,i in zip(names, scale_pos_weight):\n",
    "    for thres in [0.3,0.5,0.7,0.9]:\n",
    "        param = {'objective':\"binary:logistic\", 'eta':0.1,\"scale_pos_weight\":i}\n",
    "        clf = xgb.train(param, dtrain, num_round)\n",
    "        preds = bst.predict(dtest)\n",
    "\n",
    "        # 需要自己设定阈值\n",
    "        ypred = preds.copy()\n",
    "        ypred[preds > 0.5] = 1\n",
    "        ypred[preds != 1] = 0\n",
    "        print(f\"{name},thresholds:{thres}\")\n",
    "        print(f\"\\tAuccuracy:{accuracy(Ytest, ypred)}\")\n",
    "        print(f\"\\tRecall:{recall(Ytest,ypred)}\")\n",
    "        print(f\"\\tAUC:{auc(Ytest, preds)}\")"
   ]
  },
  {
   "cell_type": "code",
   "execution_count": null,
   "metadata": {},
   "outputs": [],
   "source": []
  }
 ],
 "metadata": {
  "kernelspec": {
   "display_name": "Python 3",
   "language": "python",
   "name": "python3"
  },
  "language_info": {
   "codemirror_mode": {
    "name": "ipython",
    "version": 3
   },
   "file_extension": ".py",
   "mimetype": "text/x-python",
   "name": "python",
   "nbconvert_exporter": "python",
   "pygments_lexer": "ipython3",
   "version": "3.7.0"
  }
 },
 "nbformat": 4,
 "nbformat_minor": 4
}
